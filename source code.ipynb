{
  "nbformat": 4,
  "nbformat_minor": 0,
  "metadata": {
    "kernelspec": {
      "display_name": "Python 3",
      "language": "python",
      "name": "python3"
    },
    "language_info": {
      "codemirror_mode": {
        "name": "ipython",
        "version": 3
      },
      "file_extension": ".py",
      "mimetype": "text/x-python",
      "name": "python",
      "nbconvert_exporter": "python",
      "pygments_lexer": "ipython3",
      "version": "3.7.6"
    },
    "colab": {
      "name": "State Farm Data Challenge.ipynb",
      "provenance": [],
      "collapsed_sections": [],
      "toc_visible": true
    },
    "accelerator": "GPU"
  },
  "cells": [
    {
      "cell_type": "code",
      "metadata": {
        "id": "0UlQ6Gtpz0g-"
      },
      "source": [
        "import pandas as pd\n",
        "import numpy as np\n",
        "import math\n",
        "\n",
        "from collections import Counter\n",
        "import matplotlib.pyplot as plt\n",
        "import seaborn as sns\n",
        "\n",
        "from sklearn.model_selection import train_test_split\n",
        "from sklearn.model_selection import RandomizedSearchCV\n",
        "from sklearn.preprocessing import OneHotEncoder\n",
        "from sklearn.compose import ColumnTransformer \n",
        "from sklearn.preprocessing import MinMaxScaler \n",
        "\n",
        "from imblearn.combine import SMOTETomek\n",
        "\n",
        "from sklearn.feature_selection import RFECV\n",
        "from sklearn.linear_model import LogisticRegression\n",
        "from sklearn.metrics import roc_auc_score\n",
        "from sklearn.metrics import recall_score\n",
        "from sklearn.metrics import classification_report\n",
        "from sklearn.metrics import f1_score\n",
        "from sklearn.ensemble import RandomForestClassifier\n",
        "\n",
        "import tensorflow as tf\n",
        "from tensorflow import keras"
      ],
      "execution_count": 60,
      "outputs": []
    },
    {
      "cell_type": "markdown",
      "metadata": {
        "id": "4OZAPwAUz0hD"
      },
      "source": [
        "## Load Data "
      ]
    },
    {
      "cell_type": "code",
      "metadata": {
        "id": "bJCe6y5iz0hE"
      },
      "source": [
        "claims = pd.read_excel('/content/Claim_Data.xlsm')\n",
        "predictors = pd.read_excel('/content/Predictor Dataset.xlsm')\n",
        "loss = pd.read_excel('/content/Subsequent_Loss_Experience.xlsm')"
      ],
      "execution_count": 4,
      "outputs": []
    },
    {
      "cell_type": "code",
      "metadata": {
        "scrolled": false,
        "colab": {
          "base_uri": "https://localhost:8080/",
          "height": 204
        },
        "id": "Kv4syu3Mz0hE",
        "outputId": "43f74ecd-8a1e-41a5-979a-e0cfa62efaba"
      },
      "source": [
        "claims.head()"
      ],
      "execution_count": null,
      "outputs": [
        {
          "output_type": "execute_result",
          "data": {
            "text/html": [
              "<div>\n",
              "<style scoped>\n",
              "    .dataframe tbody tr th:only-of-type {\n",
              "        vertical-align: middle;\n",
              "    }\n",
              "\n",
              "    .dataframe tbody tr th {\n",
              "        vertical-align: top;\n",
              "    }\n",
              "\n",
              "    .dataframe thead th {\n",
              "        text-align: right;\n",
              "    }\n",
              "</style>\n",
              "<table border=\"1\" class=\"dataframe\">\n",
              "  <thead>\n",
              "    <tr style=\"text-align: right;\">\n",
              "      <th></th>\n",
              "      <th>hhld_id</th>\n",
              "      <th>clm_dates</th>\n",
              "      <th>aft_ind</th>\n",
              "      <th>pd_amt</th>\n",
              "    </tr>\n",
              "  </thead>\n",
              "  <tbody>\n",
              "    <tr>\n",
              "      <th>0</th>\n",
              "      <td>6599</td>\n",
              "      <td>2010-12-09</td>\n",
              "      <td>1</td>\n",
              "      <td>5736.39</td>\n",
              "    </tr>\n",
              "    <tr>\n",
              "      <th>1</th>\n",
              "      <td>1454</td>\n",
              "      <td>2010-06-14</td>\n",
              "      <td>1</td>\n",
              "      <td>3257.49</td>\n",
              "    </tr>\n",
              "    <tr>\n",
              "      <th>2</th>\n",
              "      <td>13691</td>\n",
              "      <td>2011-01-08</td>\n",
              "      <td>1</td>\n",
              "      <td>8190.45</td>\n",
              "    </tr>\n",
              "    <tr>\n",
              "      <th>3</th>\n",
              "      <td>10347</td>\n",
              "      <td>2014-02-09</td>\n",
              "      <td>0</td>\n",
              "      <td>428.48</td>\n",
              "    </tr>\n",
              "    <tr>\n",
              "      <th>4</th>\n",
              "      <td>6051</td>\n",
              "      <td>2010-03-31</td>\n",
              "      <td>0</td>\n",
              "      <td>107.57</td>\n",
              "    </tr>\n",
              "  </tbody>\n",
              "</table>\n",
              "</div>"
            ],
            "text/plain": [
              "   hhld_id  clm_dates  aft_ind   pd_amt\n",
              "0     6599 2010-12-09        1  5736.39\n",
              "1     1454 2010-06-14        1  3257.49\n",
              "2    13691 2011-01-08        1  8190.45\n",
              "3    10347 2014-02-09        0   428.48\n",
              "4     6051 2010-03-31        0   107.57"
            ]
          },
          "metadata": {
            "tags": []
          },
          "execution_count": 3
        }
      ]
    },
    {
      "cell_type": "code",
      "metadata": {
        "colab": {
          "base_uri": "https://localhost:8080/"
        },
        "id": "yP8vcmZMz0hE",
        "outputId": "21358f86-71a2-4a2c-9a60-08ed0954007b"
      },
      "source": [
        "claims.info()"
      ],
      "execution_count": null,
      "outputs": [
        {
          "output_type": "stream",
          "text": [
            "<class 'pandas.core.frame.DataFrame'>\n",
            "RangeIndex: 5000 entries, 0 to 4999\n",
            "Data columns (total 4 columns):\n",
            " #   Column     Non-Null Count  Dtype         \n",
            "---  ------     --------------  -----         \n",
            " 0   hhld_id    5000 non-null   int64         \n",
            " 1   clm_dates  5000 non-null   datetime64[ns]\n",
            " 2   aft_ind    5000 non-null   int64         \n",
            " 3   pd_amt     5000 non-null   float64       \n",
            "dtypes: datetime64[ns](1), float64(1), int64(2)\n",
            "memory usage: 156.4 KB\n"
          ],
          "name": "stdout"
        }
      ]
    },
    {
      "cell_type": "code",
      "metadata": {
        "scrolled": true,
        "colab": {
          "base_uri": "https://localhost:8080/",
          "height": 224
        },
        "id": "1e87GHDGz0hE",
        "outputId": "e224a7df-2cce-424e-bebf-425178c5a0be"
      },
      "source": [
        "predictors.head()"
      ],
      "execution_count": null,
      "outputs": [
        {
          "output_type": "execute_result",
          "data": {
            "text/html": [
              "<div>\n",
              "<style scoped>\n",
              "    .dataframe tbody tr th:only-of-type {\n",
              "        vertical-align: middle;\n",
              "    }\n",
              "\n",
              "    .dataframe tbody tr th {\n",
              "        vertical-align: top;\n",
              "    }\n",
              "\n",
              "    .dataframe thead th {\n",
              "        text-align: right;\n",
              "    }\n",
              "</style>\n",
              "<table border=\"1\" class=\"dataframe\">\n",
              "  <thead>\n",
              "    <tr style=\"text-align: right;\">\n",
              "      <th></th>\n",
              "      <th>hhld_id</th>\n",
              "      <th>drvr_cnt</th>\n",
              "      <th>veh_cnt</th>\n",
              "      <th>min_age</th>\n",
              "      <th>hoh_age</th>\n",
              "      <th>max_age</th>\n",
              "      <th>avg_age</th>\n",
              "      <th>min_mon_lic</th>\n",
              "      <th>hoh_mon_lic</th>\n",
              "      <th>max_mon_lic</th>\n",
              "      <th>avg_mon_lic</th>\n",
              "      <th>cnt_yth</th>\n",
              "      <th>cnt_female</th>\n",
              "      <th>cnt_male</th>\n",
              "      <th>cnt_married</th>\n",
              "      <th>cnt_single</th>\n",
              "      <th>hoh_married</th>\n",
              "      <th>cnt_auto</th>\n",
              "      <th>cnt_mtrcyc</th>\n",
              "      <th>avg_majr_viol</th>\n",
              "      <th>cnt_majr_viol</th>\n",
              "      <th>cnt_minr_viol</th>\n",
              "      <th>avg_minr_viol</th>\n",
              "      <th>cnt_lic_susp</th>\n",
              "      <th>curnt_insurer</th>\n",
              "      <th>time_w_carr</th>\n",
              "      <th>inforce_ind</th>\n",
              "      <th>prior_bi</th>\n",
              "      <th>fire_ind</th>\n",
              "      <th>homeowner_ind</th>\n",
              "      <th>veh_lien_cnt</th>\n",
              "      <th>veh_lease_cnt</th>\n",
              "      <th>veh_own_cnt</th>\n",
              "      <th>monthly_pay_ind</th>\n",
              "      <th>veh_w_coll_cnt</th>\n",
              "      <th>veh_w_comp_cnt</th>\n",
              "      <th>veh_w_ers_cnt</th>\n",
              "      <th>curnt_bi_low</th>\n",
              "      <th>curnt_bi_upp</th>\n",
              "      <th>credit_score</th>\n",
              "      <th>zipcode</th>\n",
              "    </tr>\n",
              "  </thead>\n",
              "  <tbody>\n",
              "    <tr>\n",
              "      <th>0</th>\n",
              "      <td>15937</td>\n",
              "      <td>2</td>\n",
              "      <td>1</td>\n",
              "      <td>43.789978</td>\n",
              "      <td>51.366176</td>\n",
              "      <td>51.366176</td>\n",
              "      <td>47.578077</td>\n",
              "      <td>333.479735</td>\n",
              "      <td>424.394117</td>\n",
              "      <td>424.394117</td>\n",
              "      <td>378.936926</td>\n",
              "      <td>0</td>\n",
              "      <td>2</td>\n",
              "      <td>0</td>\n",
              "      <td>1</td>\n",
              "      <td>1</td>\n",
              "      <td>True</td>\n",
              "      <td>1</td>\n",
              "      <td>0</td>\n",
              "      <td>0.0</td>\n",
              "      <td>0</td>\n",
              "      <td>0</td>\n",
              "      <td>0.0</td>\n",
              "      <td>0</td>\n",
              "      <td>PROGRESSIVE</td>\n",
              "      <td>3.0</td>\n",
              "      <td>1</td>\n",
              "      <td>25000.0</td>\n",
              "      <td>0</td>\n",
              "      <td>0</td>\n",
              "      <td>0.0</td>\n",
              "      <td>0</td>\n",
              "      <td>0</td>\n",
              "      <td>0</td>\n",
              "      <td>1</td>\n",
              "      <td>1</td>\n",
              "      <td>1</td>\n",
              "      <td>100</td>\n",
              "      <td>100</td>\n",
              "      <td>825.949106</td>\n",
              "      <td>35741</td>\n",
              "    </tr>\n",
              "    <tr>\n",
              "      <th>1</th>\n",
              "      <td>13778</td>\n",
              "      <td>1</td>\n",
              "      <td>1</td>\n",
              "      <td>35.644631</td>\n",
              "      <td>35.644631</td>\n",
              "      <td>35.644631</td>\n",
              "      <td>35.644631</td>\n",
              "      <td>235.735566</td>\n",
              "      <td>235.735566</td>\n",
              "      <td>235.735566</td>\n",
              "      <td>235.735566</td>\n",
              "      <td>0</td>\n",
              "      <td>0</td>\n",
              "      <td>1</td>\n",
              "      <td>0</td>\n",
              "      <td>1</td>\n",
              "      <td>False</td>\n",
              "      <td>1</td>\n",
              "      <td>0</td>\n",
              "      <td>0.0</td>\n",
              "      <td>0</td>\n",
              "      <td>0</td>\n",
              "      <td>0.0</td>\n",
              "      <td>0</td>\n",
              "      <td>OTHER</td>\n",
              "      <td>1.5</td>\n",
              "      <td>1</td>\n",
              "      <td>25000.0</td>\n",
              "      <td>1</td>\n",
              "      <td>1</td>\n",
              "      <td>NaN</td>\n",
              "      <td>0</td>\n",
              "      <td>0</td>\n",
              "      <td>0</td>\n",
              "      <td>1</td>\n",
              "      <td>1</td>\n",
              "      <td>0</td>\n",
              "      <td>25</td>\n",
              "      <td>25</td>\n",
              "      <td>684.650216</td>\n",
              "      <td>87884</td>\n",
              "    </tr>\n",
              "    <tr>\n",
              "      <th>2</th>\n",
              "      <td>16063</td>\n",
              "      <td>1</td>\n",
              "      <td>1</td>\n",
              "      <td>16.000000</td>\n",
              "      <td>16.000000</td>\n",
              "      <td>16.000000</td>\n",
              "      <td>16.000000</td>\n",
              "      <td>0.000000</td>\n",
              "      <td>0.000000</td>\n",
              "      <td>0.000000</td>\n",
              "      <td>0.000000</td>\n",
              "      <td>1</td>\n",
              "      <td>1</td>\n",
              "      <td>0</td>\n",
              "      <td>0</td>\n",
              "      <td>1</td>\n",
              "      <td>False</td>\n",
              "      <td>1</td>\n",
              "      <td>0</td>\n",
              "      <td>0.0</td>\n",
              "      <td>0</td>\n",
              "      <td>2</td>\n",
              "      <td>2.0</td>\n",
              "      <td>0</td>\n",
              "      <td>FARMERS</td>\n",
              "      <td>5.0</td>\n",
              "      <td>1</td>\n",
              "      <td>50000.0</td>\n",
              "      <td>0</td>\n",
              "      <td>1</td>\n",
              "      <td>NaN</td>\n",
              "      <td>0</td>\n",
              "      <td>0</td>\n",
              "      <td>0</td>\n",
              "      <td>1</td>\n",
              "      <td>1</td>\n",
              "      <td>1</td>\n",
              "      <td>100</td>\n",
              "      <td>100</td>\n",
              "      <td>596.318289</td>\n",
              "      <td>81525</td>\n",
              "    </tr>\n",
              "    <tr>\n",
              "      <th>3</th>\n",
              "      <td>12789</td>\n",
              "      <td>1</td>\n",
              "      <td>1</td>\n",
              "      <td>17.882127</td>\n",
              "      <td>17.882127</td>\n",
              "      <td>17.882127</td>\n",
              "      <td>17.882127</td>\n",
              "      <td>22.585530</td>\n",
              "      <td>22.585530</td>\n",
              "      <td>22.585530</td>\n",
              "      <td>22.585530</td>\n",
              "      <td>1</td>\n",
              "      <td>1</td>\n",
              "      <td>0</td>\n",
              "      <td>0</td>\n",
              "      <td>1</td>\n",
              "      <td>False</td>\n",
              "      <td>1</td>\n",
              "      <td>0</td>\n",
              "      <td>0.0</td>\n",
              "      <td>0</td>\n",
              "      <td>0</td>\n",
              "      <td>0.0</td>\n",
              "      <td>0</td>\n",
              "      <td>OTHER</td>\n",
              "      <td>0.0</td>\n",
              "      <td>1</td>\n",
              "      <td>100000.0</td>\n",
              "      <td>1</td>\n",
              "      <td>0</td>\n",
              "      <td>NaN</td>\n",
              "      <td>0</td>\n",
              "      <td>0</td>\n",
              "      <td>1</td>\n",
              "      <td>1</td>\n",
              "      <td>1</td>\n",
              "      <td>1</td>\n",
              "      <td>100</td>\n",
              "      <td>100</td>\n",
              "      <td>636.757859</td>\n",
              "      <td>35741</td>\n",
              "    </tr>\n",
              "    <tr>\n",
              "      <th>4</th>\n",
              "      <td>5122</td>\n",
              "      <td>1</td>\n",
              "      <td>1</td>\n",
              "      <td>16.000000</td>\n",
              "      <td>16.000000</td>\n",
              "      <td>16.000000</td>\n",
              "      <td>16.000000</td>\n",
              "      <td>0.000000</td>\n",
              "      <td>0.000000</td>\n",
              "      <td>0.000000</td>\n",
              "      <td>0.000000</td>\n",
              "      <td>1</td>\n",
              "      <td>0</td>\n",
              "      <td>1</td>\n",
              "      <td>0</td>\n",
              "      <td>1</td>\n",
              "      <td>False</td>\n",
              "      <td>1</td>\n",
              "      <td>0</td>\n",
              "      <td>0.0</td>\n",
              "      <td>0</td>\n",
              "      <td>0</td>\n",
              "      <td>0.0</td>\n",
              "      <td>0</td>\n",
              "      <td>OTHER</td>\n",
              "      <td>2.5</td>\n",
              "      <td>1</td>\n",
              "      <td>25000.0</td>\n",
              "      <td>0</td>\n",
              "      <td>0</td>\n",
              "      <td>NaN</td>\n",
              "      <td>0</td>\n",
              "      <td>0</td>\n",
              "      <td>0</td>\n",
              "      <td>0</td>\n",
              "      <td>1</td>\n",
              "      <td>1</td>\n",
              "      <td>50</td>\n",
              "      <td>50</td>\n",
              "      <td>669.569992</td>\n",
              "      <td>59792</td>\n",
              "    </tr>\n",
              "  </tbody>\n",
              "</table>\n",
              "</div>"
            ],
            "text/plain": [
              "   hhld_id  drvr_cnt  veh_cnt  ...  curnt_bi_upp  credit_score  zipcode\n",
              "0    15937         2        1  ...           100    825.949106    35741\n",
              "1    13778         1        1  ...            25    684.650216    87884\n",
              "2    16063         1        1  ...           100    596.318289    81525\n",
              "3    12789         1        1  ...           100    636.757859    35741\n",
              "4     5122         1        1  ...            50    669.569992    59792\n",
              "\n",
              "[5 rows x 41 columns]"
            ]
          },
          "metadata": {
            "tags": []
          },
          "execution_count": 6
        }
      ]
    },
    {
      "cell_type": "code",
      "metadata": {
        "scrolled": true,
        "colab": {
          "base_uri": "https://localhost:8080/"
        },
        "id": "APJUYkQOz0hE",
        "outputId": "2a7f95a9-f4fe-42c5-96d8-e14b7e1dbcbb"
      },
      "source": [
        "predictors.info()"
      ],
      "execution_count": null,
      "outputs": [
        {
          "output_type": "stream",
          "text": [
            "<class 'pandas.core.frame.DataFrame'>\n",
            "RangeIndex: 20000 entries, 0 to 19999\n",
            "Data columns (total 41 columns):\n",
            " #   Column           Non-Null Count  Dtype  \n",
            "---  ------           --------------  -----  \n",
            " 0   hhld_id          20000 non-null  int64  \n",
            " 1   drvr_cnt         20000 non-null  int64  \n",
            " 2   veh_cnt          20000 non-null  int64  \n",
            " 3   min_age          20000 non-null  float64\n",
            " 4   hoh_age          20000 non-null  float64\n",
            " 5   max_age          20000 non-null  float64\n",
            " 6   avg_age          20000 non-null  float64\n",
            " 7   min_mon_lic      20000 non-null  float64\n",
            " 8   hoh_mon_lic      20000 non-null  float64\n",
            " 9   max_mon_lic      20000 non-null  float64\n",
            " 10  avg_mon_lic      20000 non-null  float64\n",
            " 11  cnt_yth          20000 non-null  int64  \n",
            " 12  cnt_female       20000 non-null  int64  \n",
            " 13  cnt_male         20000 non-null  int64  \n",
            " 14  cnt_married      20000 non-null  int64  \n",
            " 15  cnt_single       20000 non-null  int64  \n",
            " 16  hoh_married      20000 non-null  bool   \n",
            " 17  cnt_auto         20000 non-null  int64  \n",
            " 18  cnt_mtrcyc       20000 non-null  int64  \n",
            " 19  avg_majr_viol    20000 non-null  float64\n",
            " 20  cnt_majr_viol    20000 non-null  int64  \n",
            " 21  cnt_minr_viol    20000 non-null  int64  \n",
            " 22  avg_minr_viol    20000 non-null  float64\n",
            " 23  cnt_lic_susp     20000 non-null  int64  \n",
            " 24  curnt_insurer    20000 non-null  object \n",
            " 25  time_w_carr      12990 non-null  float64\n",
            " 26  inforce_ind      20000 non-null  int64  \n",
            " 27  prior_bi         12990 non-null  float64\n",
            " 28  fire_ind         20000 non-null  int64  \n",
            " 29  homeowner_ind    20000 non-null  int64  \n",
            " 30  veh_lien_cnt     26 non-null     float64\n",
            " 31  veh_lease_cnt    20000 non-null  int64  \n",
            " 32  veh_own_cnt      20000 non-null  int64  \n",
            " 33  monthly_pay_ind  20000 non-null  int64  \n",
            " 34  veh_w_coll_cnt   20000 non-null  int64  \n",
            " 35  veh_w_comp_cnt   20000 non-null  int64  \n",
            " 36  veh_w_ers_cnt    20000 non-null  int64  \n",
            " 37  curnt_bi_low     20000 non-null  int64  \n",
            " 38  curnt_bi_upp     20000 non-null  int64  \n",
            " 39  credit_score     19079 non-null  float64\n",
            " 40  zipcode          20000 non-null  int64  \n",
            "dtypes: bool(1), float64(14), int64(25), object(1)\n",
            "memory usage: 6.1+ MB\n"
          ],
          "name": "stdout"
        }
      ]
    },
    {
      "cell_type": "code",
      "metadata": {
        "scrolled": true,
        "colab": {
          "base_uri": "https://localhost:8080/",
          "height": 204
        },
        "id": "wdHf9jsQz0hF",
        "outputId": "cc05d18b-1401-404b-dd52-43256ef57158"
      },
      "source": [
        "loss.head()"
      ],
      "execution_count": null,
      "outputs": [
        {
          "output_type": "execute_result",
          "data": {
            "text/html": [
              "<div>\n",
              "<style scoped>\n",
              "    .dataframe tbody tr th:only-of-type {\n",
              "        vertical-align: middle;\n",
              "    }\n",
              "\n",
              "    .dataframe tbody tr th {\n",
              "        vertical-align: top;\n",
              "    }\n",
              "\n",
              "    .dataframe thead th {\n",
              "        text-align: right;\n",
              "    }\n",
              "</style>\n",
              "<table border=\"1\" class=\"dataframe\">\n",
              "  <thead>\n",
              "    <tr style=\"text-align: right;\">\n",
              "      <th></th>\n",
              "      <th>hhld_id</th>\n",
              "      <th>premium</th>\n",
              "      <th>pd_amt</th>\n",
              "      <th>loss_ratio</th>\n",
              "      <th>future_clm_ind</th>\n",
              "    </tr>\n",
              "  </thead>\n",
              "  <tbody>\n",
              "    <tr>\n",
              "      <th>0</th>\n",
              "      <td>15937</td>\n",
              "      <td>133.6</td>\n",
              "      <td>0.0</td>\n",
              "      <td>0.0</td>\n",
              "      <td>0</td>\n",
              "    </tr>\n",
              "    <tr>\n",
              "      <th>1</th>\n",
              "      <td>13778</td>\n",
              "      <td>145.8</td>\n",
              "      <td>0.0</td>\n",
              "      <td>0.0</td>\n",
              "      <td>0</td>\n",
              "    </tr>\n",
              "    <tr>\n",
              "      <th>2</th>\n",
              "      <td>16063</td>\n",
              "      <td>167.0</td>\n",
              "      <td>0.0</td>\n",
              "      <td>0.0</td>\n",
              "      <td>0</td>\n",
              "    </tr>\n",
              "    <tr>\n",
              "      <th>3</th>\n",
              "      <td>12789</td>\n",
              "      <td>150.3</td>\n",
              "      <td>0.0</td>\n",
              "      <td>0.0</td>\n",
              "      <td>0</td>\n",
              "    </tr>\n",
              "    <tr>\n",
              "      <th>4</th>\n",
              "      <td>5122</td>\n",
              "      <td>117.0</td>\n",
              "      <td>0.0</td>\n",
              "      <td>0.0</td>\n",
              "      <td>0</td>\n",
              "    </tr>\n",
              "  </tbody>\n",
              "</table>\n",
              "</div>"
            ],
            "text/plain": [
              "   hhld_id  premium  pd_amt  loss_ratio  future_clm_ind\n",
              "0    15937    133.6     0.0         0.0               0\n",
              "1    13778    145.8     0.0         0.0               0\n",
              "2    16063    167.0     0.0         0.0               0\n",
              "3    12789    150.3     0.0         0.0               0\n",
              "4     5122    117.0     0.0         0.0               0"
            ]
          },
          "metadata": {
            "tags": []
          },
          "execution_count": 8
        }
      ]
    },
    {
      "cell_type": "code",
      "metadata": {
        "colab": {
          "base_uri": "https://localhost:8080/"
        },
        "id": "AaGzbfNRz0hF",
        "outputId": "7d549028-d65f-46c2-c97b-d64c4a05c348"
      },
      "source": [
        "loss.info()"
      ],
      "execution_count": null,
      "outputs": [
        {
          "output_type": "stream",
          "text": [
            "<class 'pandas.core.frame.DataFrame'>\n",
            "RangeIndex: 20000 entries, 0 to 19999\n",
            "Data columns (total 5 columns):\n",
            " #   Column          Non-Null Count  Dtype  \n",
            "---  ------          --------------  -----  \n",
            " 0   hhld_id         20000 non-null  int64  \n",
            " 1   premium         20000 non-null  float64\n",
            " 2   pd_amt          20000 non-null  float64\n",
            " 3   loss_ratio      20000 non-null  float64\n",
            " 4   future_clm_ind  20000 non-null  int64  \n",
            "dtypes: float64(3), int64(2)\n",
            "memory usage: 781.4 KB\n"
          ],
          "name": "stdout"
        }
      ]
    },
    {
      "cell_type": "markdown",
      "metadata": {
        "id": "5B8R3onEz0hF"
      },
      "source": [
        "## Exploratory Data Analysis and Data Cleaning"
      ]
    },
    {
      "cell_type": "markdown",
      "metadata": {
        "id": "bNy9hDqYz0hF"
      },
      "source": [
        "### Claim Data"
      ]
    },
    {
      "cell_type": "code",
      "metadata": {
        "id": "p74Y4GBzz0hF",
        "colab": {
          "base_uri": "https://localhost:8080/"
        },
        "outputId": "115dc6a3-f1c3-4cb5-aae1-040b390dee47"
      },
      "source": [
        "# number of unique household_id\n",
        "len(np.unique(claims.hhld_id))"
      ],
      "execution_count": 5,
      "outputs": [
        {
          "output_type": "execute_result",
          "data": {
            "text/plain": [
              "4382"
            ]
          },
          "metadata": {
            "tags": []
          },
          "execution_count": 5
        }
      ]
    },
    {
      "cell_type": "code",
      "metadata": {
        "scrolled": true,
        "id": "O05TEyiIz0hG"
      },
      "source": [
        "# find out not unique household id\n",
        "# np.unique(claims.hhld_id)[np.unique(claims.hhld_id, return_counts = True)[1] != 1]"
      ],
      "execution_count": null,
      "outputs": []
    },
    {
      "cell_type": "code",
      "metadata": {
        "colab": {
          "base_uri": "https://localhost:8080/",
          "height": 173
        },
        "id": "3PiGhi3yz0hG",
        "outputId": "dee189c8-ba0f-43a2-f61c-257351213de9"
      },
      "source": [
        "cnt_of_claims = Counter(np.unique(claims.hhld_id, return_counts = True)[1])\n",
        "temp = pd.DataFrame.from_dict(cnt_of_claims, orient='index').reset_index()\n",
        "temp.columns = ['key','value']\n",
        "temp"
      ],
      "execution_count": null,
      "outputs": [
        {
          "output_type": "execute_result",
          "data": {
            "text/html": [
              "<div>\n",
              "<style scoped>\n",
              "    .dataframe tbody tr th:only-of-type {\n",
              "        vertical-align: middle;\n",
              "    }\n",
              "\n",
              "    .dataframe tbody tr th {\n",
              "        vertical-align: top;\n",
              "    }\n",
              "\n",
              "    .dataframe thead th {\n",
              "        text-align: right;\n",
              "    }\n",
              "</style>\n",
              "<table border=\"1\" class=\"dataframe\">\n",
              "  <thead>\n",
              "    <tr style=\"text-align: right;\">\n",
              "      <th></th>\n",
              "      <th>key</th>\n",
              "      <th>value</th>\n",
              "    </tr>\n",
              "  </thead>\n",
              "  <tbody>\n",
              "    <tr>\n",
              "      <th>0</th>\n",
              "      <td>1</td>\n",
              "      <td>2925</td>\n",
              "    </tr>\n",
              "    <tr>\n",
              "      <th>1</th>\n",
              "      <td>2</td>\n",
              "      <td>276</td>\n",
              "    </tr>\n",
              "    <tr>\n",
              "      <th>2</th>\n",
              "      <td>3</td>\n",
              "      <td>16</td>\n",
              "    </tr>\n",
              "    <tr>\n",
              "      <th>3</th>\n",
              "      <td>4</td>\n",
              "      <td>1</td>\n",
              "    </tr>\n",
              "  </tbody>\n",
              "</table>\n",
              "</div>"
            ],
            "text/plain": [
              "   key  value\n",
              "0    1   2925\n",
              "1    2    276\n",
              "2    3     16\n",
              "3    4      1"
            ]
          },
          "metadata": {
            "tags": []
          },
          "execution_count": 212
        }
      ]
    },
    {
      "cell_type": "code",
      "metadata": {
        "colab": {
          "base_uri": "https://localhost:8080/",
          "height": 409
        },
        "id": "TO7PBn0Kz0hH",
        "outputId": "83d404dc-a4ba-43b5-c163-d61b893785b7"
      },
      "source": [
        "plt.figure(figsize=(8, 6))\n",
        "splot=sns.barplot(x=\"key\",y=\"value\",data=temp,color='#2F57C1')\n",
        "for p in splot.patches:\n",
        "    splot.annotate(format(p.get_height(), '.1f'), \n",
        "                   (p.get_x() + p.get_width() / 2., p.get_height()), \n",
        "                   ha = 'center', va = 'center', \n",
        "                   xytext = (0, 9), \n",
        "                   textcoords = 'offset points')\n",
        "plt.xlabel(\"number of claims per household\", size=14)\n",
        "plt.ylabel(\"counts\", size=14)"
      ],
      "execution_count": null,
      "outputs": [
        {
          "output_type": "execute_result",
          "data": {
            "text/plain": [
              "Text(0, 0.5, 'counts')"
            ]
          },
          "metadata": {
            "tags": []
          },
          "execution_count": 213
        },
        {
          "output_type": "display_data",
          "data": {
            "image/png": "[encoded data removed]",
            "text/plain": [
              "<Figure size 576x432 with 1 Axes>"
            ]
          },
          "metadata": {
            "tags": [],
            "needs_background": "light"
          }
        }
      ]
    },
    {
      "cell_type": "code",
      "metadata": {
        "id": "BiPZVvcNz0hH",
        "outputId": "a2d41bdb-b946-493d-9776-54df83b2cfc6"
      },
      "source": [
        "# check how many claims are made before 1/1/2017\n",
        "sum(claims.clm_dates < '2017-01-01')"
      ],
      "execution_count": null,
      "outputs": [
        {
          "output_type": "execute_result",
          "data": {
            "text/plain": [
              "4995"
            ]
          },
          "metadata": {
            "tags": []
          },
          "execution_count": 6
        }
      ]
    },
    {
      "cell_type": "code",
      "metadata": {
        "id": "Xo9uapRUz0hH",
        "outputId": "c103871f-84d8-4284-cfb5-a9489ad094dc"
      },
      "source": [
        "# check how many claims have at least one dollar paid out\n",
        "sum(claims.pd_amt >= 1)"
      ],
      "execution_count": null,
      "outputs": [
        {
          "output_type": "execute_result",
          "data": {
            "text/plain": [
              "4892"
            ]
          },
          "metadata": {
            "tags": []
          },
          "execution_count": 7
        }
      ]
    },
    {
      "cell_type": "code",
      "metadata": {
        "scrolled": true,
        "id": "SX6J1Q6Cz0hH",
        "outputId": "776ef594-b96a-4667-ae36-05f9812b9fbb"
      },
      "source": [
        "# find out which claims are made after 1/1/2017 and exclude them\n",
        "claims[claims.clm_dates >= '2017-01-01']"
      ],
      "execution_count": null,
      "outputs": [
        {
          "output_type": "execute_result",
          "data": {
            "text/html": [
              "<div>\n",
              "<style scoped>\n",
              "    .dataframe tbody tr th:only-of-type {\n",
              "        vertical-align: middle;\n",
              "    }\n",
              "\n",
              "    .dataframe tbody tr th {\n",
              "        vertical-align: top;\n",
              "    }\n",
              "\n",
              "    .dataframe thead th {\n",
              "        text-align: right;\n",
              "    }\n",
              "</style>\n",
              "<table border=\"1\" class=\"dataframe\">\n",
              "  <thead>\n",
              "    <tr style=\"text-align: right;\">\n",
              "      <th></th>\n",
              "      <th>hhld_id</th>\n",
              "      <th>clm_dates</th>\n",
              "      <th>aft_ind</th>\n",
              "      <th>pd_amt</th>\n",
              "    </tr>\n",
              "  </thead>\n",
              "  <tbody>\n",
              "    <tr>\n",
              "      <th>665</th>\n",
              "      <td>4217</td>\n",
              "      <td>2017-03-27</td>\n",
              "      <td>1</td>\n",
              "      <td>0.00</td>\n",
              "    </tr>\n",
              "    <tr>\n",
              "      <th>1096</th>\n",
              "      <td>6285</td>\n",
              "      <td>2017-08-24</td>\n",
              "      <td>0</td>\n",
              "      <td>196.01</td>\n",
              "    </tr>\n",
              "    <tr>\n",
              "      <th>2363</th>\n",
              "      <td>2839</td>\n",
              "      <td>2017-05-05</td>\n",
              "      <td>0</td>\n",
              "      <td>152.94</td>\n",
              "    </tr>\n",
              "    <tr>\n",
              "      <th>4210</th>\n",
              "      <td>9722</td>\n",
              "      <td>2017-09-03</td>\n",
              "      <td>0</td>\n",
              "      <td>167.17</td>\n",
              "    </tr>\n",
              "    <tr>\n",
              "      <th>4901</th>\n",
              "      <td>19118</td>\n",
              "      <td>2017-10-10</td>\n",
              "      <td>0</td>\n",
              "      <td>128.79</td>\n",
              "    </tr>\n",
              "  </tbody>\n",
              "</table>\n",
              "</div>"
            ],
            "text/plain": [
              "      hhld_id  clm_dates  aft_ind  pd_amt\n",
              "665      4217 2017-03-27        1    0.00\n",
              "1096     6285 2017-08-24        0  196.01\n",
              "2363     2839 2017-05-05        0  152.94\n",
              "4210     9722 2017-09-03        0  167.17\n",
              "4901    19118 2017-10-10        0  128.79"
            ]
          },
          "metadata": {
            "tags": []
          },
          "execution_count": 8
        }
      ]
    },
    {
      "cell_type": "code",
      "metadata": {
        "colab": {
          "base_uri": "https://localhost:8080/"
        },
        "id": "G18UkyY6z0hI",
        "outputId": "a8e865aa-b634-4c5b-ad57-312cf76f7622"
      },
      "source": [
        "# We want to focus on the last 5 year, so we also exclude the claims made before 1/1/2012\n",
        "claims = claims[(claims.clm_dates < '2017-01-01') & (claims.clm_dates >= '2012-01-01') & (claims.pd_amt >= 1)]\n",
        "claims.shape"
      ],
      "execution_count": 6,
      "outputs": [
        {
          "output_type": "execute_result",
          "data": {
            "text/plain": [
              "(3529, 4)"
            ]
          },
          "metadata": {
            "tags": []
          },
          "execution_count": 6
        }
      ]
    },
    {
      "cell_type": "markdown",
      "metadata": {
        "id": "Y4SSwjbIz0hI"
      },
      "source": [
        "### Predictor Data"
      ]
    },
    {
      "cell_type": "code",
      "metadata": {
        "id": "XJP6sQuSz0hI"
      },
      "source": [
        "# convert bool type variables to numeric\n",
        "predictors.hoh_married = (predictors.hoh_married).astype(int)"
      ],
      "execution_count": 7,
      "outputs": []
    },
    {
      "cell_type": "code",
      "metadata": {
        "colab": {
          "base_uri": "https://localhost:8080/"
        },
        "id": "uwmur-qqz0hI",
        "outputId": "253600c4-5621-40e4-8324-e63fff3caa1b"
      },
      "source": [
        "# check that all hhld_id are unique\n",
        "len(np.unique(predictors.hhld_id)) == len(predictors.hhld_id)"
      ],
      "execution_count": 8,
      "outputs": [
        {
          "output_type": "execute_result",
          "data": {
            "text/plain": [
              "True"
            ]
          },
          "metadata": {
            "tags": []
          },
          "execution_count": 8
        }
      ]
    },
    {
      "cell_type": "code",
      "metadata": {
        "scrolled": true,
        "colab": {
          "base_uri": "https://localhost:8080/"
        },
        "id": "e4InN9ckz0hI",
        "outputId": "aea33d97-d643-45d8-b5f6-10f4954222cf"
      },
      "source": [
        "# check unqiue current insurer\n",
        "np.unique(predictors.curnt_insurer, return_counts = True)"
      ],
      "execution_count": 9,
      "outputs": [
        {
          "output_type": "execute_result",
          "data": {
            "text/plain": [
              "(array(['ALLSTATE', 'AMERICAN FAMILY', 'FARMERS', 'GEICO',\n",
              "        'LIBERTY MUTUAL', 'MISSING', 'NATIONWIDE', 'OTHER', 'PROGRESSIVE'],\n",
              "       dtype=object),\n",
              " array([1882,  593, 1299, 2079,  898, 7010,  709, 3665, 1865]))"
            ]
          },
          "metadata": {
            "tags": []
          },
          "execution_count": 9
        }
      ]
    },
    {
      "cell_type": "code",
      "metadata": {
        "colab": {
          "base_uri": "https://localhost:8080/",
          "height": 328
        },
        "id": "me7FwfFDfTBp",
        "outputId": "5cb44a95-1d73-4079-9876-796bf4ea06a8"
      },
      "source": [
        "cnt_of_insurertype = Counter(predictors.curnt_insurer)\n",
        "temp = pd.DataFrame.from_dict(cnt_of_insurertype, orient='index').reset_index()\n",
        "temp.columns = ['key','value']\n",
        "temp = temp.sort_values('value', ascending=False)\n",
        "temp"
      ],
      "execution_count": 10,
      "outputs": [
        {
          "output_type": "execute_result",
          "data": {
            "text/html": [
              "<div>\n",
              "<style scoped>\n",
              "    .dataframe tbody tr th:only-of-type {\n",
              "        vertical-align: middle;\n",
              "    }\n",
              "\n",
              "    .dataframe tbody tr th {\n",
              "        vertical-align: top;\n",
              "    }\n",
              "\n",
              "    .dataframe thead th {\n",
              "        text-align: right;\n",
              "    }\n",
              "</style>\n",
              "<table border=\"1\" class=\"dataframe\">\n",
              "  <thead>\n",
              "    <tr style=\"text-align: right;\">\n",
              "      <th></th>\n",
              "      <th>key</th>\n",
              "      <th>value</th>\n",
              "    </tr>\n",
              "  </thead>\n",
              "  <tbody>\n",
              "    <tr>\n",
              "      <th>3</th>\n",
              "      <td>MISSING</td>\n",
              "      <td>7010</td>\n",
              "    </tr>\n",
              "    <tr>\n",
              "      <th>1</th>\n",
              "      <td>OTHER</td>\n",
              "      <td>3665</td>\n",
              "    </tr>\n",
              "    <tr>\n",
              "      <th>6</th>\n",
              "      <td>GEICO</td>\n",
              "      <td>2079</td>\n",
              "    </tr>\n",
              "    <tr>\n",
              "      <th>4</th>\n",
              "      <td>ALLSTATE</td>\n",
              "      <td>1882</td>\n",
              "    </tr>\n",
              "    <tr>\n",
              "      <th>0</th>\n",
              "      <td>PROGRESSIVE</td>\n",
              "      <td>1865</td>\n",
              "    </tr>\n",
              "    <tr>\n",
              "      <th>2</th>\n",
              "      <td>FARMERS</td>\n",
              "      <td>1299</td>\n",
              "    </tr>\n",
              "    <tr>\n",
              "      <th>7</th>\n",
              "      <td>LIBERTY MUTUAL</td>\n",
              "      <td>898</td>\n",
              "    </tr>\n",
              "    <tr>\n",
              "      <th>8</th>\n",
              "      <td>NATIONWIDE</td>\n",
              "      <td>709</td>\n",
              "    </tr>\n",
              "    <tr>\n",
              "      <th>5</th>\n",
              "      <td>AMERICAN FAMILY</td>\n",
              "      <td>593</td>\n",
              "    </tr>\n",
              "  </tbody>\n",
              "</table>\n",
              "</div>"
            ],
            "text/plain": [
              "               key  value\n",
              "3          MISSING   7010\n",
              "1            OTHER   3665\n",
              "6            GEICO   2079\n",
              "4         ALLSTATE   1882\n",
              "0      PROGRESSIVE   1865\n",
              "2          FARMERS   1299\n",
              "7   LIBERTY MUTUAL    898\n",
              "8       NATIONWIDE    709\n",
              "5  AMERICAN FAMILY    593"
            ]
          },
          "metadata": {
            "tags": []
          },
          "execution_count": 10
        }
      ]
    },
    {
      "cell_type": "code",
      "metadata": {
        "colab": {
          "base_uri": "https://localhost:8080/",
          "height": 409
        },
        "id": "Q-JXNhoRh-kB",
        "outputId": "bb19e786-4088-4101-eb3c-de8dde3342b3"
      },
      "source": [
        "plt.figure(figsize=(8, 6))\n",
        "splot = sns.barplot(y=\"key\", x=\"value\",data=temp, orient='h', color='#F1E60A')\n",
        "for p in splot.patches:\n",
        "    width = p.get_width()\n",
        "    plt.text(p.get_width(), p.get_y()+0.5*p.get_height(),\n",
        "              '%d' % int(width),\n",
        "              ha='center', va='center')\n",
        "plt.ylabel(\"Current Insurer\", size=14)\n",
        "plt.xlabel(\"counts\", size=14)"
      ],
      "execution_count": 11,
      "outputs": [
        {
          "output_type": "execute_result",
          "data": {
            "text/plain": [
              "Text(0.5, 0, 'counts')"
            ]
          },
          "metadata": {
            "tags": []
          },
          "execution_count": 11
        },
        {
          "output_type": "display_data",
          "data": {
            "image/png": "[encoded data removed]",
            "text/plain": [
              "<Figure size 576x432 with 1 Axes>"
            ]
          },
          "metadata": {
            "tags": [],
            "needs_background": "light"
          }
        }
      ]
    },
    {
      "cell_type": "code",
      "metadata": {
        "colab": {
          "base_uri": "https://localhost:8080/"
        },
        "id": "gbgCeIgWz0hJ",
        "outputId": "e195bc3b-9d06-41ed-fa8d-df099ec28863"
      },
      "source": [
        "# found that a 'MISSING' current insurer associats with NA's in 'time_w_carr' and 'prior_bi'\n",
        "print(all(predictors.hhld_id[predictors.curnt_insurer == 'MISSING'] \n",
        "          == predictors.hhld_id[predictors.time_w_carr.isnull()]))\n",
        "print(all(predictors.hhld_id[predictors.curnt_insurer == 'MISSING'] \n",
        "          == predictors.hhld_id[predictors.prior_bi.isnull()]))"
      ],
      "execution_count": null,
      "outputs": [
        {
          "output_type": "stream",
          "text": [
            "True\n",
            "True\n"
          ],
          "name": "stdout"
        }
      ]
    },
    {
      "cell_type": "code",
      "metadata": {
        "colab": {
          "base_uri": "https://localhost:8080/"
        },
        "id": "vU-Ihg6Zz0hJ",
        "outputId": "ca54c01e-59d7-456b-c370-c5a508ab2bac"
      },
      "source": [
        "# 'MISSING' current insurer also associates with 0 in 'inforce_ind', \n",
        "# so we can drop 'inforce_ind' to reduce multicollinearity\n",
        "print(all(predictors.hhld_id[predictors.curnt_insurer == 'MISSING'] \n",
        "    == predictors.hhld_id[predictors.inforce_ind == 0]))\n",
        "predictors = predictors.drop(columns = 'inforce_ind')"
      ],
      "execution_count": 12,
      "outputs": [
        {
          "output_type": "stream",
          "text": [
            "True\n"
          ],
          "name": "stdout"
        }
      ]
    },
    {
      "cell_type": "code",
      "metadata": {
        "colab": {
          "base_uri": "https://localhost:8080/"
        },
        "id": "_JMfj0cbz0hJ",
        "outputId": "960625f3-6c6a-42b8-b203-31db6af0ac7c"
      },
      "source": [
        "# check if number of vehicles in the household equals to number of automobile and motorcycles\n",
        "all(predictors.veh_cnt == predictors.cnt_auto + predictors.cnt_mtrcyc)"
      ],
      "execution_count": null,
      "outputs": [
        {
          "output_type": "execute_result",
          "data": {
            "text/plain": [
              "True"
            ]
          },
          "metadata": {
            "tags": []
          },
          "execution_count": 16
        }
      ]
    },
    {
      "cell_type": "code",
      "metadata": {
        "scrolled": true,
        "colab": {
          "base_uri": "https://localhost:8080/"
        },
        "id": "UmIVcCakz0hJ",
        "outputId": "0069b385-9df3-4f33-a067-efee4b5f11c1"
      },
      "source": [
        "# check if number of vehicles in the household is greater than or equal \n",
        "# to number of vehicle leased and owned\n",
        "all(predictors.veh_cnt >= predictors.veh_lien_cnt.apply(lambda x: 0 if math.isnan(x) else x) \n",
        "    + predictors.veh_lease_cnt + predictors.veh_own_cnt)"
      ],
      "execution_count": null,
      "outputs": [
        {
          "output_type": "execute_result",
          "data": {
            "text/plain": [
              "True"
            ]
          },
          "metadata": {
            "tags": []
          },
          "execution_count": 17
        }
      ]
    },
    {
      "cell_type": "code",
      "metadata": {
        "scrolled": false,
        "id": "RgAToeDXz0hK"
      },
      "source": [
        "# veh_lien_cnt has so many NA's, we want to impute it using the formula:\n",
        "# veh_cnt = veh_lien_cnt + veh_lease_cnt + veh_own_cnt\n",
        "lien_nan_idx = predictors.veh_lien_cnt.isnull()\n",
        "predictors.loc[lien_nan_idx, 'veh_lien_cnt'] = (predictors.veh_cnt[lien_nan_idx] \n",
        "                                                - predictors.veh_lease_cnt[lien_nan_idx] \n",
        "                                                - predictors.veh_own_cnt[lien_nan_idx]).astype(int)"
      ],
      "execution_count": 13,
      "outputs": []
    },
    {
      "cell_type": "code",
      "metadata": {
        "scrolled": false,
        "colab": {
          "base_uri": "https://localhost:8080/"
        },
        "id": "K8co152Oz0hK",
        "outputId": "c6b42a7c-c3bc-4643-ffda-bfbb3773a1bf"
      },
      "source": [
        "all(predictors.veh_cnt == predictors.veh_lien_cnt + predictors.veh_lease_cnt + predictors.veh_own_cnt)"
      ],
      "execution_count": null,
      "outputs": [
        {
          "output_type": "execute_result",
          "data": {
            "text/plain": [
              "False"
            ]
          },
          "metadata": {
            "tags": []
          },
          "execution_count": 19
        }
      ]
    },
    {
      "cell_type": "code",
      "metadata": {
        "colab": {
          "base_uri": "https://localhost:8080/"
        },
        "id": "gG3zDUSKz0hK",
        "outputId": "c825c1fa-6f98-4b67-fcf4-9ba744a93c51"
      },
      "source": [
        "# found that there is 1 case where left hand side is not equal to right hand side\n",
        "sum(predictors.veh_cnt != predictors.veh_lien_cnt + predictors.veh_lease_cnt + predictors.veh_own_cnt)"
      ],
      "execution_count": 14,
      "outputs": [
        {
          "output_type": "execute_result",
          "data": {
            "text/plain": [
              "1"
            ]
          },
          "metadata": {
            "tags": []
          },
          "execution_count": 14
        }
      ]
    },
    {
      "cell_type": "code",
      "metadata": {
        "colab": {
          "base_uri": "https://localhost:8080/"
        },
        "id": "g1sA1nNUz0hK",
        "outputId": "697cadb8-4168-44ca-b24b-093d177030c4"
      },
      "source": [
        "predictors.hhld_id[predictors.veh_cnt != predictors.veh_lien_cnt + predictors.veh_lease_cnt + predictors.veh_own_cnt]"
      ],
      "execution_count": null,
      "outputs": [
        {
          "output_type": "execute_result",
          "data": {
            "text/plain": [
              "0    15937\n",
              "Name: hhld_id, dtype: int64"
            ]
          },
          "metadata": {
            "tags": []
          },
          "execution_count": 8
        }
      ]
    },
    {
      "cell_type": "code",
      "metadata": {
        "scrolled": true,
        "colab": {
          "base_uri": "https://localhost:8080/",
          "height": 419
        },
        "id": "bNxRn_bnz0hK",
        "outputId": "664d7239-e35a-4472-8149-b4bc0d11a905"
      },
      "source": [
        "# sanity check\n",
        "predictors.loc[predictors.veh_cnt == 4, ['veh_cnt','veh_lien_cnt','veh_lease_cnt','veh_own_cnt']]"
      ],
      "execution_count": 15,
      "outputs": [
        {
          "output_type": "execute_result",
          "data": {
            "text/html": [
              "<div>\n",
              "<style scoped>\n",
              "    .dataframe tbody tr th:only-of-type {\n",
              "        vertical-align: middle;\n",
              "    }\n",
              "\n",
              "    .dataframe tbody tr th {\n",
              "        vertical-align: top;\n",
              "    }\n",
              "\n",
              "    .dataframe thead th {\n",
              "        text-align: right;\n",
              "    }\n",
              "</style>\n",
              "<table border=\"1\" class=\"dataframe\">\n",
              "  <thead>\n",
              "    <tr style=\"text-align: right;\">\n",
              "      <th></th>\n",
              "      <th>veh_cnt</th>\n",
              "      <th>veh_lien_cnt</th>\n",
              "      <th>veh_lease_cnt</th>\n",
              "      <th>veh_own_cnt</th>\n",
              "    </tr>\n",
              "  </thead>\n",
              "  <tbody>\n",
              "    <tr>\n",
              "      <th>49</th>\n",
              "      <td>4</td>\n",
              "      <td>2.0</td>\n",
              "      <td>0</td>\n",
              "      <td>2</td>\n",
              "    </tr>\n",
              "    <tr>\n",
              "      <th>85</th>\n",
              "      <td>4</td>\n",
              "      <td>4.0</td>\n",
              "      <td>0</td>\n",
              "      <td>0</td>\n",
              "    </tr>\n",
              "    <tr>\n",
              "      <th>89</th>\n",
              "      <td>4</td>\n",
              "      <td>3.0</td>\n",
              "      <td>0</td>\n",
              "      <td>1</td>\n",
              "    </tr>\n",
              "    <tr>\n",
              "      <th>171</th>\n",
              "      <td>4</td>\n",
              "      <td>3.0</td>\n",
              "      <td>0</td>\n",
              "      <td>1</td>\n",
              "    </tr>\n",
              "    <tr>\n",
              "      <th>303</th>\n",
              "      <td>4</td>\n",
              "      <td>2.0</td>\n",
              "      <td>0</td>\n",
              "      <td>2</td>\n",
              "    </tr>\n",
              "    <tr>\n",
              "      <th>...</th>\n",
              "      <td>...</td>\n",
              "      <td>...</td>\n",
              "      <td>...</td>\n",
              "      <td>...</td>\n",
              "    </tr>\n",
              "    <tr>\n",
              "      <th>19431</th>\n",
              "      <td>4</td>\n",
              "      <td>4.0</td>\n",
              "      <td>0</td>\n",
              "      <td>0</td>\n",
              "    </tr>\n",
              "    <tr>\n",
              "      <th>19564</th>\n",
              "      <td>4</td>\n",
              "      <td>3.0</td>\n",
              "      <td>0</td>\n",
              "      <td>1</td>\n",
              "    </tr>\n",
              "    <tr>\n",
              "      <th>19608</th>\n",
              "      <td>4</td>\n",
              "      <td>4.0</td>\n",
              "      <td>0</td>\n",
              "      <td>0</td>\n",
              "    </tr>\n",
              "    <tr>\n",
              "      <th>19799</th>\n",
              "      <td>4</td>\n",
              "      <td>3.0</td>\n",
              "      <td>0</td>\n",
              "      <td>1</td>\n",
              "    </tr>\n",
              "    <tr>\n",
              "      <th>19899</th>\n",
              "      <td>4</td>\n",
              "      <td>0.0</td>\n",
              "      <td>0</td>\n",
              "      <td>4</td>\n",
              "    </tr>\n",
              "  </tbody>\n",
              "</table>\n",
              "<p>274 rows × 4 columns</p>\n",
              "</div>"
            ],
            "text/plain": [
              "       veh_cnt  veh_lien_cnt  veh_lease_cnt  veh_own_cnt\n",
              "49           4           2.0              0            2\n",
              "85           4           4.0              0            0\n",
              "89           4           3.0              0            1\n",
              "171          4           3.0              0            1\n",
              "303          4           2.0              0            2\n",
              "...        ...           ...            ...          ...\n",
              "19431        4           4.0              0            0\n",
              "19564        4           3.0              0            1\n",
              "19608        4           4.0              0            0\n",
              "19799        4           3.0              0            1\n",
              "19899        4           0.0              0            4\n",
              "\n",
              "[274 rows x 4 columns]"
            ]
          },
          "metadata": {
            "tags": []
          },
          "execution_count": 15
        }
      ]
    },
    {
      "cell_type": "markdown",
      "metadata": {
        "id": "FJ-_pZFGz0hL"
      },
      "source": [
        "#### time_w_carr, prior_bi, and credit_score have some NA's, use mean/median imputation"
      ]
    },
    {
      "cell_type": "code",
      "metadata": {
        "colab": {
          "base_uri": "https://localhost:8080/"
        },
        "id": "SKYscAI6z0hL",
        "outputId": "e55766fd-c0a2-4939-fd6c-a0e8d6028d9c"
      },
      "source": [
        "predictors.corr()['time_w_carr']\n",
        "print(np.mean(predictors.time_w_carr), np.nanmedian(predictors.time_w_carr))\n",
        "# impute time_w_carr with mean\n",
        "predictors.time_w_carr = predictors.time_w_carr.fillna(np.mean(predictors.time_w_carr))\n",
        "\n",
        "predictors.corr()['prior_bi']\n",
        "print(np.mean(predictors.prior_bi), np.nanmedian(predictors.prior_bi))\n",
        "# impute prior_bi with median\n",
        "predictors.prior_bi = predictors.prior_bi.fillna(np.nanmedian(predictors.prior_bi))"
      ],
      "execution_count": 16,
      "outputs": [
        {
          "output_type": "stream",
          "text": [
            "3.169438029253272 3.5\n",
            "86156.65896843726 50000.0\n"
          ],
          "name": "stdout"
        }
      ]
    },
    {
      "cell_type": "code",
      "metadata": {
        "colab": {
          "base_uri": "https://localhost:8080/",
          "height": 386
        },
        "id": "hAjaQUMApwG0",
        "outputId": "bb02bc32-3325-4014-89fc-cde1a45f1d9d"
      },
      "source": [
        "sns.displot(predictors, x='credit_score')"
      ],
      "execution_count": 17,
      "outputs": [
        {
          "output_type": "execute_result",
          "data": {
            "text/plain": [
              "<seaborn.axisgrid.FacetGrid at 0x7f177eec9050>"
            ]
          },
          "metadata": {
            "tags": []
          },
          "execution_count": 17
        },
        {
          "output_type": "display_data",
          "data": {
            "image/png": "[encoded data removed]",
            "text/plain": [
              "<Figure size 360x360 with 1 Axes>"
            ]
          },
          "metadata": {
            "tags": [],
            "needs_background": "light"
          }
        }
      ]
    },
    {
      "cell_type": "code",
      "metadata": {
        "id": "m31r7aLepsZ5",
        "colab": {
          "base_uri": "https://localhost:8080/"
        },
        "outputId": "35570af3-c870-47eb-a42b-fcfcb0fa10a6"
      },
      "source": [
        "predictors.corr()['credit_score']\n",
        "print(np.mean(predictors.credit_score), np.nanmedian(predictors.credit_score))\n",
        "# impute credict_score with mean\n",
        "predictors.credit_score = predictors.credit_score.fillna(np.mean(predictors.credit_score))"
      ],
      "execution_count": 18,
      "outputs": [
        {
          "output_type": "stream",
          "text": [
            "663.6459067178287 664.601282184358\n"
          ],
          "name": "stdout"
        }
      ]
    },
    {
      "cell_type": "code",
      "metadata": {
        "scrolled": true,
        "colab": {
          "base_uri": "https://localhost:8080/"
        },
        "id": "5JzjJwCpz0hL",
        "outputId": "1e7637da-233f-4d17-c1fb-fe20a8bc2370"
      },
      "source": [
        "predictors.info()"
      ],
      "execution_count": 19,
      "outputs": [
        {
          "output_type": "stream",
          "text": [
            "<class 'pandas.core.frame.DataFrame'>\n",
            "RangeIndex: 20000 entries, 0 to 19999\n",
            "Data columns (total 40 columns):\n",
            " #   Column           Non-Null Count  Dtype  \n",
            "---  ------           --------------  -----  \n",
            " 0   hhld_id          20000 non-null  int64  \n",
            " 1   drvr_cnt         20000 non-null  int64  \n",
            " 2   veh_cnt          20000 non-null  int64  \n",
            " 3   min_age          20000 non-null  float64\n",
            " 4   hoh_age          20000 non-null  float64\n",
            " 5   max_age          20000 non-null  float64\n",
            " 6   avg_age          20000 non-null  float64\n",
            " 7   min_mon_lic      20000 non-null  float64\n",
            " 8   hoh_mon_lic      20000 non-null  float64\n",
            " 9   max_mon_lic      20000 non-null  float64\n",
            " 10  avg_mon_lic      20000 non-null  float64\n",
            " 11  cnt_yth          20000 non-null  int64  \n",
            " 12  cnt_female       20000 non-null  int64  \n",
            " 13  cnt_male         20000 non-null  int64  \n",
            " 14  cnt_married      20000 non-null  int64  \n",
            " 15  cnt_single       20000 non-null  int64  \n",
            " 16  hoh_married      20000 non-null  int64  \n",
            " 17  cnt_auto         20000 non-null  int64  \n",
            " 18  cnt_mtrcyc       20000 non-null  int64  \n",
            " 19  avg_majr_viol    20000 non-null  float64\n",
            " 20  cnt_majr_viol    20000 non-null  int64  \n",
            " 21  cnt_minr_viol    20000 non-null  int64  \n",
            " 22  avg_minr_viol    20000 non-null  float64\n",
            " 23  cnt_lic_susp     20000 non-null  int64  \n",
            " 24  curnt_insurer    20000 non-null  object \n",
            " 25  time_w_carr      20000 non-null  float64\n",
            " 26  prior_bi         20000 non-null  float64\n",
            " 27  fire_ind         20000 non-null  int64  \n",
            " 28  homeowner_ind    20000 non-null  int64  \n",
            " 29  veh_lien_cnt     20000 non-null  float64\n",
            " 30  veh_lease_cnt    20000 non-null  int64  \n",
            " 31  veh_own_cnt      20000 non-null  int64  \n",
            " 32  monthly_pay_ind  20000 non-null  int64  \n",
            " 33  veh_w_coll_cnt   20000 non-null  int64  \n",
            " 34  veh_w_comp_cnt   20000 non-null  int64  \n",
            " 35  veh_w_ers_cnt    20000 non-null  int64  \n",
            " 36  curnt_bi_low     20000 non-null  int64  \n",
            " 37  curnt_bi_upp     20000 non-null  int64  \n",
            " 38  credit_score     20000 non-null  float64\n",
            " 39  zipcode          20000 non-null  int64  \n",
            "dtypes: float64(14), int64(25), object(1)\n",
            "memory usage: 6.1+ MB\n"
          ],
          "name": "stdout"
        }
      ]
    },
    {
      "cell_type": "markdown",
      "metadata": {
        "id": "PHLLfLdQz0hL"
      },
      "source": [
        "### Subsequence Loss Experience"
      ]
    },
    {
      "cell_type": "code",
      "metadata": {
        "colab": {
          "base_uri": "https://localhost:8080/"
        },
        "id": "6TWDA3iJz0hM",
        "outputId": "bdd8ffae-bded-4701-f3a4-5280aa190213"
      },
      "source": [
        "# check that all hhld_id are unique\n",
        "len(np.unique(loss.hhld_id)) == len(loss.hhld_id)"
      ],
      "execution_count": 20,
      "outputs": [
        {
          "output_type": "execute_result",
          "data": {
            "text/plain": [
              "True"
            ]
          },
          "metadata": {
            "tags": []
          },
          "execution_count": 20
        }
      ]
    },
    {
      "cell_type": "code",
      "metadata": {
        "colab": {
          "base_uri": "https://localhost:8080/"
        },
        "id": "3dE8mTS0z0hM",
        "outputId": "cce72ff9-3c49-4d07-e542-d4db3f557e26"
      },
      "source": [
        "# make sure that claim indicator is correctly labeled\n",
        "all(loss.hhld_id[loss.pd_amt > 0] == loss.hhld_id[loss.future_clm_ind == 1])"
      ],
      "execution_count": null,
      "outputs": [
        {
          "output_type": "execute_result",
          "data": {
            "text/plain": [
              "True"
            ]
          },
          "metadata": {
            "tags": []
          },
          "execution_count": 26
        }
      ]
    },
    {
      "cell_type": "code",
      "metadata": {
        "colab": {
          "base_uri": "https://localhost:8080/"
        },
        "id": "Wbsx9rggz0hM",
        "outputId": "b5341bbd-e23b-4908-d8c6-6eeb7b2c11d4"
      },
      "source": [
        "# validate that the loss ratio is correct\n",
        "all((loss.loss_ratio <= loss.pd_amt / loss.premium + 0.00001) \n",
        "    & (loss.loss_ratio >= loss.pd_amt / loss.premium - 0.00001))"
      ],
      "execution_count": null,
      "outputs": [
        {
          "output_type": "execute_result",
          "data": {
            "text/plain": [
              "True"
            ]
          },
          "metadata": {
            "tags": []
          },
          "execution_count": 27
        }
      ]
    },
    {
      "cell_type": "markdown",
      "metadata": {
        "id": "GVh1GzZ1z0hM"
      },
      "source": [
        "## Step 1.1 Aggregat Claim Data and Create Count Variables"
      ]
    },
    {
      "cell_type": "code",
      "metadata": {
        "id": "5o_ff1phz0hM"
      },
      "source": [
        "# extract year from claim dates\n",
        "claims['Claim_Year'] = claims.clm_dates.dt.year"
      ],
      "execution_count": 21,
      "outputs": []
    },
    {
      "cell_type": "code",
      "metadata": {
        "scrolled": true,
        "colab": {
          "base_uri": "https://localhost:8080/",
          "height": 204
        },
        "id": "yltFMzngz0hM",
        "outputId": "12604766-0e3d-4998-8394-936869622928"
      },
      "source": [
        "claims.head()"
      ],
      "execution_count": 22,
      "outputs": [
        {
          "output_type": "execute_result",
          "data": {
            "text/html": [
              "<div>\n",
              "<style scoped>\n",
              "    .dataframe tbody tr th:only-of-type {\n",
              "        vertical-align: middle;\n",
              "    }\n",
              "\n",
              "    .dataframe tbody tr th {\n",
              "        vertical-align: top;\n",
              "    }\n",
              "\n",
              "    .dataframe thead th {\n",
              "        text-align: right;\n",
              "    }\n",
              "</style>\n",
              "<table border=\"1\" class=\"dataframe\">\n",
              "  <thead>\n",
              "    <tr style=\"text-align: right;\">\n",
              "      <th></th>\n",
              "      <th>hhld_id</th>\n",
              "      <th>clm_dates</th>\n",
              "      <th>aft_ind</th>\n",
              "      <th>pd_amt</th>\n",
              "      <th>Claim_Year</th>\n",
              "    </tr>\n",
              "  </thead>\n",
              "  <tbody>\n",
              "    <tr>\n",
              "      <th>3</th>\n",
              "      <td>10347</td>\n",
              "      <td>2014-02-09</td>\n",
              "      <td>0</td>\n",
              "      <td>428.48</td>\n",
              "      <td>2014</td>\n",
              "    </tr>\n",
              "    <tr>\n",
              "      <th>6</th>\n",
              "      <td>2388</td>\n",
              "      <td>2016-08-01</td>\n",
              "      <td>1</td>\n",
              "      <td>2092.55</td>\n",
              "      <td>2016</td>\n",
              "    </tr>\n",
              "    <tr>\n",
              "      <th>8</th>\n",
              "      <td>8845</td>\n",
              "      <td>2015-08-10</td>\n",
              "      <td>1</td>\n",
              "      <td>6133.88</td>\n",
              "      <td>2015</td>\n",
              "    </tr>\n",
              "    <tr>\n",
              "      <th>11</th>\n",
              "      <td>14318</td>\n",
              "      <td>2015-11-26</td>\n",
              "      <td>0</td>\n",
              "      <td>157.36</td>\n",
              "      <td>2015</td>\n",
              "    </tr>\n",
              "    <tr>\n",
              "      <th>12</th>\n",
              "      <td>13283</td>\n",
              "      <td>2012-04-28</td>\n",
              "      <td>0</td>\n",
              "      <td>164.90</td>\n",
              "      <td>2012</td>\n",
              "    </tr>\n",
              "  </tbody>\n",
              "</table>\n",
              "</div>"
            ],
            "text/plain": [
              "    hhld_id  clm_dates  aft_ind   pd_amt  Claim_Year\n",
              "3     10347 2014-02-09        0   428.48        2014\n",
              "6      2388 2016-08-01        1  2092.55        2016\n",
              "8      8845 2015-08-10        1  6133.88        2015\n",
              "11    14318 2015-11-26        0   157.36        2015\n",
              "12    13283 2012-04-28        0   164.90        2012"
            ]
          },
          "metadata": {
            "tags": []
          },
          "execution_count": 22
        }
      ]
    },
    {
      "cell_type": "code",
      "metadata": {
        "colab": {
          "base_uri": "https://localhost:8080/"
        },
        "id": "s5gKHNBkz0hN",
        "outputId": "5f64cddd-c2b6-4ed0-8ac4-86c13dcb48a2"
      },
      "source": [
        "# sanity check\n",
        "np.unique(claims.clm_dates.dt.year, return_counts = True)"
      ],
      "execution_count": 23,
      "outputs": [
        {
          "output_type": "execute_result",
          "data": {
            "text/plain": [
              "(array([2012, 2013, 2014, 2015, 2016]), array([720, 675, 704, 712, 718]))"
            ]
          },
          "metadata": {
            "tags": []
          },
          "execution_count": 23
        }
      ]
    },
    {
      "cell_type": "code",
      "metadata": {
        "colab": {
          "base_uri": "https://localhost:8080/"
        },
        "id": "1GN8oZKuz0hN",
        "outputId": "dc85f2a6-04d1-4519-a13f-3ecfede879e0"
      },
      "source": [
        "# check unique type of indicator if claims is at fault, make sure there is no NA's\n",
        "np.unique(claims.aft_ind, return_counts = True)"
      ],
      "execution_count": 24,
      "outputs": [
        {
          "output_type": "execute_result",
          "data": {
            "text/plain": [
              "(array([0, 1]), array([2459, 1070]))"
            ]
          },
          "metadata": {
            "tags": []
          },
          "execution_count": 24
        }
      ]
    },
    {
      "cell_type": "code",
      "metadata": {
        "id": "NVM_zjftz0hN"
      },
      "source": [
        "claims_agg = claims.groupby(['hhld_id', 'Claim_Year'])['aft_ind'].agg(at_fault_cnt = lambda x:sum(x == 1), \n",
        "                                                                      not_at_fault_cnt = lambda x:sum(x == 0)).reset_index()"
      ],
      "execution_count": 25,
      "outputs": []
    },
    {
      "cell_type": "code",
      "metadata": {
        "colab": {
          "base_uri": "https://localhost:8080/"
        },
        "id": "_lg3USjoz0hN",
        "outputId": "b19e9a37-9cff-404b-b9b8-6e4c36f7fd04"
      },
      "source": [
        "claims_agg.columns"
      ],
      "execution_count": 26,
      "outputs": [
        {
          "output_type": "execute_result",
          "data": {
            "text/plain": [
              "Index(['hhld_id', 'Claim_Year', 'at_fault_cnt', 'not_at_fault_cnt'], dtype='object')"
            ]
          },
          "metadata": {
            "tags": []
          },
          "execution_count": 26
        }
      ]
    },
    {
      "cell_type": "code",
      "metadata": {
        "scrolled": true,
        "colab": {
          "base_uri": "https://localhost:8080/",
          "height": 204
        },
        "id": "zu2DnOEtz0hN",
        "outputId": "dc2cbc3a-74af-4097-e701-d12c2020eb9d"
      },
      "source": [
        "claims_agg.head()"
      ],
      "execution_count": 27,
      "outputs": [
        {
          "output_type": "execute_result",
          "data": {
            "text/html": [
              "<div>\n",
              "<style scoped>\n",
              "    .dataframe tbody tr th:only-of-type {\n",
              "        vertical-align: middle;\n",
              "    }\n",
              "\n",
              "    .dataframe tbody tr th {\n",
              "        vertical-align: top;\n",
              "    }\n",
              "\n",
              "    .dataframe thead th {\n",
              "        text-align: right;\n",
              "    }\n",
              "</style>\n",
              "<table border=\"1\" class=\"dataframe\">\n",
              "  <thead>\n",
              "    <tr style=\"text-align: right;\">\n",
              "      <th></th>\n",
              "      <th>hhld_id</th>\n",
              "      <th>Claim_Year</th>\n",
              "      <th>at_fault_cnt</th>\n",
              "      <th>not_at_fault_cnt</th>\n",
              "    </tr>\n",
              "  </thead>\n",
              "  <tbody>\n",
              "    <tr>\n",
              "      <th>0</th>\n",
              "      <td>2</td>\n",
              "      <td>2015</td>\n",
              "      <td>0</td>\n",
              "      <td>1</td>\n",
              "    </tr>\n",
              "    <tr>\n",
              "      <th>1</th>\n",
              "      <td>13</td>\n",
              "      <td>2016</td>\n",
              "      <td>1</td>\n",
              "      <td>0</td>\n",
              "    </tr>\n",
              "    <tr>\n",
              "      <th>2</th>\n",
              "      <td>27</td>\n",
              "      <td>2013</td>\n",
              "      <td>0</td>\n",
              "      <td>1</td>\n",
              "    </tr>\n",
              "    <tr>\n",
              "      <th>3</th>\n",
              "      <td>36</td>\n",
              "      <td>2013</td>\n",
              "      <td>0</td>\n",
              "      <td>1</td>\n",
              "    </tr>\n",
              "    <tr>\n",
              "      <th>4</th>\n",
              "      <td>49</td>\n",
              "      <td>2014</td>\n",
              "      <td>0</td>\n",
              "      <td>1</td>\n",
              "    </tr>\n",
              "  </tbody>\n",
              "</table>\n",
              "</div>"
            ],
            "text/plain": [
              "   hhld_id  Claim_Year  at_fault_cnt  not_at_fault_cnt\n",
              "0        2        2015             0                 1\n",
              "1       13        2016             1                 0\n",
              "2       27        2013             0                 1\n",
              "3       36        2013             0                 1\n",
              "4       49        2014             0                 1"
            ]
          },
          "metadata": {
            "tags": []
          },
          "execution_count": 27
        }
      ]
    },
    {
      "cell_type": "code",
      "metadata": {
        "colab": {
          "base_uri": "https://localhost:8080/",
          "height": 80
        },
        "id": "7I7n3QB2z0hO",
        "outputId": "9d93792d-e387-4f17-9979-8a33e86af7f5"
      },
      "source": [
        "# sanity check\n",
        "claims_agg[claims_agg.hhld_id == 8845]"
      ],
      "execution_count": 28,
      "outputs": [
        {
          "output_type": "execute_result",
          "data": {
            "text/html": [
              "<div>\n",
              "<style scoped>\n",
              "    .dataframe tbody tr th:only-of-type {\n",
              "        vertical-align: middle;\n",
              "    }\n",
              "\n",
              "    .dataframe tbody tr th {\n",
              "        vertical-align: top;\n",
              "    }\n",
              "\n",
              "    .dataframe thead th {\n",
              "        text-align: right;\n",
              "    }\n",
              "</style>\n",
              "<table border=\"1\" class=\"dataframe\">\n",
              "  <thead>\n",
              "    <tr style=\"text-align: right;\">\n",
              "      <th></th>\n",
              "      <th>hhld_id</th>\n",
              "      <th>Claim_Year</th>\n",
              "      <th>at_fault_cnt</th>\n",
              "      <th>not_at_fault_cnt</th>\n",
              "    </tr>\n",
              "  </thead>\n",
              "  <tbody>\n",
              "    <tr>\n",
              "      <th>1536</th>\n",
              "      <td>8845</td>\n",
              "      <td>2015</td>\n",
              "      <td>1</td>\n",
              "      <td>0</td>\n",
              "    </tr>\n",
              "  </tbody>\n",
              "</table>\n",
              "</div>"
            ],
            "text/plain": [
              "      hhld_id  Claim_Year  at_fault_cnt  not_at_fault_cnt\n",
              "1536     8845        2015             1                 0"
            ]
          },
          "metadata": {
            "tags": []
          },
          "execution_count": 28
        }
      ]
    },
    {
      "cell_type": "markdown",
      "metadata": {
        "id": "bisIQusRz0hO"
      },
      "source": [
        "## Step 1.2 Merge Predictor Data, Subsequent Loss Data, and Aggregated Claim Data"
      ]
    },
    {
      "cell_type": "code",
      "metadata": {
        "colab": {
          "base_uri": "https://localhost:8080/"
        },
        "id": "RXqT172Wz0hO",
        "outputId": "6bd9e070-dee8-407b-eb3c-76b4cd39e8e4"
      },
      "source": [
        "all(np.unique(predictors.hhld_id) == np.unique(loss.hhld_id))"
      ],
      "execution_count": 29,
      "outputs": [
        {
          "output_type": "execute_result",
          "data": {
            "text/plain": [
              "True"
            ]
          },
          "metadata": {
            "tags": []
          },
          "execution_count": 29
        }
      ]
    },
    {
      "cell_type": "code",
      "metadata": {
        "id": "0ysb3ZlNz0hO"
      },
      "source": [
        "data = pd.merge(predictors, loss, on = 'hhld_id')"
      ],
      "execution_count": 30,
      "outputs": []
    },
    {
      "cell_type": "code",
      "metadata": {
        "scrolled": true,
        "colab": {
          "base_uri": "https://localhost:8080/",
          "height": 439
        },
        "id": "sz3LclwFz0hO",
        "outputId": "afd923df-da9d-4898-902c-29e4f7b57a8a"
      },
      "source": [
        "new_data = data.merge(claims_agg, on = 'hhld_id', how = 'left')\n",
        "new_data"
      ],
      "execution_count": 31,
      "outputs": [
        {
          "output_type": "execute_result",
          "data": {
            "text/html": [
              "<div>\n",
              "<style scoped>\n",
              "    .dataframe tbody tr th:only-of-type {\n",
              "        vertical-align: middle;\n",
              "    }\n",
              "\n",
              "    .dataframe tbody tr th {\n",
              "        vertical-align: top;\n",
              "    }\n",
              "\n",
              "    .dataframe thead th {\n",
              "        text-align: right;\n",
              "    }\n",
              "</style>\n",
              "<table border=\"1\" class=\"dataframe\">\n",
              "  <thead>\n",
              "    <tr style=\"text-align: right;\">\n",
              "      <th></th>\n",
              "      <th>hhld_id</th>\n",
              "      <th>drvr_cnt</th>\n",
              "      <th>veh_cnt</th>\n",
              "      <th>min_age</th>\n",
              "      <th>hoh_age</th>\n",
              "      <th>max_age</th>\n",
              "      <th>avg_age</th>\n",
              "      <th>min_mon_lic</th>\n",
              "      <th>hoh_mon_lic</th>\n",
              "      <th>max_mon_lic</th>\n",
              "      <th>avg_mon_lic</th>\n",
              "      <th>cnt_yth</th>\n",
              "      <th>cnt_female</th>\n",
              "      <th>cnt_male</th>\n",
              "      <th>cnt_married</th>\n",
              "      <th>cnt_single</th>\n",
              "      <th>hoh_married</th>\n",
              "      <th>cnt_auto</th>\n",
              "      <th>cnt_mtrcyc</th>\n",
              "      <th>avg_majr_viol</th>\n",
              "      <th>cnt_majr_viol</th>\n",
              "      <th>cnt_minr_viol</th>\n",
              "      <th>avg_minr_viol</th>\n",
              "      <th>cnt_lic_susp</th>\n",
              "      <th>curnt_insurer</th>\n",
              "      <th>time_w_carr</th>\n",
              "      <th>prior_bi</th>\n",
              "      <th>fire_ind</th>\n",
              "      <th>homeowner_ind</th>\n",
              "      <th>veh_lien_cnt</th>\n",
              "      <th>veh_lease_cnt</th>\n",
              "      <th>veh_own_cnt</th>\n",
              "      <th>monthly_pay_ind</th>\n",
              "      <th>veh_w_coll_cnt</th>\n",
              "      <th>veh_w_comp_cnt</th>\n",
              "      <th>veh_w_ers_cnt</th>\n",
              "      <th>curnt_bi_low</th>\n",
              "      <th>curnt_bi_upp</th>\n",
              "      <th>credit_score</th>\n",
              "      <th>zipcode</th>\n",
              "      <th>premium</th>\n",
              "      <th>pd_amt</th>\n",
              "      <th>loss_ratio</th>\n",
              "      <th>future_clm_ind</th>\n",
              "      <th>Claim_Year</th>\n",
              "      <th>at_fault_cnt</th>\n",
              "      <th>not_at_fault_cnt</th>\n",
              "    </tr>\n",
              "  </thead>\n",
              "  <tbody>\n",
              "    <tr>\n",
              "      <th>0</th>\n",
              "      <td>15937</td>\n",
              "      <td>2</td>\n",
              "      <td>1</td>\n",
              "      <td>43.789978</td>\n",
              "      <td>51.366176</td>\n",
              "      <td>51.366176</td>\n",
              "      <td>47.578077</td>\n",
              "      <td>333.479735</td>\n",
              "      <td>424.394117</td>\n",
              "      <td>424.394117</td>\n",
              "      <td>378.936926</td>\n",
              "      <td>0</td>\n",
              "      <td>2</td>\n",
              "      <td>0</td>\n",
              "      <td>1</td>\n",
              "      <td>1</td>\n",
              "      <td>1</td>\n",
              "      <td>1</td>\n",
              "      <td>0</td>\n",
              "      <td>0.0</td>\n",
              "      <td>0</td>\n",
              "      <td>0</td>\n",
              "      <td>0.0</td>\n",
              "      <td>0</td>\n",
              "      <td>PROGRESSIVE</td>\n",
              "      <td>3.000000</td>\n",
              "      <td>25000.0</td>\n",
              "      <td>0</td>\n",
              "      <td>0</td>\n",
              "      <td>0.0</td>\n",
              "      <td>0</td>\n",
              "      <td>0</td>\n",
              "      <td>0</td>\n",
              "      <td>1</td>\n",
              "      <td>1</td>\n",
              "      <td>1</td>\n",
              "      <td>100</td>\n",
              "      <td>100</td>\n",
              "      <td>825.949106</td>\n",
              "      <td>35741</td>\n",
              "      <td>133.6</td>\n",
              "      <td>0.0</td>\n",
              "      <td>0.0</td>\n",
              "      <td>0</td>\n",
              "      <td>2012.0</td>\n",
              "      <td>1.0</td>\n",
              "      <td>1.0</td>\n",
              "    </tr>\n",
              "    <tr>\n",
              "      <th>1</th>\n",
              "      <td>13778</td>\n",
              "      <td>1</td>\n",
              "      <td>1</td>\n",
              "      <td>35.644631</td>\n",
              "      <td>35.644631</td>\n",
              "      <td>35.644631</td>\n",
              "      <td>35.644631</td>\n",
              "      <td>235.735566</td>\n",
              "      <td>235.735566</td>\n",
              "      <td>235.735566</td>\n",
              "      <td>235.735566</td>\n",
              "      <td>0</td>\n",
              "      <td>0</td>\n",
              "      <td>1</td>\n",
              "      <td>0</td>\n",
              "      <td>1</td>\n",
              "      <td>0</td>\n",
              "      <td>1</td>\n",
              "      <td>0</td>\n",
              "      <td>0.0</td>\n",
              "      <td>0</td>\n",
              "      <td>0</td>\n",
              "      <td>0.0</td>\n",
              "      <td>0</td>\n",
              "      <td>OTHER</td>\n",
              "      <td>1.500000</td>\n",
              "      <td>25000.0</td>\n",
              "      <td>1</td>\n",
              "      <td>1</td>\n",
              "      <td>1.0</td>\n",
              "      <td>0</td>\n",
              "      <td>0</td>\n",
              "      <td>0</td>\n",
              "      <td>1</td>\n",
              "      <td>1</td>\n",
              "      <td>0</td>\n",
              "      <td>25</td>\n",
              "      <td>25</td>\n",
              "      <td>684.650216</td>\n",
              "      <td>87884</td>\n",
              "      <td>145.8</td>\n",
              "      <td>0.0</td>\n",
              "      <td>0.0</td>\n",
              "      <td>0</td>\n",
              "      <td>NaN</td>\n",
              "      <td>NaN</td>\n",
              "      <td>NaN</td>\n",
              "    </tr>\n",
              "    <tr>\n",
              "      <th>2</th>\n",
              "      <td>16063</td>\n",
              "      <td>1</td>\n",
              "      <td>1</td>\n",
              "      <td>16.000000</td>\n",
              "      <td>16.000000</td>\n",
              "      <td>16.000000</td>\n",
              "      <td>16.000000</td>\n",
              "      <td>0.000000</td>\n",
              "      <td>0.000000</td>\n",
              "      <td>0.000000</td>\n",
              "      <td>0.000000</td>\n",
              "      <td>1</td>\n",
              "      <td>1</td>\n",
              "      <td>0</td>\n",
              "      <td>0</td>\n",
              "      <td>1</td>\n",
              "      <td>0</td>\n",
              "      <td>1</td>\n",
              "      <td>0</td>\n",
              "      <td>0.0</td>\n",
              "      <td>0</td>\n",
              "      <td>2</td>\n",
              "      <td>2.0</td>\n",
              "      <td>0</td>\n",
              "      <td>FARMERS</td>\n",
              "      <td>5.000000</td>\n",
              "      <td>50000.0</td>\n",
              "      <td>0</td>\n",
              "      <td>1</td>\n",
              "      <td>1.0</td>\n",
              "      <td>0</td>\n",
              "      <td>0</td>\n",
              "      <td>0</td>\n",
              "      <td>1</td>\n",
              "      <td>1</td>\n",
              "      <td>1</td>\n",
              "      <td>100</td>\n",
              "      <td>100</td>\n",
              "      <td>596.318289</td>\n",
              "      <td>81525</td>\n",
              "      <td>167.0</td>\n",
              "      <td>0.0</td>\n",
              "      <td>0.0</td>\n",
              "      <td>0</td>\n",
              "      <td>NaN</td>\n",
              "      <td>NaN</td>\n",
              "      <td>NaN</td>\n",
              "    </tr>\n",
              "    <tr>\n",
              "      <th>3</th>\n",
              "      <td>12789</td>\n",
              "      <td>1</td>\n",
              "      <td>1</td>\n",
              "      <td>17.882127</td>\n",
              "      <td>17.882127</td>\n",
              "      <td>17.882127</td>\n",
              "      <td>17.882127</td>\n",
              "      <td>22.585530</td>\n",
              "      <td>22.585530</td>\n",
              "      <td>22.585530</td>\n",
              "      <td>22.585530</td>\n",
              "      <td>1</td>\n",
              "      <td>1</td>\n",
              "      <td>0</td>\n",
              "      <td>0</td>\n",
              "      <td>1</td>\n",
              "      <td>0</td>\n",
              "      <td>1</td>\n",
              "      <td>0</td>\n",
              "      <td>0.0</td>\n",
              "      <td>0</td>\n",
              "      <td>0</td>\n",
              "      <td>0.0</td>\n",
              "      <td>0</td>\n",
              "      <td>OTHER</td>\n",
              "      <td>0.000000</td>\n",
              "      <td>100000.0</td>\n",
              "      <td>1</td>\n",
              "      <td>0</td>\n",
              "      <td>1.0</td>\n",
              "      <td>0</td>\n",
              "      <td>0</td>\n",
              "      <td>1</td>\n",
              "      <td>1</td>\n",
              "      <td>1</td>\n",
              "      <td>1</td>\n",
              "      <td>100</td>\n",
              "      <td>100</td>\n",
              "      <td>636.757859</td>\n",
              "      <td>35741</td>\n",
              "      <td>150.3</td>\n",
              "      <td>0.0</td>\n",
              "      <td>0.0</td>\n",
              "      <td>0</td>\n",
              "      <td>NaN</td>\n",
              "      <td>NaN</td>\n",
              "      <td>NaN</td>\n",
              "    </tr>\n",
              "    <tr>\n",
              "      <th>4</th>\n",
              "      <td>5122</td>\n",
              "      <td>1</td>\n",
              "      <td>1</td>\n",
              "      <td>16.000000</td>\n",
              "      <td>16.000000</td>\n",
              "      <td>16.000000</td>\n",
              "      <td>16.000000</td>\n",
              "      <td>0.000000</td>\n",
              "      <td>0.000000</td>\n",
              "      <td>0.000000</td>\n",
              "      <td>0.000000</td>\n",
              "      <td>1</td>\n",
              "      <td>0</td>\n",
              "      <td>1</td>\n",
              "      <td>0</td>\n",
              "      <td>1</td>\n",
              "      <td>0</td>\n",
              "      <td>1</td>\n",
              "      <td>0</td>\n",
              "      <td>0.0</td>\n",
              "      <td>0</td>\n",
              "      <td>0</td>\n",
              "      <td>0.0</td>\n",
              "      <td>0</td>\n",
              "      <td>OTHER</td>\n",
              "      <td>2.500000</td>\n",
              "      <td>25000.0</td>\n",
              "      <td>0</td>\n",
              "      <td>0</td>\n",
              "      <td>1.0</td>\n",
              "      <td>0</td>\n",
              "      <td>0</td>\n",
              "      <td>0</td>\n",
              "      <td>0</td>\n",
              "      <td>1</td>\n",
              "      <td>1</td>\n",
              "      <td>50</td>\n",
              "      <td>50</td>\n",
              "      <td>669.569992</td>\n",
              "      <td>59792</td>\n",
              "      <td>117.0</td>\n",
              "      <td>0.0</td>\n",
              "      <td>0.0</td>\n",
              "      <td>0</td>\n",
              "      <td>NaN</td>\n",
              "      <td>NaN</td>\n",
              "      <td>NaN</td>\n",
              "    </tr>\n",
              "    <tr>\n",
              "      <th>...</th>\n",
              "      <td>...</td>\n",
              "      <td>...</td>\n",
              "      <td>...</td>\n",
              "      <td>...</td>\n",
              "      <td>...</td>\n",
              "      <td>...</td>\n",
              "      <td>...</td>\n",
              "      <td>...</td>\n",
              "      <td>...</td>\n",
              "      <td>...</td>\n",
              "      <td>...</td>\n",
              "      <td>...</td>\n",
              "      <td>...</td>\n",
              "      <td>...</td>\n",
              "      <td>...</td>\n",
              "      <td>...</td>\n",
              "      <td>...</td>\n",
              "      <td>...</td>\n",
              "      <td>...</td>\n",
              "      <td>...</td>\n",
              "      <td>...</td>\n",
              "      <td>...</td>\n",
              "      <td>...</td>\n",
              "      <td>...</td>\n",
              "      <td>...</td>\n",
              "      <td>...</td>\n",
              "      <td>...</td>\n",
              "      <td>...</td>\n",
              "      <td>...</td>\n",
              "      <td>...</td>\n",
              "      <td>...</td>\n",
              "      <td>...</td>\n",
              "      <td>...</td>\n",
              "      <td>...</td>\n",
              "      <td>...</td>\n",
              "      <td>...</td>\n",
              "      <td>...</td>\n",
              "      <td>...</td>\n",
              "      <td>...</td>\n",
              "      <td>...</td>\n",
              "      <td>...</td>\n",
              "      <td>...</td>\n",
              "      <td>...</td>\n",
              "      <td>...</td>\n",
              "      <td>...</td>\n",
              "      <td>...</td>\n",
              "      <td>...</td>\n",
              "    </tr>\n",
              "    <tr>\n",
              "      <th>20243</th>\n",
              "      <td>7971</td>\n",
              "      <td>1</td>\n",
              "      <td>1</td>\n",
              "      <td>22.317612</td>\n",
              "      <td>22.317612</td>\n",
              "      <td>22.317612</td>\n",
              "      <td>22.317612</td>\n",
              "      <td>75.811340</td>\n",
              "      <td>75.811340</td>\n",
              "      <td>75.811340</td>\n",
              "      <td>75.811340</td>\n",
              "      <td>0</td>\n",
              "      <td>0</td>\n",
              "      <td>1</td>\n",
              "      <td>0</td>\n",
              "      <td>1</td>\n",
              "      <td>0</td>\n",
              "      <td>1</td>\n",
              "      <td>0</td>\n",
              "      <td>0.0</td>\n",
              "      <td>0</td>\n",
              "      <td>0</td>\n",
              "      <td>0.0</td>\n",
              "      <td>0</td>\n",
              "      <td>MISSING</td>\n",
              "      <td>3.169438</td>\n",
              "      <td>50000.0</td>\n",
              "      <td>0</td>\n",
              "      <td>1</td>\n",
              "      <td>1.0</td>\n",
              "      <td>0</td>\n",
              "      <td>0</td>\n",
              "      <td>0</td>\n",
              "      <td>0</td>\n",
              "      <td>0</td>\n",
              "      <td>0</td>\n",
              "      <td>25</td>\n",
              "      <td>25</td>\n",
              "      <td>730.524944</td>\n",
              "      <td>52758</td>\n",
              "      <td>80.0</td>\n",
              "      <td>0.0</td>\n",
              "      <td>0.0</td>\n",
              "      <td>0</td>\n",
              "      <td>NaN</td>\n",
              "      <td>NaN</td>\n",
              "      <td>NaN</td>\n",
              "    </tr>\n",
              "    <tr>\n",
              "      <th>20244</th>\n",
              "      <td>5143</td>\n",
              "      <td>2</td>\n",
              "      <td>1</td>\n",
              "      <td>22.480599</td>\n",
              "      <td>50.319074</td>\n",
              "      <td>50.319074</td>\n",
              "      <td>36.399836</td>\n",
              "      <td>77.767185</td>\n",
              "      <td>411.828883</td>\n",
              "      <td>411.828883</td>\n",
              "      <td>244.798034</td>\n",
              "      <td>0</td>\n",
              "      <td>1</td>\n",
              "      <td>1</td>\n",
              "      <td>1</td>\n",
              "      <td>1</td>\n",
              "      <td>1</td>\n",
              "      <td>1</td>\n",
              "      <td>0</td>\n",
              "      <td>0.0</td>\n",
              "      <td>0</td>\n",
              "      <td>0</td>\n",
              "      <td>0.0</td>\n",
              "      <td>0</td>\n",
              "      <td>ALLSTATE</td>\n",
              "      <td>3.500000</td>\n",
              "      <td>100000.0</td>\n",
              "      <td>0</td>\n",
              "      <td>1</td>\n",
              "      <td>1.0</td>\n",
              "      <td>0</td>\n",
              "      <td>0</td>\n",
              "      <td>0</td>\n",
              "      <td>0</td>\n",
              "      <td>0</td>\n",
              "      <td>0</td>\n",
              "      <td>50</td>\n",
              "      <td>50</td>\n",
              "      <td>733.680364</td>\n",
              "      <td>92002</td>\n",
              "      <td>80.0</td>\n",
              "      <td>0.0</td>\n",
              "      <td>0.0</td>\n",
              "      <td>0</td>\n",
              "      <td>NaN</td>\n",
              "      <td>NaN</td>\n",
              "      <td>NaN</td>\n",
              "    </tr>\n",
              "    <tr>\n",
              "      <th>20245</th>\n",
              "      <td>2554</td>\n",
              "      <td>2</td>\n",
              "      <td>2</td>\n",
              "      <td>42.579635</td>\n",
              "      <td>47.374177</td>\n",
              "      <td>47.374177</td>\n",
              "      <td>44.976906</td>\n",
              "      <td>318.955620</td>\n",
              "      <td>376.490121</td>\n",
              "      <td>376.490121</td>\n",
              "      <td>347.722870</td>\n",
              "      <td>0</td>\n",
              "      <td>0</td>\n",
              "      <td>2</td>\n",
              "      <td>2</td>\n",
              "      <td>0</td>\n",
              "      <td>1</td>\n",
              "      <td>2</td>\n",
              "      <td>0</td>\n",
              "      <td>0.0</td>\n",
              "      <td>0</td>\n",
              "      <td>1</td>\n",
              "      <td>0.5</td>\n",
              "      <td>0</td>\n",
              "      <td>PROGRESSIVE</td>\n",
              "      <td>5.000000</td>\n",
              "      <td>50000.0</td>\n",
              "      <td>1</td>\n",
              "      <td>1</td>\n",
              "      <td>2.0</td>\n",
              "      <td>0</td>\n",
              "      <td>0</td>\n",
              "      <td>0</td>\n",
              "      <td>1</td>\n",
              "      <td>1</td>\n",
              "      <td>1</td>\n",
              "      <td>25</td>\n",
              "      <td>25</td>\n",
              "      <td>689.594122</td>\n",
              "      <td>77155</td>\n",
              "      <td>222.3</td>\n",
              "      <td>0.0</td>\n",
              "      <td>0.0</td>\n",
              "      <td>0</td>\n",
              "      <td>2015.0</td>\n",
              "      <td>0.0</td>\n",
              "      <td>1.0</td>\n",
              "    </tr>\n",
              "    <tr>\n",
              "      <th>20246</th>\n",
              "      <td>6</td>\n",
              "      <td>1</td>\n",
              "      <td>1</td>\n",
              "      <td>46.832826</td>\n",
              "      <td>46.832826</td>\n",
              "      <td>46.832826</td>\n",
              "      <td>46.832826</td>\n",
              "      <td>369.993911</td>\n",
              "      <td>369.993911</td>\n",
              "      <td>369.993911</td>\n",
              "      <td>369.993911</td>\n",
              "      <td>0</td>\n",
              "      <td>1</td>\n",
              "      <td>0</td>\n",
              "      <td>0</td>\n",
              "      <td>1</td>\n",
              "      <td>0</td>\n",
              "      <td>1</td>\n",
              "      <td>0</td>\n",
              "      <td>0.0</td>\n",
              "      <td>0</td>\n",
              "      <td>0</td>\n",
              "      <td>0.0</td>\n",
              "      <td>0</td>\n",
              "      <td>MISSING</td>\n",
              "      <td>3.169438</td>\n",
              "      <td>50000.0</td>\n",
              "      <td>1</td>\n",
              "      <td>1</td>\n",
              "      <td>0.0</td>\n",
              "      <td>0</td>\n",
              "      <td>1</td>\n",
              "      <td>0</td>\n",
              "      <td>1</td>\n",
              "      <td>1</td>\n",
              "      <td>1</td>\n",
              "      <td>25</td>\n",
              "      <td>25</td>\n",
              "      <td>682.152566</td>\n",
              "      <td>87035</td>\n",
              "      <td>150.3</td>\n",
              "      <td>0.0</td>\n",
              "      <td>0.0</td>\n",
              "      <td>0</td>\n",
              "      <td>NaN</td>\n",
              "      <td>NaN</td>\n",
              "      <td>NaN</td>\n",
              "    </tr>\n",
              "    <tr>\n",
              "      <th>20247</th>\n",
              "      <td>4669</td>\n",
              "      <td>2</td>\n",
              "      <td>2</td>\n",
              "      <td>35.903591</td>\n",
              "      <td>49.101394</td>\n",
              "      <td>49.101394</td>\n",
              "      <td>42.502493</td>\n",
              "      <td>238.843096</td>\n",
              "      <td>397.216728</td>\n",
              "      <td>397.216728</td>\n",
              "      <td>318.029912</td>\n",
              "      <td>0</td>\n",
              "      <td>0</td>\n",
              "      <td>2</td>\n",
              "      <td>2</td>\n",
              "      <td>0</td>\n",
              "      <td>1</td>\n",
              "      <td>2</td>\n",
              "      <td>0</td>\n",
              "      <td>0.0</td>\n",
              "      <td>0</td>\n",
              "      <td>0</td>\n",
              "      <td>0.0</td>\n",
              "      <td>0</td>\n",
              "      <td>PROGRESSIVE</td>\n",
              "      <td>0.000000</td>\n",
              "      <td>25000.0</td>\n",
              "      <td>0</td>\n",
              "      <td>1</td>\n",
              "      <td>1.0</td>\n",
              "      <td>0</td>\n",
              "      <td>1</td>\n",
              "      <td>1</td>\n",
              "      <td>2</td>\n",
              "      <td>2</td>\n",
              "      <td>1</td>\n",
              "      <td>100</td>\n",
              "      <td>100</td>\n",
              "      <td>732.307414</td>\n",
              "      <td>50900</td>\n",
              "      <td>247.2</td>\n",
              "      <td>0.0</td>\n",
              "      <td>0.0</td>\n",
              "      <td>0</td>\n",
              "      <td>2013.0</td>\n",
              "      <td>0.0</td>\n",
              "      <td>1.0</td>\n",
              "    </tr>\n",
              "  </tbody>\n",
              "</table>\n",
              "<p>20248 rows × 47 columns</p>\n",
              "</div>"
            ],
            "text/plain": [
              "       hhld_id  drvr_cnt  veh_cnt  ...  Claim_Year  at_fault_cnt  not_at_fault_cnt\n",
              "0        15937         2        1  ...      2012.0           1.0               1.0\n",
              "1        13778         1        1  ...         NaN           NaN               NaN\n",
              "2        16063         1        1  ...         NaN           NaN               NaN\n",
              "3        12789         1        1  ...         NaN           NaN               NaN\n",
              "4         5122         1        1  ...         NaN           NaN               NaN\n",
              "...        ...       ...      ...  ...         ...           ...               ...\n",
              "20243     7971         1        1  ...         NaN           NaN               NaN\n",
              "20244     5143         2        1  ...         NaN           NaN               NaN\n",
              "20245     2554         2        2  ...      2015.0           0.0               1.0\n",
              "20246        6         1        1  ...         NaN           NaN               NaN\n",
              "20247     4669         2        2  ...      2013.0           0.0               1.0\n",
              "\n",
              "[20248 rows x 47 columns]"
            ]
          },
          "metadata": {
            "tags": []
          },
          "execution_count": 31
        }
      ]
    },
    {
      "cell_type": "code",
      "metadata": {
        "scrolled": true,
        "colab": {
          "base_uri": "https://localhost:8080/"
        },
        "id": "qXtpwIvCz0hO",
        "outputId": "efb86ff6-af0e-4195-b907-2488d69acb03"
      },
      "source": [
        "np.unique(new_data.hhld_id)[np.unique(new_data.hhld_id, return_counts = True)[1] != 1]"
      ],
      "execution_count": null,
      "outputs": [
        {
          "output_type": "execute_result",
          "data": {
            "text/plain": [
              "array([   70,   430,   533,   537,   603,   673,   678,   790,   793,\n",
              "         807,   818,   953,  1018,  1066,  1085,  1283,  1299,  1416,\n",
              "        1417,  1621,  1658,  1797,  2132,  2325,  2332,  2358,  2558,\n",
              "        2645,  2811,  2887,  2916,  3044,  3089,  3184,  3311,  3332,\n",
              "        3419,  3473,  3576,  3753,  3774,  3903,  3956,  4030,  4099,\n",
              "        4218,  4327,  4385,  4391,  4433,  4510,  4784,  4855,  4966,\n",
              "        5165,  5194,  5276,  5282,  5332,  5462,  5547,  5669,  5774,\n",
              "        5855,  5879,  6077,  6108,  6314,  6343,  6364,  6374,  6450,\n",
              "        6518,  6693,  6703,  6769,  6860,  7175,  7182,  7267,  7275,\n",
              "        7378,  7462,  7554,  7575,  7689,  7797,  7910,  7954,  8172,\n",
              "        8189,  8193,  8225,  8311,  8368,  8405,  8413,  8592,  8656,\n",
              "        8709,  8729,  8779,  8823,  8843,  8880,  9301,  9359,  9453,\n",
              "        9467,  9519,  9793, 10034, 10328, 10499, 10561, 10569, 10570,\n",
              "       10631, 10691, 10719, 10731, 10984, 11066, 11125, 11145, 11440,\n",
              "       11585, 11590, 11601, 11649, 11785, 11841, 12013, 12166, 12169,\n",
              "       12402, 12404, 12561, 12624, 12654, 12734, 12768, 12809, 12814,\n",
              "       12864, 12878, 12937, 13104, 13135, 13181, 13258, 13277, 13283,\n",
              "       13564, 13804, 13920, 13933, 13957, 14038, 14054, 14219, 14480,\n",
              "       14491, 14515, 14543, 14554, 14566, 14590, 14616, 14664, 14927,\n",
              "       15065, 15193, 15380, 15444, 15470, 15633, 15651, 15964, 15981,\n",
              "       15982, 15991, 16049, 16062, 16091, 16093, 16207, 16265, 16530,\n",
              "       16589, 16784, 16835, 16848, 16868, 16910, 17047, 17098, 17186,\n",
              "       17195, 17227, 17231, 17253, 17274, 17293, 17465, 17682, 17726,\n",
              "       17758, 17783, 17828, 17969, 17973, 18239, 18251, 18353, 18429,\n",
              "       18448, 18543, 18622, 18640, 18683, 18708, 18739, 18984, 18989,\n",
              "       18999, 19027, 19139, 19300, 19372, 19374, 19642, 19700, 19759,\n",
              "       19846, 19906, 19922])"
            ]
          },
          "metadata": {
            "tags": []
          },
          "execution_count": 39
        }
      ]
    },
    {
      "cell_type": "code",
      "metadata": {
        "colab": {
          "base_uri": "https://localhost:8080/",
          "height": 131
        },
        "id": "gt3v-z-Jz0hP",
        "outputId": "a04fca86-6cb8-4bb3-81d5-fd161895d8dc"
      },
      "source": [
        "# sanity check\n",
        "new_data[new_data.hhld_id == 19906]"
      ],
      "execution_count": 32,
      "outputs": [
        {
          "output_type": "execute_result",
          "data": {
            "text/html": [
              "<div>\n",
              "<style scoped>\n",
              "    .dataframe tbody tr th:only-of-type {\n",
              "        vertical-align: middle;\n",
              "    }\n",
              "\n",
              "    .dataframe tbody tr th {\n",
              "        vertical-align: top;\n",
              "    }\n",
              "\n",
              "    .dataframe thead th {\n",
              "        text-align: right;\n",
              "    }\n",
              "</style>\n",
              "<table border=\"1\" class=\"dataframe\">\n",
              "  <thead>\n",
              "    <tr style=\"text-align: right;\">\n",
              "      <th></th>\n",
              "      <th>hhld_id</th>\n",
              "      <th>drvr_cnt</th>\n",
              "      <th>veh_cnt</th>\n",
              "      <th>min_age</th>\n",
              "      <th>hoh_age</th>\n",
              "      <th>max_age</th>\n",
              "      <th>avg_age</th>\n",
              "      <th>min_mon_lic</th>\n",
              "      <th>hoh_mon_lic</th>\n",
              "      <th>max_mon_lic</th>\n",
              "      <th>avg_mon_lic</th>\n",
              "      <th>cnt_yth</th>\n",
              "      <th>cnt_female</th>\n",
              "      <th>cnt_male</th>\n",
              "      <th>cnt_married</th>\n",
              "      <th>cnt_single</th>\n",
              "      <th>hoh_married</th>\n",
              "      <th>cnt_auto</th>\n",
              "      <th>cnt_mtrcyc</th>\n",
              "      <th>avg_majr_viol</th>\n",
              "      <th>cnt_majr_viol</th>\n",
              "      <th>cnt_minr_viol</th>\n",
              "      <th>avg_minr_viol</th>\n",
              "      <th>cnt_lic_susp</th>\n",
              "      <th>curnt_insurer</th>\n",
              "      <th>time_w_carr</th>\n",
              "      <th>prior_bi</th>\n",
              "      <th>fire_ind</th>\n",
              "      <th>homeowner_ind</th>\n",
              "      <th>veh_lien_cnt</th>\n",
              "      <th>veh_lease_cnt</th>\n",
              "      <th>veh_own_cnt</th>\n",
              "      <th>monthly_pay_ind</th>\n",
              "      <th>veh_w_coll_cnt</th>\n",
              "      <th>veh_w_comp_cnt</th>\n",
              "      <th>veh_w_ers_cnt</th>\n",
              "      <th>curnt_bi_low</th>\n",
              "      <th>curnt_bi_upp</th>\n",
              "      <th>credit_score</th>\n",
              "      <th>zipcode</th>\n",
              "      <th>premium</th>\n",
              "      <th>pd_amt</th>\n",
              "      <th>loss_ratio</th>\n",
              "      <th>future_clm_ind</th>\n",
              "      <th>Claim_Year</th>\n",
              "      <th>at_fault_cnt</th>\n",
              "      <th>not_at_fault_cnt</th>\n",
              "    </tr>\n",
              "  </thead>\n",
              "  <tbody>\n",
              "    <tr>\n",
              "      <th>13591</th>\n",
              "      <td>19906</td>\n",
              "      <td>3</td>\n",
              "      <td>4</td>\n",
              "      <td>27.140642</td>\n",
              "      <td>36.409659</td>\n",
              "      <td>70.415101</td>\n",
              "      <td>44.655134</td>\n",
              "      <td>133.687699</td>\n",
              "      <td>244.915909</td>\n",
              "      <td>652.981218</td>\n",
              "      <td>343.861609</td>\n",
              "      <td>0</td>\n",
              "      <td>0</td>\n",
              "      <td>3</td>\n",
              "      <td>3</td>\n",
              "      <td>0</td>\n",
              "      <td>1</td>\n",
              "      <td>4</td>\n",
              "      <td>0</td>\n",
              "      <td>0.0</td>\n",
              "      <td>0</td>\n",
              "      <td>0</td>\n",
              "      <td>0.0</td>\n",
              "      <td>0</td>\n",
              "      <td>OTHER</td>\n",
              "      <td>3.0</td>\n",
              "      <td>250000.0</td>\n",
              "      <td>0</td>\n",
              "      <td>0</td>\n",
              "      <td>2.0</td>\n",
              "      <td>0</td>\n",
              "      <td>2</td>\n",
              "      <td>0</td>\n",
              "      <td>1</td>\n",
              "      <td>1</td>\n",
              "      <td>1</td>\n",
              "      <td>50</td>\n",
              "      <td>50</td>\n",
              "      <td>850.0</td>\n",
              "      <td>87989</td>\n",
              "      <td>325.6</td>\n",
              "      <td>0.0</td>\n",
              "      <td>0.0</td>\n",
              "      <td>0</td>\n",
              "      <td>2012.0</td>\n",
              "      <td>0.0</td>\n",
              "      <td>1.0</td>\n",
              "    </tr>\n",
              "    <tr>\n",
              "      <th>13592</th>\n",
              "      <td>19906</td>\n",
              "      <td>3</td>\n",
              "      <td>4</td>\n",
              "      <td>27.140642</td>\n",
              "      <td>36.409659</td>\n",
              "      <td>70.415101</td>\n",
              "      <td>44.655134</td>\n",
              "      <td>133.687699</td>\n",
              "      <td>244.915909</td>\n",
              "      <td>652.981218</td>\n",
              "      <td>343.861609</td>\n",
              "      <td>0</td>\n",
              "      <td>0</td>\n",
              "      <td>3</td>\n",
              "      <td>3</td>\n",
              "      <td>0</td>\n",
              "      <td>1</td>\n",
              "      <td>4</td>\n",
              "      <td>0</td>\n",
              "      <td>0.0</td>\n",
              "      <td>0</td>\n",
              "      <td>0</td>\n",
              "      <td>0.0</td>\n",
              "      <td>0</td>\n",
              "      <td>OTHER</td>\n",
              "      <td>3.0</td>\n",
              "      <td>250000.0</td>\n",
              "      <td>0</td>\n",
              "      <td>0</td>\n",
              "      <td>2.0</td>\n",
              "      <td>0</td>\n",
              "      <td>2</td>\n",
              "      <td>0</td>\n",
              "      <td>1</td>\n",
              "      <td>1</td>\n",
              "      <td>1</td>\n",
              "      <td>50</td>\n",
              "      <td>50</td>\n",
              "      <td>850.0</td>\n",
              "      <td>87989</td>\n",
              "      <td>325.6</td>\n",
              "      <td>0.0</td>\n",
              "      <td>0.0</td>\n",
              "      <td>0</td>\n",
              "      <td>2016.0</td>\n",
              "      <td>0.0</td>\n",
              "      <td>1.0</td>\n",
              "    </tr>\n",
              "  </tbody>\n",
              "</table>\n",
              "</div>"
            ],
            "text/plain": [
              "       hhld_id  drvr_cnt  veh_cnt  ...  Claim_Year  at_fault_cnt  not_at_fault_cnt\n",
              "13591    19906         3        4  ...      2012.0           0.0               1.0\n",
              "13592    19906         3        4  ...      2016.0           0.0               1.0\n",
              "\n",
              "[2 rows x 47 columns]"
            ]
          },
          "metadata": {
            "tags": []
          },
          "execution_count": 32
        }
      ]
    },
    {
      "cell_type": "code",
      "metadata": {
        "id": "QWR__7P-z0hP"
      },
      "source": [
        "# loss_ratio is calucated by dividing pd_amt with premium, so we can drop one of them (i.e. pd_amt) to reduce multi-collinearity\n",
        "new_data = new_data.drop(columns = ['pd_amt'])"
      ],
      "execution_count": 33,
      "outputs": []
    },
    {
      "cell_type": "code",
      "metadata": {
        "colab": {
          "base_uri": "https://localhost:8080/"
        },
        "id": "8cRY4cM-z0hP",
        "outputId": "2d1eb358-ef08-4c19-a91e-84da3ed2f270"
      },
      "source": [
        "new_data.shape"
      ],
      "execution_count": 34,
      "outputs": [
        {
          "output_type": "execute_result",
          "data": {
            "text/plain": [
              "(20248, 46)"
            ]
          },
          "metadata": {
            "tags": []
          },
          "execution_count": 34
        }
      ]
    },
    {
      "cell_type": "markdown",
      "metadata": {
        "id": "2nYJNfgzz0hP"
      },
      "source": [
        "### missing value imputation\n",
        "* Claim_Year, at_fault_cnt, not_at_fault_cnt would be NA if the associated household id doesn't appear in the Claim Data. We can assume that if a household doesn't appear in the Claim Data means it didn't file a claim in the past 5 years. As a result, its at_fault_cnt and not_at_fault_cnt would be 0 and we would impute the NA's with 0\n",
        "\n",
        "* To handle the excessive amount of NA's in Claim_Year, we can assume that a household is equally likely to file claims at each of the last 5 years, so the claim year is not as important and we can drop the Claim_Year column."
      ]
    },
    {
      "cell_type": "code",
      "metadata": {
        "id": "VuBCllZuz0hP"
      },
      "source": [
        "new_data.loc[new_data.at_fault_cnt.isnull(), ['at_fault_cnt', 'not_at_fault_cnt']] = 0"
      ],
      "execution_count": 35,
      "outputs": []
    },
    {
      "cell_type": "code",
      "metadata": {
        "id": "4u4FQOkvz0hP"
      },
      "source": [
        "new_data = new_data.drop(columns = 'Claim_Year')"
      ],
      "execution_count": 36,
      "outputs": []
    },
    {
      "cell_type": "code",
      "metadata": {
        "scrolled": true,
        "colab": {
          "base_uri": "https://localhost:8080/"
        },
        "id": "3FTd1NP3z0hP",
        "outputId": "45f835da-ef5b-435a-c171-fb855d44a974"
      },
      "source": [
        "new_data.info()"
      ],
      "execution_count": 37,
      "outputs": [
        {
          "output_type": "stream",
          "text": [
            "<class 'pandas.core.frame.DataFrame'>\n",
            "Int64Index: 20248 entries, 0 to 20247\n",
            "Data columns (total 45 columns):\n",
            " #   Column            Non-Null Count  Dtype  \n",
            "---  ------            --------------  -----  \n",
            " 0   hhld_id           20248 non-null  int64  \n",
            " 1   drvr_cnt          20248 non-null  int64  \n",
            " 2   veh_cnt           20248 non-null  int64  \n",
            " 3   min_age           20248 non-null  float64\n",
            " 4   hoh_age           20248 non-null  float64\n",
            " 5   max_age           20248 non-null  float64\n",
            " 6   avg_age           20248 non-null  float64\n",
            " 7   min_mon_lic       20248 non-null  float64\n",
            " 8   hoh_mon_lic       20248 non-null  float64\n",
            " 9   max_mon_lic       20248 non-null  float64\n",
            " 10  avg_mon_lic       20248 non-null  float64\n",
            " 11  cnt_yth           20248 non-null  int64  \n",
            " 12  cnt_female        20248 non-null  int64  \n",
            " 13  cnt_male          20248 non-null  int64  \n",
            " 14  cnt_married       20248 non-null  int64  \n",
            " 15  cnt_single        20248 non-null  int64  \n",
            " 16  hoh_married       20248 non-null  int64  \n",
            " 17  cnt_auto          20248 non-null  int64  \n",
            " 18  cnt_mtrcyc        20248 non-null  int64  \n",
            " 19  avg_majr_viol     20248 non-null  float64\n",
            " 20  cnt_majr_viol     20248 non-null  int64  \n",
            " 21  cnt_minr_viol     20248 non-null  int64  \n",
            " 22  avg_minr_viol     20248 non-null  float64\n",
            " 23  cnt_lic_susp      20248 non-null  int64  \n",
            " 24  curnt_insurer     20248 non-null  object \n",
            " 25  time_w_carr       20248 non-null  float64\n",
            " 26  prior_bi          20248 non-null  float64\n",
            " 27  fire_ind          20248 non-null  int64  \n",
            " 28  homeowner_ind     20248 non-null  int64  \n",
            " 29  veh_lien_cnt      20248 non-null  float64\n",
            " 30  veh_lease_cnt     20248 non-null  int64  \n",
            " 31  veh_own_cnt       20248 non-null  int64  \n",
            " 32  monthly_pay_ind   20248 non-null  int64  \n",
            " 33  veh_w_coll_cnt    20248 non-null  int64  \n",
            " 34  veh_w_comp_cnt    20248 non-null  int64  \n",
            " 35  veh_w_ers_cnt     20248 non-null  int64  \n",
            " 36  curnt_bi_low      20248 non-null  int64  \n",
            " 37  curnt_bi_upp      20248 non-null  int64  \n",
            " 38  credit_score      20248 non-null  float64\n",
            " 39  zipcode           20248 non-null  int64  \n",
            " 40  premium           20248 non-null  float64\n",
            " 41  loss_ratio        20248 non-null  float64\n",
            " 42  future_clm_ind    20248 non-null  int64  \n",
            " 43  at_fault_cnt      20248 non-null  float64\n",
            " 44  not_at_fault_cnt  20248 non-null  float64\n",
            "dtypes: float64(18), int64(26), object(1)\n",
            "memory usage: 7.1+ MB\n"
          ],
          "name": "stdout"
        }
      ]
    },
    {
      "cell_type": "markdown",
      "metadata": {
        "id": "KInMwVD7z0hQ"
      },
      "source": [
        "## Step 1.3 Build Model"
      ]
    },
    {
      "cell_type": "markdown",
      "metadata": {
        "id": "XmEEy1J_z0hQ"
      },
      "source": [
        "### Data Preparation"
      ]
    },
    {
      "cell_type": "code",
      "metadata": {
        "scrolled": true,
        "id": "86x7KqAZz0hQ"
      },
      "source": [
        "# drop the household id as it has no real meaning\n",
        "X = new_data.drop(columns = ['future_clm_ind', 'hhld_id'])\n",
        "y = new_data.future_clm_ind.values"
      ],
      "execution_count": 38,
      "outputs": []
    },
    {
      "cell_type": "code",
      "metadata": {
        "colab": {
          "base_uri": "https://localhost:8080/"
        },
        "id": "EI_nE2mjz0hQ",
        "outputId": "695f19f9-7a5d-420c-dd81-8e9d4f4eb97c"
      },
      "source": [
        "print(X.shape, y.shape)"
      ],
      "execution_count": 39,
      "outputs": [
        {
          "output_type": "stream",
          "text": [
            "(20248, 43) (20248,)\n"
          ],
          "name": "stdout"
        }
      ]
    },
    {
      "cell_type": "code",
      "metadata": {
        "colab": {
          "base_uri": "https://localhost:8080/"
        },
        "id": "9scBtTAjz0hQ",
        "outputId": "e55ae23f-1de8-4256-93a9-1091ad6b27b6"
      },
      "source": [
        "# imbalance dataset, perform upsampling later\n",
        "y = new_data.future_clm_ind.values\n",
        "Counter(y)"
      ],
      "execution_count": 40,
      "outputs": [
        {
          "output_type": "execute_result",
          "data": {
            "text/plain": [
              "Counter({0: 19368, 1: 880})"
            ]
          },
          "metadata": {
            "tags": []
          },
          "execution_count": 40
        }
      ]
    },
    {
      "cell_type": "markdown",
      "metadata": {
        "id": "9-pWOEB-z0hQ"
      },
      "source": [
        "### Convert categorical to numeric"
      ]
    },
    {
      "cell_type": "code",
      "metadata": {
        "id": "0hhtIw9Pz0hQ"
      },
      "source": [
        "cat_cols = list(X.select_dtypes('object').columns)\n",
        "num_cols = list(X.columns[~X.columns.isin(cat_cols)])"
      ],
      "execution_count": 41,
      "outputs": []
    },
    {
      "cell_type": "code",
      "metadata": {
        "colab": {
          "base_uri": "https://localhost:8080/",
          "height": 456
        },
        "id": "PITKLggCz0hQ",
        "outputId": "5fca0c19-f90e-4887-b3db-a40a3d6a2568"
      },
      "source": [
        "encoder = OneHotEncoder()\n",
        "X_encoded = pd.DataFrame(encoder.fit_transform(X[cat_cols]).toarray(), index = X.index)\n",
        "X_encoded.columns = encoder.get_feature_names(cat_cols)\n",
        "X_encoded"
      ],
      "execution_count": 42,
      "outputs": [
        {
          "output_type": "execute_result",
          "data": {
            "text/html": [
              "<div>\n",
              "<style scoped>\n",
              "    .dataframe tbody tr th:only-of-type {\n",
              "        vertical-align: middle;\n",
              "    }\n",
              "\n",
              "    .dataframe tbody tr th {\n",
              "        vertical-align: top;\n",
              "    }\n",
              "\n",
              "    .dataframe thead th {\n",
              "        text-align: right;\n",
              "    }\n",
              "</style>\n",
              "<table border=\"1\" class=\"dataframe\">\n",
              "  <thead>\n",
              "    <tr style=\"text-align: right;\">\n",
              "      <th></th>\n",
              "      <th>curnt_insurer_ALLSTATE</th>\n",
              "      <th>curnt_insurer_AMERICAN FAMILY</th>\n",
              "      <th>curnt_insurer_FARMERS</th>\n",
              "      <th>curnt_insurer_GEICO</th>\n",
              "      <th>curnt_insurer_LIBERTY MUTUAL</th>\n",
              "      <th>curnt_insurer_MISSING</th>\n",
              "      <th>curnt_insurer_NATIONWIDE</th>\n",
              "      <th>curnt_insurer_OTHER</th>\n",
              "      <th>curnt_insurer_PROGRESSIVE</th>\n",
              "    </tr>\n",
              "  </thead>\n",
              "  <tbody>\n",
              "    <tr>\n",
              "      <th>0</th>\n",
              "      <td>0.0</td>\n",
              "      <td>0.0</td>\n",
              "      <td>0.0</td>\n",
              "      <td>0.0</td>\n",
              "      <td>0.0</td>\n",
              "      <td>0.0</td>\n",
              "      <td>0.0</td>\n",
              "      <td>0.0</td>\n",
              "      <td>1.0</td>\n",
              "    </tr>\n",
              "    <tr>\n",
              "      <th>1</th>\n",
              "      <td>0.0</td>\n",
              "      <td>0.0</td>\n",
              "      <td>0.0</td>\n",
              "      <td>0.0</td>\n",
              "      <td>0.0</td>\n",
              "      <td>0.0</td>\n",
              "      <td>0.0</td>\n",
              "      <td>1.0</td>\n",
              "      <td>0.0</td>\n",
              "    </tr>\n",
              "    <tr>\n",
              "      <th>2</th>\n",
              "      <td>0.0</td>\n",
              "      <td>0.0</td>\n",
              "      <td>1.0</td>\n",
              "      <td>0.0</td>\n",
              "      <td>0.0</td>\n",
              "      <td>0.0</td>\n",
              "      <td>0.0</td>\n",
              "      <td>0.0</td>\n",
              "      <td>0.0</td>\n",
              "    </tr>\n",
              "    <tr>\n",
              "      <th>3</th>\n",
              "      <td>0.0</td>\n",
              "      <td>0.0</td>\n",
              "      <td>0.0</td>\n",
              "      <td>0.0</td>\n",
              "      <td>0.0</td>\n",
              "      <td>0.0</td>\n",
              "      <td>0.0</td>\n",
              "      <td>1.0</td>\n",
              "      <td>0.0</td>\n",
              "    </tr>\n",
              "    <tr>\n",
              "      <th>4</th>\n",
              "      <td>0.0</td>\n",
              "      <td>0.0</td>\n",
              "      <td>0.0</td>\n",
              "      <td>0.0</td>\n",
              "      <td>0.0</td>\n",
              "      <td>0.0</td>\n",
              "      <td>0.0</td>\n",
              "      <td>1.0</td>\n",
              "      <td>0.0</td>\n",
              "    </tr>\n",
              "    <tr>\n",
              "      <th>...</th>\n",
              "      <td>...</td>\n",
              "      <td>...</td>\n",
              "      <td>...</td>\n",
              "      <td>...</td>\n",
              "      <td>...</td>\n",
              "      <td>...</td>\n",
              "      <td>...</td>\n",
              "      <td>...</td>\n",
              "      <td>...</td>\n",
              "    </tr>\n",
              "    <tr>\n",
              "      <th>20243</th>\n",
              "      <td>0.0</td>\n",
              "      <td>0.0</td>\n",
              "      <td>0.0</td>\n",
              "      <td>0.0</td>\n",
              "      <td>0.0</td>\n",
              "      <td>1.0</td>\n",
              "      <td>0.0</td>\n",
              "      <td>0.0</td>\n",
              "      <td>0.0</td>\n",
              "    </tr>\n",
              "    <tr>\n",
              "      <th>20244</th>\n",
              "      <td>1.0</td>\n",
              "      <td>0.0</td>\n",
              "      <td>0.0</td>\n",
              "      <td>0.0</td>\n",
              "      <td>0.0</td>\n",
              "      <td>0.0</td>\n",
              "      <td>0.0</td>\n",
              "      <td>0.0</td>\n",
              "      <td>0.0</td>\n",
              "    </tr>\n",
              "    <tr>\n",
              "      <th>20245</th>\n",
              "      <td>0.0</td>\n",
              "      <td>0.0</td>\n",
              "      <td>0.0</td>\n",
              "      <td>0.0</td>\n",
              "      <td>0.0</td>\n",
              "      <td>0.0</td>\n",
              "      <td>0.0</td>\n",
              "      <td>0.0</td>\n",
              "      <td>1.0</td>\n",
              "    </tr>\n",
              "    <tr>\n",
              "      <th>20246</th>\n",
              "      <td>0.0</td>\n",
              "      <td>0.0</td>\n",
              "      <td>0.0</td>\n",
              "      <td>0.0</td>\n",
              "      <td>0.0</td>\n",
              "      <td>1.0</td>\n",
              "      <td>0.0</td>\n",
              "      <td>0.0</td>\n",
              "      <td>0.0</td>\n",
              "    </tr>\n",
              "    <tr>\n",
              "      <th>20247</th>\n",
              "      <td>0.0</td>\n",
              "      <td>0.0</td>\n",
              "      <td>0.0</td>\n",
              "      <td>0.0</td>\n",
              "      <td>0.0</td>\n",
              "      <td>0.0</td>\n",
              "      <td>0.0</td>\n",
              "      <td>0.0</td>\n",
              "      <td>1.0</td>\n",
              "    </tr>\n",
              "  </tbody>\n",
              "</table>\n",
              "<p>20248 rows × 9 columns</p>\n",
              "</div>"
            ],
            "text/plain": [
              "       curnt_insurer_ALLSTATE  ...  curnt_insurer_PROGRESSIVE\n",
              "0                         0.0  ...                        1.0\n",
              "1                         0.0  ...                        0.0\n",
              "2                         0.0  ...                        0.0\n",
              "3                         0.0  ...                        0.0\n",
              "4                         0.0  ...                        0.0\n",
              "...                       ...  ...                        ...\n",
              "20243                     0.0  ...                        0.0\n",
              "20244                     1.0  ...                        0.0\n",
              "20245                     0.0  ...                        1.0\n",
              "20246                     0.0  ...                        0.0\n",
              "20247                     0.0  ...                        1.0\n",
              "\n",
              "[20248 rows x 9 columns]"
            ]
          },
          "metadata": {
            "tags": []
          },
          "execution_count": 42
        }
      ]
    },
    {
      "cell_type": "code",
      "metadata": {
        "id": "RH0ASWctz0hR"
      },
      "source": [
        "X = X.drop(columns = cat_cols)"
      ],
      "execution_count": 43,
      "outputs": []
    },
    {
      "cell_type": "code",
      "metadata": {
        "id": "zapdijBEz0hR"
      },
      "source": [
        "X = pd.concat([X, X_encoded], axis=1)"
      ],
      "execution_count": 44,
      "outputs": []
    },
    {
      "cell_type": "code",
      "metadata": {
        "scrolled": true,
        "colab": {
          "base_uri": "https://localhost:8080/"
        },
        "id": "4PjRj_onz0hR",
        "outputId": "99c24bfc-13d2-4844-8a40-daabc320c176"
      },
      "source": [
        "X.info()"
      ],
      "execution_count": 45,
      "outputs": [
        {
          "output_type": "stream",
          "text": [
            "<class 'pandas.core.frame.DataFrame'>\n",
            "Int64Index: 20248 entries, 0 to 20247\n",
            "Data columns (total 51 columns):\n",
            " #   Column                         Non-Null Count  Dtype  \n",
            "---  ------                         --------------  -----  \n",
            " 0   drvr_cnt                       20248 non-null  int64  \n",
            " 1   veh_cnt                        20248 non-null  int64  \n",
            " 2   min_age                        20248 non-null  float64\n",
            " 3   hoh_age                        20248 non-null  float64\n",
            " 4   max_age                        20248 non-null  float64\n",
            " 5   avg_age                        20248 non-null  float64\n",
            " 6   min_mon_lic                    20248 non-null  float64\n",
            " 7   hoh_mon_lic                    20248 non-null  float64\n",
            " 8   max_mon_lic                    20248 non-null  float64\n",
            " 9   avg_mon_lic                    20248 non-null  float64\n",
            " 10  cnt_yth                        20248 non-null  int64  \n",
            " 11  cnt_female                     20248 non-null  int64  \n",
            " 12  cnt_male                       20248 non-null  int64  \n",
            " 13  cnt_married                    20248 non-null  int64  \n",
            " 14  cnt_single                     20248 non-null  int64  \n",
            " 15  hoh_married                    20248 non-null  int64  \n",
            " 16  cnt_auto                       20248 non-null  int64  \n",
            " 17  cnt_mtrcyc                     20248 non-null  int64  \n",
            " 18  avg_majr_viol                  20248 non-null  float64\n",
            " 19  cnt_majr_viol                  20248 non-null  int64  \n",
            " 20  cnt_minr_viol                  20248 non-null  int64  \n",
            " 21  avg_minr_viol                  20248 non-null  float64\n",
            " 22  cnt_lic_susp                   20248 non-null  int64  \n",
            " 23  time_w_carr                    20248 non-null  float64\n",
            " 24  prior_bi                       20248 non-null  float64\n",
            " 25  fire_ind                       20248 non-null  int64  \n",
            " 26  homeowner_ind                  20248 non-null  int64  \n",
            " 27  veh_lien_cnt                   20248 non-null  float64\n",
            " 28  veh_lease_cnt                  20248 non-null  int64  \n",
            " 29  veh_own_cnt                    20248 non-null  int64  \n",
            " 30  monthly_pay_ind                20248 non-null  int64  \n",
            " 31  veh_w_coll_cnt                 20248 non-null  int64  \n",
            " 32  veh_w_comp_cnt                 20248 non-null  int64  \n",
            " 33  veh_w_ers_cnt                  20248 non-null  int64  \n",
            " 34  curnt_bi_low                   20248 non-null  int64  \n",
            " 35  curnt_bi_upp                   20248 non-null  int64  \n",
            " 36  credit_score                   20248 non-null  float64\n",
            " 37  zipcode                        20248 non-null  int64  \n",
            " 38  premium                        20248 non-null  float64\n",
            " 39  loss_ratio                     20248 non-null  float64\n",
            " 40  at_fault_cnt                   20248 non-null  float64\n",
            " 41  not_at_fault_cnt               20248 non-null  float64\n",
            " 42  curnt_insurer_ALLSTATE         20248 non-null  float64\n",
            " 43  curnt_insurer_AMERICAN FAMILY  20248 non-null  float64\n",
            " 44  curnt_insurer_FARMERS          20248 non-null  float64\n",
            " 45  curnt_insurer_GEICO            20248 non-null  float64\n",
            " 46  curnt_insurer_LIBERTY MUTUAL   20248 non-null  float64\n",
            " 47  curnt_insurer_MISSING          20248 non-null  float64\n",
            " 48  curnt_insurer_NATIONWIDE       20248 non-null  float64\n",
            " 49  curnt_insurer_OTHER            20248 non-null  float64\n",
            " 50  curnt_insurer_PROGRESSIVE      20248 non-null  float64\n",
            "dtypes: float64(27), int64(24)\n",
            "memory usage: 8.0 MB\n"
          ],
          "name": "stdout"
        }
      ]
    },
    {
      "cell_type": "markdown",
      "metadata": {
        "id": "8iaVBtGyz0hR"
      },
      "source": [
        "### train test split"
      ]
    },
    {
      "cell_type": "code",
      "metadata": {
        "id": "8AfY_hFsz0hR"
      },
      "source": [
        "X_train, X_test, y_train, y_test = train_test_split(X, y, test_size = 0.2, random_state = 24, stratify = y)"
      ],
      "execution_count": 46,
      "outputs": []
    },
    {
      "cell_type": "code",
      "metadata": {
        "scrolled": true,
        "colab": {
          "base_uri": "https://localhost:8080/"
        },
        "id": "_N_lq5m5z0hR",
        "outputId": "33805560-2094-4058-c92d-4d84699e7517"
      },
      "source": [
        "print(X_train.shape, X_test.shape, y_train.shape, y_test.shape)"
      ],
      "execution_count": 47,
      "outputs": [
        {
          "output_type": "stream",
          "text": [
            "(16198, 51) (4050, 51) (16198,) (4050,)\n"
          ],
          "name": "stdout"
        }
      ]
    },
    {
      "cell_type": "code",
      "metadata": {
        "colab": {
          "base_uri": "https://localhost:8080/"
        },
        "id": "r7peJOSfz0hS",
        "outputId": "7f7175fa-bc59-460a-e69e-ed9b784ab3f4"
      },
      "source": [
        "print(f'class 1: {sum(y_train == 1)}, class 0: {sum(y_train == 0)}')"
      ],
      "execution_count": 48,
      "outputs": [
        {
          "output_type": "stream",
          "text": [
            "class 1: 704, class 0: 15494\n"
          ],
          "name": "stdout"
        }
      ]
    },
    {
      "cell_type": "code",
      "metadata": {
        "colab": {
          "base_uri": "https://localhost:8080/"
        },
        "id": "rL9iIqzCz0hS",
        "outputId": "75640dd3-4723-4495-c6de-84eac09eb9fb"
      },
      "source": [
        "print(f'class 1: {sum(y_test == 1)}, class 0: {sum(y_test == 0)}')"
      ],
      "execution_count": 49,
      "outputs": [
        {
          "output_type": "stream",
          "text": [
            "class 1: 176, class 0: 3874\n"
          ],
          "name": "stdout"
        }
      ]
    },
    {
      "cell_type": "markdown",
      "metadata": {
        "id": "f-nk1gDmz0hS"
      },
      "source": [
        "### Normalize data"
      ]
    },
    {
      "cell_type": "code",
      "metadata": {
        "scrolled": true,
        "colab": {
          "base_uri": "https://localhost:8080/"
        },
        "id": "TAqBhyOPz0hS",
        "outputId": "9abe6e68-a085-43fc-812a-7ec34ff6eadd"
      },
      "source": [
        "Scaler = MinMaxScaler()\n",
        "X_train[num_cols] = Scaler.fit_transform(X_train[num_cols])"
      ],
      "execution_count": 50,
      "outputs": [
        {
          "output_type": "stream",
          "text": [
            "/usr/local/lib/python3.7/dist-packages/ipykernel_launcher.py:2: SettingWithCopyWarning: \n",
            "A value is trying to be set on a copy of a slice from a DataFrame.\n",
            "Try using .loc[row_indexer,col_indexer] = value instead\n",
            "\n",
            "See the caveats in the documentation: https://pandas.pydata.org/pandas-docs/stable/user_guide/indexing.html#returning-a-view-versus-a-copy\n",
            "  \n",
            "/usr/local/lib/python3.7/dist-packages/pandas/core/indexing.py:1734: SettingWithCopyWarning: \n",
            "A value is trying to be set on a copy of a slice from a DataFrame.\n",
            "Try using .loc[row_indexer,col_indexer] = value instead\n",
            "\n",
            "See the caveats in the documentation: https://pandas.pydata.org/pandas-docs/stable/user_guide/indexing.html#returning-a-view-versus-a-copy\n",
            "  isetter(loc, value[:, i].tolist())\n"
          ],
          "name": "stderr"
        }
      ]
    },
    {
      "cell_type": "code",
      "metadata": {
        "colab": {
          "base_uri": "https://localhost:8080/",
          "height": 241
        },
        "id": "Jd5oFOwgz0hS",
        "outputId": "1f346795-3fe4-4826-a0dd-66fc5045fd63"
      },
      "source": [
        "X_train.head()"
      ],
      "execution_count": 51,
      "outputs": [
        {
          "output_type": "execute_result",
          "data": {
            "text/html": [
              "<div>\n",
              "<style scoped>\n",
              "    .dataframe tbody tr th:only-of-type {\n",
              "        vertical-align: middle;\n",
              "    }\n",
              "\n",
              "    .dataframe tbody tr th {\n",
              "        vertical-align: top;\n",
              "    }\n",
              "\n",
              "    .dataframe thead th {\n",
              "        text-align: right;\n",
              "    }\n",
              "</style>\n",
              "<table border=\"1\" class=\"dataframe\">\n",
              "  <thead>\n",
              "    <tr style=\"text-align: right;\">\n",
              "      <th></th>\n",
              "      <th>drvr_cnt</th>\n",
              "      <th>veh_cnt</th>\n",
              "      <th>min_age</th>\n",
              "      <th>hoh_age</th>\n",
              "      <th>max_age</th>\n",
              "      <th>avg_age</th>\n",
              "      <th>min_mon_lic</th>\n",
              "      <th>hoh_mon_lic</th>\n",
              "      <th>max_mon_lic</th>\n",
              "      <th>avg_mon_lic</th>\n",
              "      <th>cnt_yth</th>\n",
              "      <th>cnt_female</th>\n",
              "      <th>cnt_male</th>\n",
              "      <th>cnt_married</th>\n",
              "      <th>cnt_single</th>\n",
              "      <th>hoh_married</th>\n",
              "      <th>cnt_auto</th>\n",
              "      <th>cnt_mtrcyc</th>\n",
              "      <th>avg_majr_viol</th>\n",
              "      <th>cnt_majr_viol</th>\n",
              "      <th>cnt_minr_viol</th>\n",
              "      <th>avg_minr_viol</th>\n",
              "      <th>cnt_lic_susp</th>\n",
              "      <th>time_w_carr</th>\n",
              "      <th>prior_bi</th>\n",
              "      <th>fire_ind</th>\n",
              "      <th>homeowner_ind</th>\n",
              "      <th>veh_lien_cnt</th>\n",
              "      <th>veh_lease_cnt</th>\n",
              "      <th>veh_own_cnt</th>\n",
              "      <th>monthly_pay_ind</th>\n",
              "      <th>veh_w_coll_cnt</th>\n",
              "      <th>veh_w_comp_cnt</th>\n",
              "      <th>veh_w_ers_cnt</th>\n",
              "      <th>curnt_bi_low</th>\n",
              "      <th>curnt_bi_upp</th>\n",
              "      <th>credit_score</th>\n",
              "      <th>zipcode</th>\n",
              "      <th>premium</th>\n",
              "      <th>loss_ratio</th>\n",
              "      <th>at_fault_cnt</th>\n",
              "      <th>not_at_fault_cnt</th>\n",
              "      <th>curnt_insurer_ALLSTATE</th>\n",
              "      <th>curnt_insurer_AMERICAN FAMILY</th>\n",
              "      <th>curnt_insurer_FARMERS</th>\n",
              "      <th>curnt_insurer_GEICO</th>\n",
              "      <th>curnt_insurer_LIBERTY MUTUAL</th>\n",
              "      <th>curnt_insurer_MISSING</th>\n",
              "      <th>curnt_insurer_NATIONWIDE</th>\n",
              "      <th>curnt_insurer_OTHER</th>\n",
              "      <th>curnt_insurer_PROGRESSIVE</th>\n",
              "    </tr>\n",
              "  </thead>\n",
              "  <tbody>\n",
              "    <tr>\n",
              "      <th>18690</th>\n",
              "      <td>0.333333</td>\n",
              "      <td>0.000000</td>\n",
              "      <td>0.182099</td>\n",
              "      <td>0.399746</td>\n",
              "      <td>0.399746</td>\n",
              "      <td>0.294710</td>\n",
              "      <td>0.182099</td>\n",
              "      <td>0.399746</td>\n",
              "      <td>0.399746</td>\n",
              "      <td>0.294710</td>\n",
              "      <td>0.000000</td>\n",
              "      <td>0.25</td>\n",
              "      <td>0.25</td>\n",
              "      <td>0.5</td>\n",
              "      <td>0.00</td>\n",
              "      <td>1.0</td>\n",
              "      <td>0.25</td>\n",
              "      <td>0.0</td>\n",
              "      <td>0.0</td>\n",
              "      <td>0.0</td>\n",
              "      <td>0.0</td>\n",
              "      <td>0.0</td>\n",
              "      <td>0.0</td>\n",
              "      <td>1.000000</td>\n",
              "      <td>0.000000</td>\n",
              "      <td>1.0</td>\n",
              "      <td>0.0</td>\n",
              "      <td>0.25</td>\n",
              "      <td>0.0</td>\n",
              "      <td>0.00</td>\n",
              "      <td>0.0</td>\n",
              "      <td>0.00</td>\n",
              "      <td>0.00</td>\n",
              "      <td>0.25</td>\n",
              "      <td>0.000000</td>\n",
              "      <td>0.000000</td>\n",
              "      <td>0.765627</td>\n",
              "      <td>0.658538</td>\n",
              "      <td>0.006716</td>\n",
              "      <td>0.0</td>\n",
              "      <td>0.0</td>\n",
              "      <td>0.0</td>\n",
              "      <td>1.0</td>\n",
              "      <td>0.0</td>\n",
              "      <td>0.0</td>\n",
              "      <td>0.0</td>\n",
              "      <td>0.0</td>\n",
              "      <td>0.0</td>\n",
              "      <td>0.0</td>\n",
              "      <td>0.0</td>\n",
              "      <td>0.0</td>\n",
              "    </tr>\n",
              "    <tr>\n",
              "      <th>15091</th>\n",
              "      <td>0.333333</td>\n",
              "      <td>0.333333</td>\n",
              "      <td>0.361718</td>\n",
              "      <td>0.414199</td>\n",
              "      <td>0.414199</td>\n",
              "      <td>0.391884</td>\n",
              "      <td>0.361718</td>\n",
              "      <td>0.414199</td>\n",
              "      <td>0.414199</td>\n",
              "      <td>0.391884</td>\n",
              "      <td>0.000000</td>\n",
              "      <td>0.00</td>\n",
              "      <td>0.50</td>\n",
              "      <td>0.0</td>\n",
              "      <td>0.50</td>\n",
              "      <td>0.0</td>\n",
              "      <td>0.50</td>\n",
              "      <td>0.0</td>\n",
              "      <td>0.0</td>\n",
              "      <td>0.0</td>\n",
              "      <td>0.2</td>\n",
              "      <td>0.1</td>\n",
              "      <td>0.0</td>\n",
              "      <td>0.400000</td>\n",
              "      <td>0.333333</td>\n",
              "      <td>1.0</td>\n",
              "      <td>0.0</td>\n",
              "      <td>0.00</td>\n",
              "      <td>0.0</td>\n",
              "      <td>0.50</td>\n",
              "      <td>1.0</td>\n",
              "      <td>0.50</td>\n",
              "      <td>0.50</td>\n",
              "      <td>0.25</td>\n",
              "      <td>0.000000</td>\n",
              "      <td>0.000000</td>\n",
              "      <td>0.378704</td>\n",
              "      <td>0.846418</td>\n",
              "      <td>0.384515</td>\n",
              "      <td>0.0</td>\n",
              "      <td>0.0</td>\n",
              "      <td>0.0</td>\n",
              "      <td>0.0</td>\n",
              "      <td>1.0</td>\n",
              "      <td>0.0</td>\n",
              "      <td>0.0</td>\n",
              "      <td>0.0</td>\n",
              "      <td>0.0</td>\n",
              "      <td>0.0</td>\n",
              "      <td>0.0</td>\n",
              "      <td>0.0</td>\n",
              "    </tr>\n",
              "    <tr>\n",
              "      <th>11517</th>\n",
              "      <td>0.333333</td>\n",
              "      <td>0.333333</td>\n",
              "      <td>0.412327</td>\n",
              "      <td>0.554593</td>\n",
              "      <td>0.554593</td>\n",
              "      <td>0.488716</td>\n",
              "      <td>0.412327</td>\n",
              "      <td>0.554593</td>\n",
              "      <td>0.554593</td>\n",
              "      <td>0.488716</td>\n",
              "      <td>0.000000</td>\n",
              "      <td>0.50</td>\n",
              "      <td>0.00</td>\n",
              "      <td>0.0</td>\n",
              "      <td>0.50</td>\n",
              "      <td>0.0</td>\n",
              "      <td>0.50</td>\n",
              "      <td>0.0</td>\n",
              "      <td>0.0</td>\n",
              "      <td>0.0</td>\n",
              "      <td>0.0</td>\n",
              "      <td>0.0</td>\n",
              "      <td>0.0</td>\n",
              "      <td>0.633888</td>\n",
              "      <td>0.111111</td>\n",
              "      <td>0.0</td>\n",
              "      <td>0.0</td>\n",
              "      <td>0.25</td>\n",
              "      <td>0.0</td>\n",
              "      <td>0.25</td>\n",
              "      <td>0.0</td>\n",
              "      <td>0.25</td>\n",
              "      <td>0.25</td>\n",
              "      <td>0.25</td>\n",
              "      <td>1.000000</td>\n",
              "      <td>1.000000</td>\n",
              "      <td>0.807932</td>\n",
              "      <td>0.173195</td>\n",
              "      <td>0.234328</td>\n",
              "      <td>0.0</td>\n",
              "      <td>0.5</td>\n",
              "      <td>0.0</td>\n",
              "      <td>0.0</td>\n",
              "      <td>0.0</td>\n",
              "      <td>0.0</td>\n",
              "      <td>0.0</td>\n",
              "      <td>0.0</td>\n",
              "      <td>1.0</td>\n",
              "      <td>0.0</td>\n",
              "      <td>0.0</td>\n",
              "      <td>0.0</td>\n",
              "    </tr>\n",
              "    <tr>\n",
              "      <th>14797</th>\n",
              "      <td>0.000000</td>\n",
              "      <td>0.000000</td>\n",
              "      <td>0.318817</td>\n",
              "      <td>0.312887</td>\n",
              "      <td>0.312887</td>\n",
              "      <td>0.318817</td>\n",
              "      <td>0.318817</td>\n",
              "      <td>0.312887</td>\n",
              "      <td>0.312887</td>\n",
              "      <td>0.318817</td>\n",
              "      <td>0.000000</td>\n",
              "      <td>0.00</td>\n",
              "      <td>0.25</td>\n",
              "      <td>0.0</td>\n",
              "      <td>0.25</td>\n",
              "      <td>0.0</td>\n",
              "      <td>0.25</td>\n",
              "      <td>0.0</td>\n",
              "      <td>0.0</td>\n",
              "      <td>0.0</td>\n",
              "      <td>0.2</td>\n",
              "      <td>0.2</td>\n",
              "      <td>0.0</td>\n",
              "      <td>0.633888</td>\n",
              "      <td>0.111111</td>\n",
              "      <td>1.0</td>\n",
              "      <td>1.0</td>\n",
              "      <td>0.25</td>\n",
              "      <td>0.0</td>\n",
              "      <td>0.00</td>\n",
              "      <td>0.0</td>\n",
              "      <td>0.25</td>\n",
              "      <td>0.25</td>\n",
              "      <td>0.25</td>\n",
              "      <td>0.000000</td>\n",
              "      <td>0.000000</td>\n",
              "      <td>0.661174</td>\n",
              "      <td>0.972504</td>\n",
              "      <td>0.146082</td>\n",
              "      <td>0.0</td>\n",
              "      <td>0.0</td>\n",
              "      <td>0.0</td>\n",
              "      <td>0.0</td>\n",
              "      <td>0.0</td>\n",
              "      <td>0.0</td>\n",
              "      <td>0.0</td>\n",
              "      <td>0.0</td>\n",
              "      <td>1.0</td>\n",
              "      <td>0.0</td>\n",
              "      <td>0.0</td>\n",
              "      <td>0.0</td>\n",
              "    </tr>\n",
              "    <tr>\n",
              "      <th>2587</th>\n",
              "      <td>0.666667</td>\n",
              "      <td>0.333333</td>\n",
              "      <td>0.000000</td>\n",
              "      <td>0.220310</td>\n",
              "      <td>0.314494</td>\n",
              "      <td>0.181647</td>\n",
              "      <td>0.000000</td>\n",
              "      <td>0.220310</td>\n",
              "      <td>0.314494</td>\n",
              "      <td>0.181647</td>\n",
              "      <td>0.333333</td>\n",
              "      <td>0.25</td>\n",
              "      <td>0.50</td>\n",
              "      <td>0.5</td>\n",
              "      <td>0.25</td>\n",
              "      <td>1.0</td>\n",
              "      <td>0.50</td>\n",
              "      <td>0.0</td>\n",
              "      <td>0.0</td>\n",
              "      <td>0.0</td>\n",
              "      <td>0.0</td>\n",
              "      <td>0.0</td>\n",
              "      <td>0.0</td>\n",
              "      <td>0.400000</td>\n",
              "      <td>1.000000</td>\n",
              "      <td>0.0</td>\n",
              "      <td>1.0</td>\n",
              "      <td>0.50</td>\n",
              "      <td>0.0</td>\n",
              "      <td>0.00</td>\n",
              "      <td>0.0</td>\n",
              "      <td>0.50</td>\n",
              "      <td>0.50</td>\n",
              "      <td>0.25</td>\n",
              "      <td>0.111111</td>\n",
              "      <td>0.111111</td>\n",
              "      <td>0.557851</td>\n",
              "      <td>0.963138</td>\n",
              "      <td>0.442164</td>\n",
              "      <td>0.0</td>\n",
              "      <td>0.0</td>\n",
              "      <td>0.5</td>\n",
              "      <td>0.0</td>\n",
              "      <td>0.0</td>\n",
              "      <td>0.0</td>\n",
              "      <td>1.0</td>\n",
              "      <td>0.0</td>\n",
              "      <td>0.0</td>\n",
              "      <td>0.0</td>\n",
              "      <td>0.0</td>\n",
              "      <td>0.0</td>\n",
              "    </tr>\n",
              "  </tbody>\n",
              "</table>\n",
              "</div>"
            ],
            "text/plain": [
              "       drvr_cnt   veh_cnt  ...  curnt_insurer_OTHER  curnt_insurer_PROGRESSIVE\n",
              "18690  0.333333  0.000000  ...                  0.0                        0.0\n",
              "15091  0.333333  0.333333  ...                  0.0                        0.0\n",
              "11517  0.333333  0.333333  ...                  0.0                        0.0\n",
              "14797  0.000000  0.000000  ...                  0.0                        0.0\n",
              "2587   0.666667  0.333333  ...                  0.0                        0.0\n",
              "\n",
              "[5 rows x 51 columns]"
            ]
          },
          "metadata": {
            "tags": []
          },
          "execution_count": 51
        }
      ]
    },
    {
      "cell_type": "markdown",
      "metadata": {
        "id": "J1mppdsFz0hS"
      },
      "source": [
        "### Upsampling using Smote"
      ]
    },
    {
      "cell_type": "code",
      "metadata": {
        "colab": {
          "base_uri": "https://localhost:8080/"
        },
        "id": "ck4lji0Oz0hS",
        "outputId": "18377c0d-cb96-427f-867f-1db3a124bf64"
      },
      "source": [
        "smt = SMOTETomek(random_state = 24)\n",
        "X_res, y_res = smt.fit_resample(X_train.to_numpy(),y_train)"
      ],
      "execution_count": 52,
      "outputs": [
        {
          "output_type": "stream",
          "text": [
            "/usr/local/lib/python3.7/dist-packages/sklearn/utils/deprecation.py:87: FutureWarning: Function safe_indexing is deprecated; safe_indexing is deprecated in version 0.22 and will be removed in version 0.24.\n",
            "  warnings.warn(msg, category=FutureWarning)\n",
            "/usr/local/lib/python3.7/dist-packages/sklearn/utils/deprecation.py:87: FutureWarning: Function safe_indexing is deprecated; safe_indexing is deprecated in version 0.22 and will be removed in version 0.24.\n",
            "  warnings.warn(msg, category=FutureWarning)\n"
          ],
          "name": "stderr"
        }
      ]
    },
    {
      "cell_type": "code",
      "metadata": {
        "colab": {
          "base_uri": "https://localhost:8080/"
        },
        "id": "IItKJiabz0hT",
        "outputId": "c99ad3d3-9630-40b6-a898-292ec4469f46"
      },
      "source": [
        "print(X_res.shape, y_res.shape)"
      ],
      "execution_count": 53,
      "outputs": [
        {
          "output_type": "stream",
          "text": [
            "(30988, 51) (30988,)\n"
          ],
          "name": "stdout"
        }
      ]
    },
    {
      "cell_type": "code",
      "metadata": {
        "colab": {
          "base_uri": "https://localhost:8080/"
        },
        "id": "3K8mBEyAz0hT",
        "outputId": "26d9b802-3ce5-4bae-ce23-095d13c1d044"
      },
      "source": [
        "# Validate that we have a balance dataset \n",
        "Counter(y_res)"
      ],
      "execution_count": 54,
      "outputs": [
        {
          "output_type": "execute_result",
          "data": {
            "text/plain": [
              "Counter({0: 15494, 1: 15494})"
            ]
          },
          "metadata": {
            "tags": []
          },
          "execution_count": 54
        }
      ]
    },
    {
      "cell_type": "code",
      "metadata": {
        "id": "TYI2dbHKz0hT"
      },
      "source": [
        "X_res_df = pd.DataFrame(X_res, columns = X_train.columns)"
      ],
      "execution_count": 55,
      "outputs": []
    },
    {
      "cell_type": "code",
      "metadata": {
        "scrolled": true,
        "colab": {
          "base_uri": "https://localhost:8080/"
        },
        "id": "jK-h303Kz0hT",
        "outputId": "6ba0def2-4420-4aa9-876d-12d5d4fc1247"
      },
      "source": [
        "X_res_df.info()"
      ],
      "execution_count": 56,
      "outputs": [
        {
          "output_type": "stream",
          "text": [
            "<class 'pandas.core.frame.DataFrame'>\n",
            "RangeIndex: 30988 entries, 0 to 30987\n",
            "Data columns (total 51 columns):\n",
            " #   Column                         Non-Null Count  Dtype  \n",
            "---  ------                         --------------  -----  \n",
            " 0   drvr_cnt                       30988 non-null  float64\n",
            " 1   veh_cnt                        30988 non-null  float64\n",
            " 2   min_age                        30988 non-null  float64\n",
            " 3   hoh_age                        30988 non-null  float64\n",
            " 4   max_age                        30988 non-null  float64\n",
            " 5   avg_age                        30988 non-null  float64\n",
            " 6   min_mon_lic                    30988 non-null  float64\n",
            " 7   hoh_mon_lic                    30988 non-null  float64\n",
            " 8   max_mon_lic                    30988 non-null  float64\n",
            " 9   avg_mon_lic                    30988 non-null  float64\n",
            " 10  cnt_yth                        30988 non-null  float64\n",
            " 11  cnt_female                     30988 non-null  float64\n",
            " 12  cnt_male                       30988 non-null  float64\n",
            " 13  cnt_married                    30988 non-null  float64\n",
            " 14  cnt_single                     30988 non-null  float64\n",
            " 15  hoh_married                    30988 non-null  float64\n",
            " 16  cnt_auto                       30988 non-null  float64\n",
            " 17  cnt_mtrcyc                     30988 non-null  float64\n",
            " 18  avg_majr_viol                  30988 non-null  float64\n",
            " 19  cnt_majr_viol                  30988 non-null  float64\n",
            " 20  cnt_minr_viol                  30988 non-null  float64\n",
            " 21  avg_minr_viol                  30988 non-null  float64\n",
            " 22  cnt_lic_susp                   30988 non-null  float64\n",
            " 23  time_w_carr                    30988 non-null  float64\n",
            " 24  prior_bi                       30988 non-null  float64\n",
            " 25  fire_ind                       30988 non-null  float64\n",
            " 26  homeowner_ind                  30988 non-null  float64\n",
            " 27  veh_lien_cnt                   30988 non-null  float64\n",
            " 28  veh_lease_cnt                  30988 non-null  float64\n",
            " 29  veh_own_cnt                    30988 non-null  float64\n",
            " 30  monthly_pay_ind                30988 non-null  float64\n",
            " 31  veh_w_coll_cnt                 30988 non-null  float64\n",
            " 32  veh_w_comp_cnt                 30988 non-null  float64\n",
            " 33  veh_w_ers_cnt                  30988 non-null  float64\n",
            " 34  curnt_bi_low                   30988 non-null  float64\n",
            " 35  curnt_bi_upp                   30988 non-null  float64\n",
            " 36  credit_score                   30988 non-null  float64\n",
            " 37  zipcode                        30988 non-null  float64\n",
            " 38  premium                        30988 non-null  float64\n",
            " 39  loss_ratio                     30988 non-null  float64\n",
            " 40  at_fault_cnt                   30988 non-null  float64\n",
            " 41  not_at_fault_cnt               30988 non-null  float64\n",
            " 42  curnt_insurer_ALLSTATE         30988 non-null  float64\n",
            " 43  curnt_insurer_AMERICAN FAMILY  30988 non-null  float64\n",
            " 44  curnt_insurer_FARMERS          30988 non-null  float64\n",
            " 45  curnt_insurer_GEICO            30988 non-null  float64\n",
            " 46  curnt_insurer_LIBERTY MUTUAL   30988 non-null  float64\n",
            " 47  curnt_insurer_MISSING          30988 non-null  float64\n",
            " 48  curnt_insurer_NATIONWIDE       30988 non-null  float64\n",
            " 49  curnt_insurer_OTHER            30988 non-null  float64\n",
            " 50  curnt_insurer_PROGRESSIVE      30988 non-null  float64\n",
            "dtypes: float64(51)\n",
            "memory usage: 12.1 MB\n"
          ],
          "name": "stdout"
        }
      ]
    },
    {
      "cell_type": "markdown",
      "metadata": {
        "id": "kHd9TQDuz0hT"
      },
      "source": [
        "### Model Building"
      ]
    },
    {
      "cell_type": "code",
      "metadata": {
        "colab": {
          "base_uri": "https://localhost:8080/"
        },
        "id": "Kqor-f0GOUdF",
        "outputId": "93b6187c-bccd-4949-ff36-7a35ce0a3110"
      },
      "source": [
        "# normalize X_test using the scale for X_train\n",
        "X_test[num_cols] = Scaler.transform(X_test[num_cols])"
      ],
      "execution_count": 57,
      "outputs": [
        {
          "output_type": "stream",
          "text": [
            "/usr/local/lib/python3.7/dist-packages/ipykernel_launcher.py:2: SettingWithCopyWarning: \n",
            "A value is trying to be set on a copy of a slice from a DataFrame.\n",
            "Try using .loc[row_indexer,col_indexer] = value instead\n",
            "\n",
            "See the caveats in the documentation: https://pandas.pydata.org/pandas-docs/stable/user_guide/indexing.html#returning-a-view-versus-a-copy\n",
            "  \n",
            "/usr/local/lib/python3.7/dist-packages/pandas/core/indexing.py:1734: SettingWithCopyWarning: \n",
            "A value is trying to be set on a copy of a slice from a DataFrame.\n",
            "Try using .loc[row_indexer,col_indexer] = value instead\n",
            "\n",
            "See the caveats in the documentation: https://pandas.pydata.org/pandas-docs/stable/user_guide/indexing.html#returning-a-view-versus-a-copy\n",
            "  isetter(loc, value[:, i].tolist())\n"
          ],
          "name": "stderr"
        }
      ]
    },
    {
      "cell_type": "code",
      "metadata": {
        "colab": {
          "base_uri": "https://localhost:8080/",
          "height": 241
        },
        "id": "w1jCCBG4PBNT",
        "outputId": "9039bb37-ba05-47e3-b276-aa8df140fc19"
      },
      "source": [
        "X_test.head()"
      ],
      "execution_count": 58,
      "outputs": [
        {
          "output_type": "execute_result",
          "data": {
            "text/html": [
              "<div>\n",
              "<style scoped>\n",
              "    .dataframe tbody tr th:only-of-type {\n",
              "        vertical-align: middle;\n",
              "    }\n",
              "\n",
              "    .dataframe tbody tr th {\n",
              "        vertical-align: top;\n",
              "    }\n",
              "\n",
              "    .dataframe thead th {\n",
              "        text-align: right;\n",
              "    }\n",
              "</style>\n",
              "<table border=\"1\" class=\"dataframe\">\n",
              "  <thead>\n",
              "    <tr style=\"text-align: right;\">\n",
              "      <th></th>\n",
              "      <th>drvr_cnt</th>\n",
              "      <th>veh_cnt</th>\n",
              "      <th>min_age</th>\n",
              "      <th>hoh_age</th>\n",
              "      <th>max_age</th>\n",
              "      <th>avg_age</th>\n",
              "      <th>min_mon_lic</th>\n",
              "      <th>hoh_mon_lic</th>\n",
              "      <th>max_mon_lic</th>\n",
              "      <th>avg_mon_lic</th>\n",
              "      <th>cnt_yth</th>\n",
              "      <th>cnt_female</th>\n",
              "      <th>cnt_male</th>\n",
              "      <th>cnt_married</th>\n",
              "      <th>cnt_single</th>\n",
              "      <th>hoh_married</th>\n",
              "      <th>cnt_auto</th>\n",
              "      <th>cnt_mtrcyc</th>\n",
              "      <th>avg_majr_viol</th>\n",
              "      <th>cnt_majr_viol</th>\n",
              "      <th>cnt_minr_viol</th>\n",
              "      <th>avg_minr_viol</th>\n",
              "      <th>cnt_lic_susp</th>\n",
              "      <th>time_w_carr</th>\n",
              "      <th>prior_bi</th>\n",
              "      <th>fire_ind</th>\n",
              "      <th>homeowner_ind</th>\n",
              "      <th>veh_lien_cnt</th>\n",
              "      <th>veh_lease_cnt</th>\n",
              "      <th>veh_own_cnt</th>\n",
              "      <th>monthly_pay_ind</th>\n",
              "      <th>veh_w_coll_cnt</th>\n",
              "      <th>veh_w_comp_cnt</th>\n",
              "      <th>veh_w_ers_cnt</th>\n",
              "      <th>curnt_bi_low</th>\n",
              "      <th>curnt_bi_upp</th>\n",
              "      <th>credit_score</th>\n",
              "      <th>zipcode</th>\n",
              "      <th>premium</th>\n",
              "      <th>loss_ratio</th>\n",
              "      <th>at_fault_cnt</th>\n",
              "      <th>not_at_fault_cnt</th>\n",
              "      <th>curnt_insurer_ALLSTATE</th>\n",
              "      <th>curnt_insurer_AMERICAN FAMILY</th>\n",
              "      <th>curnt_insurer_FARMERS</th>\n",
              "      <th>curnt_insurer_GEICO</th>\n",
              "      <th>curnt_insurer_LIBERTY MUTUAL</th>\n",
              "      <th>curnt_insurer_MISSING</th>\n",
              "      <th>curnt_insurer_NATIONWIDE</th>\n",
              "      <th>curnt_insurer_OTHER</th>\n",
              "      <th>curnt_insurer_PROGRESSIVE</th>\n",
              "    </tr>\n",
              "  </thead>\n",
              "  <tbody>\n",
              "    <tr>\n",
              "      <th>13023</th>\n",
              "      <td>0.333333</td>\n",
              "      <td>0.000000</td>\n",
              "      <td>0.135846</td>\n",
              "      <td>0.538044</td>\n",
              "      <td>0.538044</td>\n",
              "      <td>0.342044</td>\n",
              "      <td>0.135846</td>\n",
              "      <td>0.538044</td>\n",
              "      <td>0.538044</td>\n",
              "      <td>0.342044</td>\n",
              "      <td>0.0</td>\n",
              "      <td>0.25</td>\n",
              "      <td>0.25</td>\n",
              "      <td>0.50</td>\n",
              "      <td>0.00</td>\n",
              "      <td>1.0</td>\n",
              "      <td>0.00</td>\n",
              "      <td>0.333333</td>\n",
              "      <td>0.0</td>\n",
              "      <td>0.0</td>\n",
              "      <td>0.2</td>\n",
              "      <td>0.1</td>\n",
              "      <td>0.0</td>\n",
              "      <td>1.000000</td>\n",
              "      <td>0.000000</td>\n",
              "      <td>0.0</td>\n",
              "      <td>1.0</td>\n",
              "      <td>0.25</td>\n",
              "      <td>0.0</td>\n",
              "      <td>0.00</td>\n",
              "      <td>0.0</td>\n",
              "      <td>0.25</td>\n",
              "      <td>0.25</td>\n",
              "      <td>0.25</td>\n",
              "      <td>0.333333</td>\n",
              "      <td>0.333333</td>\n",
              "      <td>0.610189</td>\n",
              "      <td>0.829559</td>\n",
              "      <td>0.177239</td>\n",
              "      <td>0.0</td>\n",
              "      <td>0.0</td>\n",
              "      <td>0.0</td>\n",
              "      <td>0.0</td>\n",
              "      <td>0.0</td>\n",
              "      <td>0.0</td>\n",
              "      <td>0.0</td>\n",
              "      <td>0.0</td>\n",
              "      <td>0.0</td>\n",
              "      <td>0.0</td>\n",
              "      <td>0.0</td>\n",
              "      <td>1.0</td>\n",
              "    </tr>\n",
              "    <tr>\n",
              "      <th>16667</th>\n",
              "      <td>0.333333</td>\n",
              "      <td>0.333333</td>\n",
              "      <td>0.079396</td>\n",
              "      <td>0.452531</td>\n",
              "      <td>0.452531</td>\n",
              "      <td>0.270252</td>\n",
              "      <td>0.079396</td>\n",
              "      <td>0.452531</td>\n",
              "      <td>0.452531</td>\n",
              "      <td>0.270252</td>\n",
              "      <td>0.0</td>\n",
              "      <td>0.25</td>\n",
              "      <td>0.25</td>\n",
              "      <td>0.25</td>\n",
              "      <td>0.25</td>\n",
              "      <td>1.0</td>\n",
              "      <td>0.50</td>\n",
              "      <td>0.000000</td>\n",
              "      <td>0.0</td>\n",
              "      <td>0.0</td>\n",
              "      <td>0.0</td>\n",
              "      <td>0.0</td>\n",
              "      <td>0.0</td>\n",
              "      <td>0.200000</td>\n",
              "      <td>0.333333</td>\n",
              "      <td>0.0</td>\n",
              "      <td>0.0</td>\n",
              "      <td>0.25</td>\n",
              "      <td>0.0</td>\n",
              "      <td>0.25</td>\n",
              "      <td>0.0</td>\n",
              "      <td>0.00</td>\n",
              "      <td>0.25</td>\n",
              "      <td>0.25</td>\n",
              "      <td>0.333333</td>\n",
              "      <td>0.333333</td>\n",
              "      <td>0.850409</td>\n",
              "      <td>0.000000</td>\n",
              "      <td>0.159701</td>\n",
              "      <td>0.0</td>\n",
              "      <td>0.0</td>\n",
              "      <td>0.0</td>\n",
              "      <td>1.0</td>\n",
              "      <td>0.0</td>\n",
              "      <td>0.0</td>\n",
              "      <td>0.0</td>\n",
              "      <td>0.0</td>\n",
              "      <td>0.0</td>\n",
              "      <td>0.0</td>\n",
              "      <td>0.0</td>\n",
              "      <td>0.0</td>\n",
              "    </tr>\n",
              "    <tr>\n",
              "      <th>8701</th>\n",
              "      <td>0.333333</td>\n",
              "      <td>0.000000</td>\n",
              "      <td>0.281676</td>\n",
              "      <td>0.419283</td>\n",
              "      <td>0.419283</td>\n",
              "      <td>0.354453</td>\n",
              "      <td>0.281676</td>\n",
              "      <td>0.419283</td>\n",
              "      <td>0.419283</td>\n",
              "      <td>0.354453</td>\n",
              "      <td>0.0</td>\n",
              "      <td>0.50</td>\n",
              "      <td>0.00</td>\n",
              "      <td>0.25</td>\n",
              "      <td>0.25</td>\n",
              "      <td>1.0</td>\n",
              "      <td>0.25</td>\n",
              "      <td>0.000000</td>\n",
              "      <td>0.0</td>\n",
              "      <td>0.0</td>\n",
              "      <td>0.0</td>\n",
              "      <td>0.0</td>\n",
              "      <td>0.0</td>\n",
              "      <td>0.000000</td>\n",
              "      <td>0.111111</td>\n",
              "      <td>1.0</td>\n",
              "      <td>1.0</td>\n",
              "      <td>0.00</td>\n",
              "      <td>0.0</td>\n",
              "      <td>0.25</td>\n",
              "      <td>1.0</td>\n",
              "      <td>0.25</td>\n",
              "      <td>0.25</td>\n",
              "      <td>0.25</td>\n",
              "      <td>0.333333</td>\n",
              "      <td>0.333333</td>\n",
              "      <td>0.629107</td>\n",
              "      <td>0.475598</td>\n",
              "      <td>0.146082</td>\n",
              "      <td>0.0</td>\n",
              "      <td>0.0</td>\n",
              "      <td>0.0</td>\n",
              "      <td>0.0</td>\n",
              "      <td>0.0</td>\n",
              "      <td>0.0</td>\n",
              "      <td>0.0</td>\n",
              "      <td>1.0</td>\n",
              "      <td>0.0</td>\n",
              "      <td>0.0</td>\n",
              "      <td>0.0</td>\n",
              "      <td>0.0</td>\n",
              "    </tr>\n",
              "    <tr>\n",
              "      <th>1681</th>\n",
              "      <td>0.000000</td>\n",
              "      <td>0.000000</td>\n",
              "      <td>0.239555</td>\n",
              "      <td>0.235099</td>\n",
              "      <td>0.235099</td>\n",
              "      <td>0.239555</td>\n",
              "      <td>0.239555</td>\n",
              "      <td>0.235099</td>\n",
              "      <td>0.235099</td>\n",
              "      <td>0.239555</td>\n",
              "      <td>0.0</td>\n",
              "      <td>0.25</td>\n",
              "      <td>0.00</td>\n",
              "      <td>0.00</td>\n",
              "      <td>0.25</td>\n",
              "      <td>0.0</td>\n",
              "      <td>0.25</td>\n",
              "      <td>0.000000</td>\n",
              "      <td>0.0</td>\n",
              "      <td>0.0</td>\n",
              "      <td>0.0</td>\n",
              "      <td>0.0</td>\n",
              "      <td>0.0</td>\n",
              "      <td>0.633888</td>\n",
              "      <td>0.111111</td>\n",
              "      <td>1.0</td>\n",
              "      <td>1.0</td>\n",
              "      <td>0.00</td>\n",
              "      <td>0.0</td>\n",
              "      <td>0.25</td>\n",
              "      <td>1.0</td>\n",
              "      <td>0.00</td>\n",
              "      <td>0.00</td>\n",
              "      <td>0.25</td>\n",
              "      <td>0.333333</td>\n",
              "      <td>0.333333</td>\n",
              "      <td>0.714653</td>\n",
              "      <td>0.797380</td>\n",
              "      <td>0.041978</td>\n",
              "      <td>0.0</td>\n",
              "      <td>0.0</td>\n",
              "      <td>0.0</td>\n",
              "      <td>0.0</td>\n",
              "      <td>0.0</td>\n",
              "      <td>0.0</td>\n",
              "      <td>0.0</td>\n",
              "      <td>0.0</td>\n",
              "      <td>1.0</td>\n",
              "      <td>0.0</td>\n",
              "      <td>0.0</td>\n",
              "      <td>0.0</td>\n",
              "    </tr>\n",
              "    <tr>\n",
              "      <th>7566</th>\n",
              "      <td>0.333333</td>\n",
              "      <td>0.666667</td>\n",
              "      <td>0.067549</td>\n",
              "      <td>0.223588</td>\n",
              "      <td>0.223588</td>\n",
              "      <td>0.147688</td>\n",
              "      <td>0.067549</td>\n",
              "      <td>0.223588</td>\n",
              "      <td>0.223588</td>\n",
              "      <td>0.147688</td>\n",
              "      <td>0.0</td>\n",
              "      <td>0.00</td>\n",
              "      <td>0.50</td>\n",
              "      <td>0.50</td>\n",
              "      <td>0.00</td>\n",
              "      <td>1.0</td>\n",
              "      <td>0.75</td>\n",
              "      <td>0.000000</td>\n",
              "      <td>0.0</td>\n",
              "      <td>0.0</td>\n",
              "      <td>0.6</td>\n",
              "      <td>0.3</td>\n",
              "      <td>0.0</td>\n",
              "      <td>0.200000</td>\n",
              "      <td>0.333333</td>\n",
              "      <td>0.0</td>\n",
              "      <td>1.0</td>\n",
              "      <td>0.25</td>\n",
              "      <td>0.0</td>\n",
              "      <td>0.50</td>\n",
              "      <td>0.0</td>\n",
              "      <td>0.50</td>\n",
              "      <td>0.50</td>\n",
              "      <td>0.00</td>\n",
              "      <td>0.000000</td>\n",
              "      <td>0.000000</td>\n",
              "      <td>0.847814</td>\n",
              "      <td>0.448882</td>\n",
              "      <td>0.438806</td>\n",
              "      <td>0.0</td>\n",
              "      <td>0.0</td>\n",
              "      <td>0.0</td>\n",
              "      <td>0.0</td>\n",
              "      <td>0.0</td>\n",
              "      <td>0.0</td>\n",
              "      <td>0.0</td>\n",
              "      <td>0.0</td>\n",
              "      <td>0.0</td>\n",
              "      <td>1.0</td>\n",
              "      <td>0.0</td>\n",
              "      <td>0.0</td>\n",
              "    </tr>\n",
              "  </tbody>\n",
              "</table>\n",
              "</div>"
            ],
            "text/plain": [
              "       drvr_cnt   veh_cnt  ...  curnt_insurer_OTHER  curnt_insurer_PROGRESSIVE\n",
              "13023  0.333333  0.000000  ...                  0.0                        1.0\n",
              "16667  0.333333  0.333333  ...                  0.0                        0.0\n",
              "8701   0.333333  0.000000  ...                  0.0                        0.0\n",
              "1681   0.000000  0.000000  ...                  0.0                        0.0\n",
              "7566   0.333333  0.666667  ...                  0.0                        0.0\n",
              "\n",
              "[5 rows x 51 columns]"
            ]
          },
          "metadata": {
            "tags": []
          },
          "execution_count": 58
        }
      ]
    },
    {
      "cell_type": "markdown",
      "metadata": {
        "id": "od5UI1Riz0hT"
      },
      "source": [
        "#### Model 1: Logistic Regression with Feature Reduction"
      ]
    },
    {
      "cell_type": "code",
      "metadata": {
        "colab": {
          "base_uri": "https://localhost:8080/"
        },
        "id": "BOUF2Qx-z0hT",
        "outputId": "fc596b5c-922a-4665-8877-9649470ce891"
      },
      "source": [
        "# recursive feature reduction\n",
        "lr = LogisticRegression()\n",
        "rfecv = RFECV(estimator = lr, cv = 10, scoring = 'accuracy', step = 1 )\n",
        "rfecv.fit(X_res_df, y_res)"
      ],
      "execution_count": null,
      "outputs": [
        {
          "output_type": "execute_result",
          "data": {
            "text/plain": [
              "RFECV(cv=10,\n",
              "      estimator=LogisticRegression(C=1.0, class_weight=None, dual=False,\n",
              "                                   fit_intercept=True, intercept_scaling=1,\n",
              "                                   l1_ratio=None, max_iter=100,\n",
              "                                   multi_class='auto', n_jobs=None,\n",
              "                                   penalty='l2', random_state=None,\n",
              "                                   solver='lbfgs', tol=0.0001, verbose=0,\n",
              "                                   warm_start=False),\n",
              "      min_features_to_select=1, n_jobs=None, scoring='accuracy', step=1,\n",
              "      verbose=0)"
            ]
          },
          "metadata": {
            "tags": []
          },
          "execution_count": 147
        }
      ]
    },
    {
      "cell_type": "code",
      "metadata": {
        "colab": {
          "base_uri": "https://localhost:8080/",
          "height": 295
        },
        "id": "rcLxnkltz0hU",
        "outputId": "13ed197f-9811-4de0-8831-574415ef0f40"
      },
      "source": [
        "plt.figure()\n",
        "plt.title('Logistic Regression CV score vs Number of Features')\n",
        "plt.xlabel(\"Number of features selected\")\n",
        "plt.ylabel(\"Cross validation score (accuracy)\")\n",
        "plt.plot(range(1, len(rfecv.grid_scores_) + 1), rfecv.grid_scores_)\n",
        "plt.show()"
      ],
      "execution_count": null,
      "outputs": [
        {
          "output_type": "display_data",
          "data": {
            "image/png": "[encoded data removed]",
            "text/plain": [
              "<Figure size 432x288 with 1 Axes>"
            ]
          },
          "metadata": {
            "tags": [],
            "needs_background": "light"
          }
        }
      ]
    },
    {
      "cell_type": "code",
      "metadata": {
        "colab": {
          "base_uri": "https://localhost:8080/"
        },
        "id": "frT0-kiZSGc8",
        "outputId": "b1be5735-c7bb-4558-e074-05658e0b3cbc"
      },
      "source": [
        "# import features selected by rfecv\n",
        "X_res_df.columns[rfecv.support_]"
      ],
      "execution_count": null,
      "outputs": [
        {
          "output_type": "execute_result",
          "data": {
            "text/plain": [
              "Index(['drvr_cnt', 'veh_cnt', 'min_age', 'avg_age', 'min_mon_lic',\n",
              "       'max_mon_lic', 'avg_mon_lic', 'cnt_yth', 'cnt_male', 'hoh_married',\n",
              "       'cnt_auto', 'cnt_minr_viol', 'cnt_lic_susp', 'prior_bi', 'veh_lien_cnt',\n",
              "       'veh_lease_cnt', 'veh_w_coll_cnt', 'veh_w_ers_cnt', 'credit_score',\n",
              "       'premium', 'loss_ratio', 'at_fault_cnt', 'not_at_fault_cnt',\n",
              "       'curnt_insurer_FARMERS', 'curnt_insurer_LIBERTY MUTUAL',\n",
              "       'curnt_insurer_MISSING'],\n",
              "      dtype='object')"
            ]
          },
          "metadata": {
            "tags": []
          },
          "execution_count": 153
        }
      ]
    },
    {
      "cell_type": "code",
      "metadata": {
        "colab": {
          "base_uri": "https://localhost:8080/"
        },
        "id": "sSz449etz0hU",
        "outputId": "41462f05-fd01-4789-ef2c-9e7815b3ca25"
      },
      "source": [
        "rfecv_probs = rfecv.predict_proba(X_test)\n",
        "y_pred = rfecv.predict(X_test)\n",
        "print('Recall: ', recall_score(y_test, y_pred))\n",
        "print('AUC: ', roc_auc_score(y_test, rfecv_probs[:,1]))\n",
        "print('Accuracy: ', rfecv.score(X_test, y_test))"
      ],
      "execution_count": null,
      "outputs": [
        {
          "output_type": "stream",
          "text": [
            "Recall:  0.9943181818181818\n",
            "AUC:  0.9955223048763318\n",
            "Accuracy:  0.9992592592592593\n"
          ],
          "name": "stdout"
        }
      ]
    },
    {
      "cell_type": "code",
      "metadata": {
        "colab": {
          "base_uri": "https://localhost:8080/"
        },
        "id": "-3FUcxFXz0hU",
        "outputId": "0ee380a6-f4ba-4499-c6ba-29920cc4640e"
      },
      "source": [
        "np.unique(y_pred, return_counts = True)"
      ],
      "execution_count": null,
      "outputs": [
        {
          "output_type": "execute_result",
          "data": {
            "text/plain": [
              "(array([0, 1]), array([3873,  177]))"
            ]
          },
          "metadata": {
            "tags": []
          },
          "execution_count": 157
        }
      ]
    },
    {
      "cell_type": "code",
      "metadata": {
        "colab": {
          "base_uri": "https://localhost:8080/"
        },
        "id": "cd60xrwJz0hU",
        "outputId": "2dfa2ebc-2744-4d9d-b187-ad9810355b90"
      },
      "source": [
        "print(classification_report(y_test, y_pred))"
      ],
      "execution_count": null,
      "outputs": [
        {
          "output_type": "stream",
          "text": [
            "              precision    recall  f1-score   support\n",
            "\n",
            "           0       1.00      1.00      1.00      3874\n",
            "           1       0.99      0.99      0.99       176\n",
            "\n",
            "    accuracy                           1.00      4050\n",
            "   macro avg       0.99      1.00      1.00      4050\n",
            "weighted avg       1.00      1.00      1.00      4050\n",
            "\n"
          ],
          "name": "stdout"
        }
      ]
    },
    {
      "cell_type": "markdown",
      "metadata": {
        "id": "uMRhiE1nz0hU"
      },
      "source": [
        "#### Model 2: Logistic Regression with Regularization"
      ]
    },
    {
      "cell_type": "code",
      "metadata": {
        "id": "4IMZL93Hz0hU"
      },
      "source": [
        "# decide on regularization\n",
        "lr_C = [0.001, 0.01, 0.1, 1, 10, 100]\n",
        "lr_scores = []\n",
        "for C in lr_C:\n",
        "    lr_v = LogisticRegression(C=C)\n",
        "    lr_v.fit(X_res_df, y_res)\n",
        "    lr_scores.append(lr_v.score(X_test, y_test))\n",
        "C_bst = lr_C[np.argmax(lr_scores)]\n",
        "print(C_bst)"
      ],
      "execution_count": null,
      "outputs": []
    },
    {
      "cell_type": "code",
      "metadata": {
        "scrolled": true,
        "colab": {
          "base_uri": "https://localhost:8080/"
        },
        "id": "jKs5z6Sez0hV",
        "outputId": "be638a52-efa3-4eb6-e5dd-4feb7e1eb313"
      },
      "source": [
        "lr = LogisticRegression(C = C_bst)\n",
        "lr.fit(X_res_df, y_res)\n",
        "lr_probs = lr.predict_proba(X_test)\n",
        "y_pred = lr.predict(X_test)\n",
        "print('Recall: ', recall_score(y_test, y_pred))\n",
        "print('AUC: ', roc_auc_score(y_test, lr_probs[:,1]))\n",
        "print('Accuracy: ', lr.score(X_test, y_test))\n",
        "print('F1 Score: ', f1_score(y_test, y_pred))"
      ],
      "execution_count": null,
      "outputs": [
        {
          "output_type": "stream",
          "text": [
            "Recall:  0.9943181818181818\n",
            "AUC:  0.9928632609001736\n",
            "Accuracy:  0.9108641975308642\n",
            "F1 Score:  0.4922644163150492\n"
          ],
          "name": "stdout"
        }
      ]
    },
    {
      "cell_type": "markdown",
      "metadata": {
        "id": "3I7fPtHUz0hV"
      },
      "source": [
        "#### Model 3: RandomForest"
      ]
    },
    {
      "cell_type": "code",
      "metadata": {
        "id": "wAqwK9dI_8zr"
      },
      "source": [
        "# Number of trees in random forest\n",
        "n_estimators = [int(x) for x in np.linspace(start = 100, stop = 500, num = 10)]\n",
        "# Number of features to consider at every split\n",
        "max_features = ['auto', 'log2']\n",
        "# Maximum number of levels in tree\n",
        "max_depth = [int(x) for x in np.linspace(10, 100, num = 10)]\n",
        "max_depth.append(None)\n",
        "# Minimum number of samples required to split a node\n",
        "min_samples_split = [2, 5, 10]\n",
        "# Minimum number of samples required at each leaf node\n",
        "min_samples_leaf = [1, 2, 4]\n",
        "\n",
        "random_grid = {'n_estimators': n_estimators,\n",
        "               'max_features': max_features,\n",
        "               'max_depth': max_depth,\n",
        "               'min_samples_split': min_samples_split,\n",
        "               'min_samples_leaf': min_samples_leaf\n",
        "               }"
      ],
      "execution_count": 61,
      "outputs": []
    },
    {
      "cell_type": "code",
      "metadata": {
        "colab": {
          "base_uri": "https://localhost:8080/"
        },
        "id": "AVNrXw5FB6nE",
        "outputId": "676ff8fb-bb38-4187-cf0a-2ac8e6b5949e"
      },
      "source": [
        "rf = RandomForestClassifier()\n",
        "rf_random = RandomizedSearchCV(estimator = rf, param_distributions = random_grid, \n",
        "                               n_iter = 20, cv = 3, verbose=2, random_state=42, \n",
        "                               n_jobs = -1)\n",
        "\n",
        "rf_random.fit(X_res_df, y_res)"
      ],
      "execution_count": 64,
      "outputs": [
        {
          "output_type": "stream",
          "text": [
            "Fitting 3 folds for each of 20 candidates, totalling 60 fits\n"
          ],
          "name": "stdout"
        },
        {
          "output_type": "stream",
          "text": [
            "[Parallel(n_jobs=-1)]: Using backend LokyBackend with 2 concurrent workers.\n",
            "[Parallel(n_jobs=-1)]: Done  37 tasks      | elapsed:  2.8min\n",
            "[Parallel(n_jobs=-1)]: Done  60 out of  60 | elapsed:  4.9min finished\n"
          ],
          "name": "stderr"
        },
        {
          "output_type": "execute_result",
          "data": {
            "text/plain": [
              "RandomizedSearchCV(cv=3, error_score=nan,\n",
              "                   estimator=RandomForestClassifier(bootstrap=True,\n",
              "                                                    ccp_alpha=0.0,\n",
              "                                                    class_weight=None,\n",
              "                                                    criterion='gini',\n",
              "                                                    max_depth=None,\n",
              "                                                    max_features='auto',\n",
              "                                                    max_leaf_nodes=None,\n",
              "                                                    max_samples=None,\n",
              "                                                    min_impurity_decrease=0.0,\n",
              "                                                    min_impurity_split=None,\n",
              "                                                    min_samples_leaf=1,\n",
              "                                                    min_samples_split=2,\n",
              "                                                    min_weight_fraction_leaf=0.0,\n",
              "                                                    n_estimators=100,\n",
              "                                                    n_jobs...\n",
              "                   iid='deprecated', n_iter=20, n_jobs=-1,\n",
              "                   param_distributions={'max_depth': [10, 20, 30, 40, 50, 60,\n",
              "                                                      70, 80, 90, 100, None],\n",
              "                                        'max_features': ['auto', 'log2'],\n",
              "                                        'min_samples_leaf': [1, 2, 4],\n",
              "                                        'min_samples_split': [2, 5, 10],\n",
              "                                        'n_estimators': [100, 144, 188, 233,\n",
              "                                                         277, 322, 366, 411,\n",
              "                                                         455, 500]},\n",
              "                   pre_dispatch='2*n_jobs', random_state=42, refit=True,\n",
              "                   return_train_score=False, scoring=None, verbose=2)"
            ]
          },
          "metadata": {
            "tags": []
          },
          "execution_count": 64
        }
      ]
    },
    {
      "cell_type": "code",
      "metadata": {
        "colab": {
          "base_uri": "https://localhost:8080/"
        },
        "id": "HSZoHgXCJCYF",
        "outputId": "6f22ef76-d216-4bbe-ab10-245fc1f2f7ca"
      },
      "source": [
        "rf_random.best_params_"
      ],
      "execution_count": 65,
      "outputs": [
        {
          "output_type": "execute_result",
          "data": {
            "text/plain": [
              "{'max_depth': 100,\n",
              " 'max_features': 'auto',\n",
              " 'min_samples_leaf': 2,\n",
              " 'min_samples_split': 2,\n",
              " 'n_estimators': 233}"
            ]
          },
          "metadata": {
            "tags": []
          },
          "execution_count": 65
        }
      ]
    },
    {
      "cell_type": "code",
      "metadata": {
        "colab": {
          "base_uri": "https://localhost:8080/"
        },
        "id": "VYR0Q-F2z0hV",
        "outputId": "0bc14347-f8dc-4015-d7c7-07969597935c"
      },
      "source": [
        "clf = RandomForestClassifier(n_estimators=233, max_depth=100, min_samples_leaf=2,\n",
        "                             min_samples_split=2, max_features='auto')\n",
        "clf.fit(X_res_df, y_res)\n",
        "clf.score(X_test, y_test)"
      ],
      "execution_count": 67,
      "outputs": [
        {
          "output_type": "execute_result",
          "data": {
            "text/plain": [
              "1.0"
            ]
          },
          "metadata": {
            "tags": []
          },
          "execution_count": 67
        }
      ]
    },
    {
      "cell_type": "code",
      "metadata": {
        "colab": {
          "base_uri": "https://localhost:8080/",
          "height": 669
        },
        "id": "zGbaO_utZlxz",
        "outputId": "33cb6bd3-ea26-4cce-df79-6bbba2fd843c"
      },
      "source": [
        "feature_importances = pd.DataFrame(clf.feature_importances_,\n",
        "                                   index = X_res_df.columns,\n",
        "                                   columns=['importance']).sort_values('importance', ascending=False)\n",
        "feature_importances[:20]                                   "
      ],
      "execution_count": 68,
      "outputs": [
        {
          "output_type": "execute_result",
          "data": {
            "text/html": [
              "<div>\n",
              "<style scoped>\n",
              "    .dataframe tbody tr th:only-of-type {\n",
              "        vertical-align: middle;\n",
              "    }\n",
              "\n",
              "    .dataframe tbody tr th {\n",
              "        vertical-align: top;\n",
              "    }\n",
              "\n",
              "    .dataframe thead th {\n",
              "        text-align: right;\n",
              "    }\n",
              "</style>\n",
              "<table border=\"1\" class=\"dataframe\">\n",
              "  <thead>\n",
              "    <tr style=\"text-align: right;\">\n",
              "      <th></th>\n",
              "      <th>importance</th>\n",
              "    </tr>\n",
              "  </thead>\n",
              "  <tbody>\n",
              "    <tr>\n",
              "      <th>loss_ratio</th>\n",
              "      <td>0.412993</td>\n",
              "    </tr>\n",
              "    <tr>\n",
              "      <th>prior_bi</th>\n",
              "      <td>0.235658</td>\n",
              "    </tr>\n",
              "    <tr>\n",
              "      <th>credit_score</th>\n",
              "      <td>0.167369</td>\n",
              "    </tr>\n",
              "    <tr>\n",
              "      <th>curnt_insurer_MISSING</th>\n",
              "      <td>0.057692</td>\n",
              "    </tr>\n",
              "    <tr>\n",
              "      <th>avg_mon_lic</th>\n",
              "      <td>0.008561</td>\n",
              "    </tr>\n",
              "    <tr>\n",
              "      <th>veh_w_ers_cnt</th>\n",
              "      <td>0.008313</td>\n",
              "    </tr>\n",
              "    <tr>\n",
              "      <th>veh_w_comp_cnt</th>\n",
              "      <td>0.008256</td>\n",
              "    </tr>\n",
              "    <tr>\n",
              "      <th>max_age</th>\n",
              "      <td>0.008111</td>\n",
              "    </tr>\n",
              "    <tr>\n",
              "      <th>veh_w_coll_cnt</th>\n",
              "      <td>0.008053</td>\n",
              "    </tr>\n",
              "    <tr>\n",
              "      <th>veh_lien_cnt</th>\n",
              "      <td>0.007934</td>\n",
              "    </tr>\n",
              "    <tr>\n",
              "      <th>premium</th>\n",
              "      <td>0.006671</td>\n",
              "    </tr>\n",
              "    <tr>\n",
              "      <th>avg_age</th>\n",
              "      <td>0.006653</td>\n",
              "    </tr>\n",
              "    <tr>\n",
              "      <th>veh_own_cnt</th>\n",
              "      <td>0.006290</td>\n",
              "    </tr>\n",
              "    <tr>\n",
              "      <th>max_mon_lic</th>\n",
              "      <td>0.005659</td>\n",
              "    </tr>\n",
              "    <tr>\n",
              "      <th>hoh_age</th>\n",
              "      <td>0.005180</td>\n",
              "    </tr>\n",
              "    <tr>\n",
              "      <th>cnt_male</th>\n",
              "      <td>0.004465</td>\n",
              "    </tr>\n",
              "    <tr>\n",
              "      <th>cnt_female</th>\n",
              "      <td>0.004191</td>\n",
              "    </tr>\n",
              "    <tr>\n",
              "      <th>hoh_mon_lic</th>\n",
              "      <td>0.004186</td>\n",
              "    </tr>\n",
              "    <tr>\n",
              "      <th>time_w_carr</th>\n",
              "      <td>0.003429</td>\n",
              "    </tr>\n",
              "    <tr>\n",
              "      <th>curnt_bi_upp</th>\n",
              "      <td>0.003427</td>\n",
              "    </tr>\n",
              "  </tbody>\n",
              "</table>\n",
              "</div>"
            ],
            "text/plain": [
              "                       importance\n",
              "loss_ratio               0.412993\n",
              "prior_bi                 0.235658\n",
              "credit_score             0.167369\n",
              "curnt_insurer_MISSING    0.057692\n",
              "avg_mon_lic              0.008561\n",
              "veh_w_ers_cnt            0.008313\n",
              "veh_w_comp_cnt           0.008256\n",
              "max_age                  0.008111\n",
              "veh_w_coll_cnt           0.008053\n",
              "veh_lien_cnt             0.007934\n",
              "premium                  0.006671\n",
              "avg_age                  0.006653\n",
              "veh_own_cnt              0.006290\n",
              "max_mon_lic              0.005659\n",
              "hoh_age                  0.005180\n",
              "cnt_male                 0.004465\n",
              "cnt_female               0.004191\n",
              "hoh_mon_lic              0.004186\n",
              "time_w_carr              0.003429\n",
              "curnt_bi_upp             0.003427"
            ]
          },
          "metadata": {
            "tags": []
          },
          "execution_count": 68
        }
      ]
    },
    {
      "cell_type": "code",
      "metadata": {
        "colab": {
          "base_uri": "https://localhost:8080/"
        },
        "id": "zmIpM03iz0hV",
        "outputId": "68c1c140-b78b-4da7-9218-68837efb927f"
      },
      "source": [
        "y_pred = clf.predict(X_test)\n",
        "print(classification_report(y_test, y_pred))"
      ],
      "execution_count": 69,
      "outputs": [
        {
          "output_type": "stream",
          "text": [
            "              precision    recall  f1-score   support\n",
            "\n",
            "           0       1.00      1.00      1.00      3874\n",
            "           1       1.00      1.00      1.00       176\n",
            "\n",
            "    accuracy                           1.00      4050\n",
            "   macro avg       1.00      1.00      1.00      4050\n",
            "weighted avg       1.00      1.00      1.00      4050\n",
            "\n"
          ],
          "name": "stdout"
        }
      ]
    },
    {
      "cell_type": "code",
      "metadata": {
        "colab": {
          "base_uri": "https://localhost:8080/"
        },
        "id": "RqUIyKUFz0hW",
        "outputId": "e13728fd-fb69-4612-b399-59ff51654ecc"
      },
      "source": [
        "np.unique(y_pred, return_counts = True)"
      ],
      "execution_count": 70,
      "outputs": [
        {
          "output_type": "execute_result",
          "data": {
            "text/plain": [
              "(array([0, 1]), array([3874,  176]))"
            ]
          },
          "metadata": {
            "tags": []
          },
          "execution_count": 70
        }
      ]
    },
    {
      "cell_type": "code",
      "metadata": {
        "colab": {
          "base_uri": "https://localhost:8080/"
        },
        "id": "bvQ0YMGBWvvb",
        "outputId": "e55fafac-943e-466b-9396-eeb59a88bd44"
      },
      "source": [
        "print('F1 Score: ', f1_score(y_test, y_pred))"
      ],
      "execution_count": 71,
      "outputs": [
        {
          "output_type": "stream",
          "text": [
            "F1 Score:  1.0\n"
          ],
          "name": "stdout"
        }
      ]
    },
    {
      "cell_type": "markdown",
      "metadata": {
        "id": "GZXUn4xMz0hW"
      },
      "source": [
        "#### Model 4: Neural Network"
      ]
    },
    {
      "cell_type": "code",
      "metadata": {
        "id": "Zk7jNi8sz0hW"
      },
      "source": [
        "tf_seed = 24\n",
        "tf.keras.backend.clear_session()\n",
        "tf.random.set_seed(tf_seed)\n",
        "\n",
        "inputs = keras.Input(shape=(X_res_df.shape[1],))\n",
        "x = keras.layers.Dense(32, activation='relu')(inputs)\n",
        "outputs = keras.layers.Dense(1, activation='sigmoid')(x)\n",
        "model = keras.Model(inputs=inputs, outputs=outputs)"
      ],
      "execution_count": null,
      "outputs": []
    },
    {
      "cell_type": "code",
      "metadata": {
        "colab": {
          "base_uri": "https://localhost:8080/"
        },
        "id": "vUy2xUMOATHz",
        "outputId": "59857f0c-0ddc-4d52-bbfa-2869a4af8325"
      },
      "source": [
        "model.summary()"
      ],
      "execution_count": null,
      "outputs": [
        {
          "output_type": "stream",
          "text": [
            "Model: \"model\"\n",
            "_________________________________________________________________\n",
            "Layer (type)                 Output Shape              Param #   \n",
            "=================================================================\n",
            "input_1 (InputLayer)         [(None, 51)]              0         \n",
            "_________________________________________________________________\n",
            "dense (Dense)                (None, 32)                1664      \n",
            "_________________________________________________________________\n",
            "dense_1 (Dense)              (None, 1)                 33        \n",
            "=================================================================\n",
            "Total params: 1,697\n",
            "Trainable params: 1,697\n",
            "Non-trainable params: 0\n",
            "_________________________________________________________________\n"
          ],
          "name": "stdout"
        }
      ]
    },
    {
      "cell_type": "code",
      "metadata": {
        "colab": {
          "base_uri": "https://localhost:8080/",
          "height": 272
        },
        "id": "88hRw78rAU0J",
        "outputId": "f7cd0501-8bf8-4ad3-e345-dc1c27728d87"
      },
      "source": [
        "keras.utils.plot_model(model)"
      ],
      "execution_count": null,
      "outputs": [
        {
          "output_type": "execute_result",
          "data": {
            "image/png": "[encoded data removed]",
            "text/plain": [
              "<IPython.core.display.Image object>"
            ]
          },
          "metadata": {
            "tags": []
          },
          "execution_count": 177
        }
      ]
    },
    {
      "cell_type": "code",
      "metadata": {
        "id": "XmMXlYAqAfBE"
      },
      "source": [
        "early_stop = tf.keras.callbacks.EarlyStopping(monitor='val_accuracy', patience=5,\n",
        "                                              restore_best_weights=True)"
      ],
      "execution_count": null,
      "outputs": []
    },
    {
      "cell_type": "code",
      "metadata": {
        "colab": {
          "base_uri": "https://localhost:8080/"
        },
        "id": "jvfsgFr1CJwY",
        "outputId": "af1b3ca1-b72d-4238-d29e-6ea83852f163"
      },
      "source": [
        "model.compile(optimizer=tf.keras.optimizers.Adam(learning_rate=0.001),\n",
        "              loss='binary_crossentropy', metrics=['accuracy'])\n",
        "model.fit(X_res_df, y_res, \n",
        "          validation_split = 0.2,\n",
        "          batch_size=32, epochs=20, verbose=1, callbacks=[early_stop])"
      ],
      "execution_count": null,
      "outputs": [
        {
          "output_type": "stream",
          "text": [
            "Epoch 1/20\n",
            "775/775 [==============================] - 3s 3ms/step - loss: 0.4099 - accuracy: 0.8132 - val_loss: 0.0939 - val_accuracy: 0.9971\n",
            "Epoch 2/20\n",
            "775/775 [==============================] - 2s 3ms/step - loss: 0.0466 - accuracy: 0.9968 - val_loss: 0.0276 - val_accuracy: 0.9984\n",
            "Epoch 3/20\n",
            "775/775 [==============================] - 2s 3ms/step - loss: 0.0188 - accuracy: 0.9983 - val_loss: 0.0116 - val_accuracy: 0.9990\n",
            "Epoch 4/20\n",
            "775/775 [==============================] - 2s 3ms/step - loss: 0.0103 - accuracy: 0.9991 - val_loss: 0.0092 - val_accuracy: 0.9990\n",
            "Epoch 5/20\n",
            "775/775 [==============================] - 2s 3ms/step - loss: 0.0059 - accuracy: 0.9997 - val_loss: 0.0084 - val_accuracy: 0.9987\n",
            "Epoch 6/20\n",
            "775/775 [==============================] - 2s 3ms/step - loss: 0.0047 - accuracy: 0.9997 - val_loss: 0.0070 - val_accuracy: 0.9989\n",
            "Epoch 7/20\n",
            "775/775 [==============================] - 2s 3ms/step - loss: 0.0038 - accuracy: 0.9995 - val_loss: 0.0032 - val_accuracy: 0.9992\n",
            "Epoch 8/20\n",
            "775/775 [==============================] - 2s 3ms/step - loss: 0.0025 - accuracy: 0.9997 - val_loss: 0.0035 - val_accuracy: 0.9989\n",
            "Epoch 9/20\n",
            "775/775 [==============================] - 2s 3ms/step - loss: 0.0018 - accuracy: 0.9998 - val_loss: 6.7881e-04 - val_accuracy: 0.9998\n",
            "Epoch 10/20\n",
            "775/775 [==============================] - 2s 3ms/step - loss: 0.0017 - accuracy: 0.9998 - val_loss: 0.0013 - val_accuracy: 0.9995\n",
            "Epoch 11/20\n",
            "775/775 [==============================] - 2s 3ms/step - loss: 0.0014 - accuracy: 0.9999 - val_loss: 8.2409e-04 - val_accuracy: 0.9998\n",
            "Epoch 12/20\n",
            "775/775 [==============================] - 2s 3ms/step - loss: 7.6155e-04 - accuracy: 1.0000 - val_loss: 0.0014 - val_accuracy: 0.9997\n",
            "Epoch 13/20\n",
            "775/775 [==============================] - 2s 3ms/step - loss: 0.0011 - accuracy: 0.9998 - val_loss: 4.3143e-04 - val_accuracy: 0.9998\n",
            "Epoch 14/20\n",
            "775/775 [==============================] - 2s 3ms/step - loss: 4.9532e-04 - accuracy: 0.9999 - val_loss: 3.1248e-04 - val_accuracy: 1.0000\n",
            "Epoch 15/20\n",
            "775/775 [==============================] - 2s 3ms/step - loss: 3.5269e-04 - accuracy: 1.0000 - val_loss: 5.0005e-04 - val_accuracy: 1.0000\n",
            "Epoch 16/20\n",
            "775/775 [==============================] - 2s 3ms/step - loss: 4.8143e-04 - accuracy: 0.9999 - val_loss: 4.0683e-04 - val_accuracy: 1.0000\n",
            "Epoch 17/20\n",
            "775/775 [==============================] - 2s 3ms/step - loss: 3.1287e-04 - accuracy: 0.9999 - val_loss: 7.3324e-05 - val_accuracy: 1.0000\n",
            "Epoch 18/20\n",
            "775/775 [==============================] - 2s 3ms/step - loss: 2.5261e-04 - accuracy: 1.0000 - val_loss: 1.6596e-04 - val_accuracy: 1.0000\n",
            "Epoch 19/20\n",
            "775/775 [==============================] - 2s 3ms/step - loss: 2.4501e-04 - accuracy: 1.0000 - val_loss: 2.8081e-04 - val_accuracy: 1.0000\n"
          ],
          "name": "stdout"
        },
        {
          "output_type": "execute_result",
          "data": {
            "text/plain": [
              "<tensorflow.python.keras.callbacks.History at 0x7f703245ec90>"
            ]
          },
          "metadata": {
            "tags": []
          },
          "execution_count": 179
        }
      ]
    },
    {
      "cell_type": "code",
      "metadata": {
        "colab": {
          "base_uri": "https://localhost:8080/"
        },
        "id": "F58u7_XLDwVt",
        "outputId": "a1f88176-81db-41c1-dee9-113693f2fca0"
      },
      "source": [
        "model.evaluate(X_test, y_test, return_dict = True)"
      ],
      "execution_count": null,
      "outputs": [
        {
          "output_type": "stream",
          "text": [
            "127/127 [==============================] - 0s 2ms/step - loss: 0.0070 - accuracy: 0.9998\n"
          ],
          "name": "stdout"
        },
        {
          "output_type": "execute_result",
          "data": {
            "text/plain": [
              "{'accuracy': 0.9997530579566956, 'loss': 0.006988853216171265}"
            ]
          },
          "metadata": {
            "tags": []
          },
          "execution_count": 180
        }
      ]
    },
    {
      "cell_type": "code",
      "metadata": {
        "colab": {
          "base_uri": "https://localhost:8080/"
        },
        "id": "oeOr0wYNEPGB",
        "outputId": "338cdadc-ed4b-4339-ecc4-425174dab137"
      },
      "source": [
        "def func_conv(x):\n",
        "  if x >= 0.5:\n",
        "    return 1\n",
        "  else:\n",
        "    return 0\n",
        "\n",
        "y_pred = model.predict(X_test).reshape(1,-1)\n",
        "y_pred = np.apply_along_axis(func_conv, 0, y_pred)\n",
        "print(classification_report(y_test, y_pred))"
      ],
      "execution_count": null,
      "outputs": [
        {
          "output_type": "stream",
          "text": [
            "              precision    recall  f1-score   support\n",
            "\n",
            "           0       1.00      1.00      1.00      3874\n",
            "           1       1.00      0.99      1.00       176\n",
            "\n",
            "    accuracy                           1.00      4050\n",
            "   macro avg       1.00      1.00      1.00      4050\n",
            "weighted avg       1.00      1.00      1.00      4050\n",
            "\n"
          ],
          "name": "stdout"
        }
      ]
    },
    {
      "cell_type": "code",
      "metadata": {
        "colab": {
          "base_uri": "https://localhost:8080/"
        },
        "id": "zEE1jundE3Pf",
        "outputId": "a2da99e4-e7a1-4f28-c99d-d5e53a454900"
      },
      "source": [
        "np.unique(y_pred, return_counts=True)"
      ],
      "execution_count": null,
      "outputs": [
        {
          "output_type": "execute_result",
          "data": {
            "text/plain": [
              "(array([0, 1]), array([3875,  175]))"
            ]
          },
          "metadata": {
            "tags": []
          },
          "execution_count": 183
        }
      ]
    },
    {
      "cell_type": "code",
      "metadata": {
        "id": "132ac1lnVp5D"
      },
      "source": [
        ""
      ],
      "execution_count": null,
      "outputs": []
    }
  ]
}